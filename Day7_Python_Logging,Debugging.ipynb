{
 "cells": [
  {
   "cell_type": "markdown",
   "id": "165132b9",
   "metadata": {},
   "source": [
    "# Day7_Python_Logging,Debugging."
   ]
  },
  {
   "cell_type": "code",
   "execution_count": 1,
   "id": "578671ff",
   "metadata": {},
   "outputs": [],
   "source": [
    "import logging as lg\n"
   ]
  },
  {
   "cell_type": "code",
   "execution_count": 2,
   "id": "fe91dac5",
   "metadata": {},
   "outputs": [],
   "source": [
    "import os"
   ]
  },
  {
   "cell_type": "code",
   "execution_count": 6,
   "id": "dc968059",
   "metadata": {},
   "outputs": [
    {
     "data": {
      "text/plain": [
       "\"C:\\\\Users\\\\udayk\\\\Uday's Practice\""
      ]
     },
     "execution_count": 6,
     "metadata": {},
     "output_type": "execute_result"
    }
   ],
   "source": [
    "pwd"
   ]
  },
  {
   "cell_type": "code",
   "execution_count": 3,
   "id": "6689fc74",
   "metadata": {},
   "outputs": [
    {
     "ename": "FileExistsError",
     "evalue": "[WinError 183] Cannot create a file when that file already exists: 'logging'",
     "output_type": "error",
     "traceback": [
      "\u001b[1;31m---------------------------------------------------------------------------\u001b[0m",
      "\u001b[1;31mFileExistsError\u001b[0m                           Traceback (most recent call last)",
      "\u001b[1;32m~\\AppData\\Local\\Temp/ipykernel_16120/325184697.py\u001b[0m in \u001b[0;36m<module>\u001b[1;34m\u001b[0m\n\u001b[1;32m----> 1\u001b[1;33m \u001b[0mos\u001b[0m\u001b[1;33m.\u001b[0m\u001b[0mmkdir\u001b[0m\u001b[1;33m(\u001b[0m\u001b[1;34m\"logging\"\u001b[0m\u001b[1;33m)\u001b[0m\u001b[1;33m\u001b[0m\u001b[1;33m\u001b[0m\u001b[0m\n\u001b[0m",
      "\u001b[1;31mFileExistsError\u001b[0m: [WinError 183] Cannot create a file when that file already exists: 'logging'"
     ]
    }
   ],
   "source": [
    "os.mkdir(\"logging\")"
   ]
  },
  {
   "cell_type": "code",
   "execution_count": 4,
   "id": "87ec9fa6",
   "metadata": {},
   "outputs": [],
   "source": [
    "os.chdir(os.getcwd() +\"/\"+\"logging\")"
   ]
  },
  {
   "cell_type": "code",
   "execution_count": 5,
   "id": "917346a3",
   "metadata": {},
   "outputs": [
    {
     "data": {
      "text/plain": [
       "\"C:\\\\Users\\\\udayk\\\\Uday's Practice\\\\logging\""
      ]
     },
     "execution_count": 5,
     "metadata": {},
     "output_type": "execute_result"
    }
   ],
   "source": [
    "pwd()"
   ]
  },
  {
   "cell_type": "code",
   "execution_count": 10,
   "id": "b4334287",
   "metadata": {},
   "outputs": [],
   "source": [
    "lg.basicConfig(filename = 'test.log',level=lg.INFO)"
   ]
  },
  {
   "cell_type": "code",
   "execution_count": 11,
   "id": "c6564e4d",
   "metadata": {},
   "outputs": [],
   "source": [
    "lg.info(\"I am going to create my first log\")"
   ]
  },
  {
   "cell_type": "code",
   "execution_count": 1,
   "id": "36f8485f",
   "metadata": {},
   "outputs": [],
   "source": [
    "import logging as lg"
   ]
  },
  {
   "cell_type": "code",
   "execution_count": 2,
   "id": "e9401519",
   "metadata": {},
   "outputs": [
    {
     "data": {
      "text/plain": [
       "\"C:\\\\Users\\\\udayk\\\\Uday's Practice\""
      ]
     },
     "execution_count": 2,
     "metadata": {},
     "output_type": "execute_result"
    }
   ],
   "source": [
    "pwd"
   ]
  },
  {
   "cell_type": "code",
   "execution_count": 4,
   "id": "ca2872c0",
   "metadata": {},
   "outputs": [],
   "source": [
    "import os"
   ]
  },
  {
   "cell_type": "code",
   "execution_count": 7,
   "id": "f61eb471",
   "metadata": {},
   "outputs": [],
   "source": [
    "os.chdir(os.getcwd() +\"/\"+\"logging\")"
   ]
  },
  {
   "cell_type": "code",
   "execution_count": 8,
   "id": "b056a4f3",
   "metadata": {},
   "outputs": [
    {
     "data": {
      "text/plain": [
       "\"C:\\\\Users\\\\udayk\\\\Uday's Practice\\\\logging\""
      ]
     },
     "execution_count": 8,
     "metadata": {},
     "output_type": "execute_result"
    }
   ],
   "source": [
    "pwd"
   ]
  },
  {
   "cell_type": "code",
   "execution_count": 6,
   "id": "b6d67819",
   "metadata": {},
   "outputs": [],
   "source": [
    "lg.basicConfig(filename =\"C:\\\\Users\\\\udayk\\\\Uday's Practice\\\\logging\\\\test.log\",level=lg.INFO,format='%(asctime)s %(message)s')"
   ]
  },
  {
   "cell_type": "code",
   "execution_count": 7,
   "id": "dfad7dc2",
   "metadata": {},
   "outputs": [],
   "source": [
    "lg.info(\"I am going to create my first log\")"
   ]
  },
  {
   "cell_type": "code",
   "execution_count": 8,
   "id": "a1b7e153",
   "metadata": {},
   "outputs": [],
   "source": [
    "lg.warning(\"This is my first warning of my program so modify it\")"
   ]
  },
  {
   "cell_type": "code",
   "execution_count": 9,
   "id": "97726532",
   "metadata": {},
   "outputs": [],
   "source": [
    "lg.error(\"This is my first error so handle it\")"
   ]
  },
  {
   "cell_type": "code",
   "execution_count": 16,
   "id": "7f1e7f82",
   "metadata": {},
   "outputs": [],
   "source": [
    "def test(a,b):\n",
    "    try:\n",
    "        lg.info(str(a)+\" \"+str(b))\n",
    "        div= a/b\n",
    "        return div\n",
    "    except Exception as e:\n",
    "        print(\"You can check your log for more info if your code will fail\")\n",
    "        lg.error(\"Error has occured\")\n",
    "        lg.exception(str(e))"
   ]
  },
  {
   "cell_type": "code",
   "execution_count": 21,
   "id": "22ced574",
   "metadata": {},
   "outputs": [
    {
     "data": {
      "text/plain": [
       "1.0"
      ]
     },
     "execution_count": 21,
     "metadata": {},
     "output_type": "execute_result"
    }
   ],
   "source": [
    "test(4,4)"
   ]
  },
  {
   "cell_type": "code",
   "execution_count": 24,
   "id": "ce522240",
   "metadata": {},
   "outputs": [],
   "source": [
    "lg.debug(\"This is for debugging.\")"
   ]
  },
  {
   "cell_type": "code",
   "execution_count": 22,
   "id": "f01570a8",
   "metadata": {},
   "outputs": [],
   "source": [
    "lg.debug(\"Uday\")"
   ]
  },
  {
   "cell_type": "code",
   "execution_count": 27,
   "id": "6a756533",
   "metadata": {},
   "outputs": [],
   "source": [
    "lg.critical(\"This is critical\")"
   ]
  },
  {
   "cell_type": "code",
   "execution_count": 25,
   "id": "d6e4f3ea",
   "metadata": {},
   "outputs": [],
   "source": [
    "lg.shutdown()"
   ]
  },
  {
   "cell_type": "code",
   "execution_count": 1,
   "id": "b36f3b75",
   "metadata": {},
   "outputs": [],
   "source": [
    "import logging as lg"
   ]
  },
  {
   "cell_type": "code",
   "execution_count": 2,
   "id": "e24f6d01",
   "metadata": {},
   "outputs": [],
   "source": [
    "lg.basicConfig(filename =\"C:\\\\Users\\\\udayk\\\\Uday's Practice\\\\logging\\\\test1.log\",level=lg.INFO,format='%(asctime)s %(message)s')"
   ]
  },
  {
   "cell_type": "code",
   "execution_count": 19,
   "id": "93d3aa83",
   "metadata": {},
   "outputs": [],
   "source": [
    "def fun1(*args):\n",
    "    s=0\n",
    "    lg.info(\"you are in fun1\")\n",
    "    lg.info(str(args))\n",
    "    for i in args:\n",
    "        s= s+i\n",
    "    return s"
   ]
  },
  {
   "cell_type": "code",
   "execution_count": 20,
   "id": "4fb14ba7",
   "metadata": {},
   "outputs": [
    {
     "data": {
      "text/plain": [
       "21"
      ]
     },
     "execution_count": 20,
     "metadata": {},
     "output_type": "execute_result"
    }
   ],
   "source": [
    "fun1(1,2,3,4,5,6)"
   ]
  },
  {
   "cell_type": "code",
   "execution_count": 5,
   "id": "9896ace1",
   "metadata": {},
   "outputs": [
    {
     "data": {
      "text/plain": [
       "\"C:\\\\Users\\\\udayk\\\\Uday's Practice\""
      ]
     },
     "execution_count": 5,
     "metadata": {},
     "output_type": "execute_result"
    }
   ],
   "source": [
    "pwd"
   ]
  },
  {
   "cell_type": "code",
   "execution_count": 6,
   "id": "ea177874",
   "metadata": {},
   "outputs": [],
   "source": [
    "f= open(\"C:\\\\Users\\\\udayk\\\\Uday's Practice\\\\logging\\\\test1.log\",\"r+\")"
   ]
  },
  {
   "cell_type": "code",
   "execution_count": 10,
   "id": "87e6bb49",
   "metadata": {},
   "outputs": [
    {
     "data": {
      "text/plain": [
       "'2022-05-14 18:19:44,864 you are in fun1\\n2022-05-14 18:19:44,864 (1, 2, 3, 4, 5, 6)\\n'"
      ]
     },
     "execution_count": 10,
     "metadata": {},
     "output_type": "execute_result"
    }
   ],
   "source": [
    "f.read()"
   ]
  },
  {
   "cell_type": "code",
   "execution_count": 11,
   "id": "3d7060c0",
   "metadata": {},
   "outputs": [
    {
     "data": {
      "text/plain": [
       "0"
      ]
     },
     "execution_count": 11,
     "metadata": {},
     "output_type": "execute_result"
    }
   ],
   "source": [
    "f.seek(0)"
   ]
  },
  {
   "cell_type": "code",
   "execution_count": 12,
   "id": "f47523c6",
   "metadata": {},
   "outputs": [
    {
     "data": {
      "text/plain": [
       "'2022-05-14 18:14:50,859 (1, 2, 3, 4, 5, 6)\\n2022-05-14 18:19:44,864 you are in fun1\\n2022-05-14 18:19:44,864 (1, 2, 3, 4, 5, 6)\\n'"
      ]
     },
     "execution_count": 12,
     "metadata": {},
     "output_type": "execute_result"
    }
   ],
   "source": [
    "f.read()"
   ]
  },
  {
   "cell_type": "code",
   "execution_count": 13,
   "id": "f7cc53f9",
   "metadata": {},
   "outputs": [],
   "source": [
    "lg.basicConfig(filename =\"C:\\\\Users\\\\udayk\\\\Uday's Practice\\\\logging\\\\test1.log\",level=lg.INFO,format='%(asctime)s %(levelname)s %(message)s')"
   ]
  },
  {
   "cell_type": "code",
   "execution_count": 16,
   "id": "ec7047f0",
   "metadata": {},
   "outputs": [],
   "source": [
    "console_log = lg.StreamHandler()\n",
    "console_log.setLevel(lg.INFO)"
   ]
  },
  {
   "cell_type": "code",
   "execution_count": 17,
   "id": "7449115e",
   "metadata": {},
   "outputs": [],
   "source": [
    "format = '%(asctime)s %(levelname)s %(message)s'"
   ]
  },
  {
   "cell_type": "code",
   "execution_count": 18,
   "id": "948a5737",
   "metadata": {},
   "outputs": [],
   "source": [
    "console_log.setFormatter(format)"
   ]
  },
  {
   "cell_type": "code",
   "execution_count": 21,
   "id": "fc064d70",
   "metadata": {},
   "outputs": [],
   "source": [
    "def fun1(*args):\n",
    "    s=0\n",
    "    lg.info(\"you are in fun1\")\n",
    "    lg.info(str(args))\n",
    "    for i in args:\n",
    "        s= s+i\n",
    "    return s\n"
   ]
  },
  {
   "cell_type": "code",
   "execution_count": 22,
   "id": "ecf4cb01",
   "metadata": {},
   "outputs": [],
   "source": [
    "lg.info(\"This is my Info\")"
   ]
  },
  {
   "cell_type": "code",
   "execution_count": 21,
   "id": "3033c68a",
   "metadata": {},
   "outputs": [
    {
     "name": "stderr",
     "output_type": "stream",
     "text": [
      "%(asctime)s %(levelname)s %(message)s\n",
      "%(asctime)s %(levelname)s %(message)s\n",
      "%(asctime)s %(levelname)s %(message)s\n",
      "%(asctime)s %(levelname)s %(message)s\n",
      "%(asctime)s %(levelname)s %(message)s\n",
      "%(asctime)s %(levelname)s %(message)s\n"
     ]
    }
   ],
   "source": [
    "import logging as lg\n",
    "lg.basicConfig(filename =\"C:\\\\Users\\\\udayk\\\\Uday's Practice\\\\logging\\\\test2.log\",level=lg.debug,format='%(asctime)s %(levelname)s %(message)s')\n",
    "console_log = lg.StreamHandler()\n",
    "console_log.setLevel(lg.INFO)\n",
    "format = '%(asctime)s %(levelname)s %(message)s'\n",
    "console_log.setFormatter(format)\n",
    "lg.getLogger('').addHandler(console_log)\n",
    "lg.info(\"This is my first test code\")\n",
    "logger1=lg.getLogger('logger1.area1')\n",
    "logger2 = lg.getLogger('logger2.area2')\n",
    "logger1.info(\"this info is for looger one\")\n",
    "logger2.debug(\"this debug for looger two\")\n",
    "logger2.info(\"this info is for logger two\")"
   ]
  },
  {
   "cell_type": "code",
   "execution_count": 3,
   "id": "8601de17",
   "metadata": {},
   "outputs": [],
   "source": [
    "lg.basicConfig(filename =\"C:\\\\Users\\\\udayk\\\\Uday's Practice\\\\logging\\\\test1.log\",level=lg.debug,format='%(asctime)s %(levelname)s %(message)s')"
   ]
  },
  {
   "cell_type": "code",
   "execution_count": 4,
   "id": "8e6e58b9",
   "metadata": {},
   "outputs": [],
   "source": [
    "console_log = lg.StreamHandler()\n",
    "console_log.setLevel(lg.INFO)"
   ]
  },
  {
   "cell_type": "code",
   "execution_count": 7,
   "id": "dc04baa8",
   "metadata": {},
   "outputs": [],
   "source": [
    "format = '%(asctime)s %(levelname)s %(message)s'"
   ]
  },
  {
   "cell_type": "code",
   "execution_count": 8,
   "id": "9f30e015",
   "metadata": {},
   "outputs": [],
   "source": [
    "console_log.setFormatter(format)"
   ]
  },
  {
   "cell_type": "code",
   "execution_count": 15,
   "id": "08a25d14",
   "metadata": {},
   "outputs": [],
   "source": [
    "lg.getLogger('').addHandler(console_log)"
   ]
  },
  {
   "cell_type": "code",
   "execution_count": 16,
   "id": "9ecb770d",
   "metadata": {},
   "outputs": [
    {
     "name": "stderr",
     "output_type": "stream",
     "text": [
      "%(asctime)s %(levelname)s %(message)s\n"
     ]
    }
   ],
   "source": [
    "lg.info(\"This is my first test code\")"
   ]
  },
  {
   "cell_type": "code",
   "execution_count": 17,
   "id": "c524f96f",
   "metadata": {},
   "outputs": [],
   "source": [
    "logger1=lg.getLogger('logger1.area1')\n",
    "logger2 = lg.getLogger('logger2.area2')"
   ]
  },
  {
   "cell_type": "code",
   "execution_count": 18,
   "id": "902304c9",
   "metadata": {},
   "outputs": [
    {
     "name": "stderr",
     "output_type": "stream",
     "text": [
      "%(asctime)s %(levelname)s %(message)s\n"
     ]
    }
   ],
   "source": [
    "logger1.info(\"this info is for looger one\")"
   ]
  },
  {
   "cell_type": "code",
   "execution_count": 19,
   "id": "fd1f0f46",
   "metadata": {},
   "outputs": [],
   "source": [
    "logger2.debug(\"this debug for looger two\")"
   ]
  },
  {
   "cell_type": "code",
   "execution_count": 20,
   "id": "1697afab",
   "metadata": {},
   "outputs": [
    {
     "name": "stderr",
     "output_type": "stream",
     "text": [
      "%(asctime)s %(levelname)s %(message)s\n"
     ]
    }
   ],
   "source": [
    "logger2.info(\"this info is for logger two\")"
   ]
  },
  {
   "cell_type": "code",
   "execution_count": 1,
   "id": "4499df60",
   "metadata": {},
   "outputs": [
    {
     "ename": "TypeError",
     "evalue": "Level not an integer or a valid string: <function debug at 0x000001A90EAA1820>",
     "output_type": "error",
     "traceback": [
      "\u001b[1;31m---------------------------------------------------------------------------\u001b[0m",
      "\u001b[1;31mTypeError\u001b[0m                                 Traceback (most recent call last)",
      "\u001b[1;32m~\\AppData\\Local\\Temp/ipykernel_13004/3564658291.py\u001b[0m in \u001b[0;36m<module>\u001b[1;34m\u001b[0m\n\u001b[0;32m      1\u001b[0m \u001b[1;32mimport\u001b[0m \u001b[0mlogging\u001b[0m \u001b[1;32mas\u001b[0m \u001b[0mlg\u001b[0m\u001b[1;33m\u001b[0m\u001b[1;33m\u001b[0m\u001b[0m\n\u001b[1;32m----> 2\u001b[1;33m \u001b[0mlg\u001b[0m\u001b[1;33m.\u001b[0m\u001b[0mbasicConfig\u001b[0m\u001b[1;33m(\u001b[0m\u001b[0mfilename\u001b[0m \u001b[1;33m=\u001b[0m\u001b[1;34m\"C:\\\\Users\\\\udayk\\\\Uday's Practice\\\\logging\\\\test2.log\"\u001b[0m\u001b[1;33m,\u001b[0m\u001b[0mlevel\u001b[0m\u001b[1;33m=\u001b[0m\u001b[0mlg\u001b[0m\u001b[1;33m.\u001b[0m\u001b[0mdebug\u001b[0m\u001b[1;33m,\u001b[0m\u001b[0mformat\u001b[0m\u001b[1;33m=\u001b[0m\u001b[1;34m'%(asctime)s %(levelname)s %(message)s'\u001b[0m\u001b[1;33m)\u001b[0m\u001b[1;33m\u001b[0m\u001b[1;33m\u001b[0m\u001b[0m\n\u001b[0m\u001b[0;32m      3\u001b[0m \u001b[0mconsole_log\u001b[0m \u001b[1;33m=\u001b[0m \u001b[0mlg\u001b[0m\u001b[1;33m.\u001b[0m\u001b[0mStreamHandler\u001b[0m\u001b[1;33m(\u001b[0m\u001b[1;33m)\u001b[0m\u001b[1;33m\u001b[0m\u001b[1;33m\u001b[0m\u001b[0m\n\u001b[0;32m      4\u001b[0m \u001b[0mconsole_log\u001b[0m\u001b[1;33m.\u001b[0m\u001b[0msetLevel\u001b[0m\u001b[1;33m(\u001b[0m\u001b[0mlg\u001b[0m\u001b[1;33m.\u001b[0m\u001b[0mINFO\u001b[0m\u001b[1;33m)\u001b[0m\u001b[1;33m\u001b[0m\u001b[1;33m\u001b[0m\u001b[0m\n\u001b[0;32m      5\u001b[0m \u001b[0mformat\u001b[0m \u001b[1;33m=\u001b[0m \u001b[1;34m'%(asctime)s %(levelname)s %(message)s'\u001b[0m\u001b[1;33m\u001b[0m\u001b[1;33m\u001b[0m\u001b[0m\n",
      "\u001b[1;32m~\\anaconda3\\lib\\logging\\__init__.py\u001b[0m in \u001b[0;36mbasicConfig\u001b[1;34m(**kwargs)\u001b[0m\n\u001b[0;32m   2020\u001b[0m             \u001b[0mlevel\u001b[0m \u001b[1;33m=\u001b[0m \u001b[0mkwargs\u001b[0m\u001b[1;33m.\u001b[0m\u001b[0mpop\u001b[0m\u001b[1;33m(\u001b[0m\u001b[1;34m\"level\"\u001b[0m\u001b[1;33m,\u001b[0m \u001b[1;32mNone\u001b[0m\u001b[1;33m)\u001b[0m\u001b[1;33m\u001b[0m\u001b[1;33m\u001b[0m\u001b[0m\n\u001b[0;32m   2021\u001b[0m             \u001b[1;32mif\u001b[0m \u001b[0mlevel\u001b[0m \u001b[1;32mis\u001b[0m \u001b[1;32mnot\u001b[0m \u001b[1;32mNone\u001b[0m\u001b[1;33m:\u001b[0m\u001b[1;33m\u001b[0m\u001b[1;33m\u001b[0m\u001b[0m\n\u001b[1;32m-> 2022\u001b[1;33m                 \u001b[0mroot\u001b[0m\u001b[1;33m.\u001b[0m\u001b[0msetLevel\u001b[0m\u001b[1;33m(\u001b[0m\u001b[0mlevel\u001b[0m\u001b[1;33m)\u001b[0m\u001b[1;33m\u001b[0m\u001b[1;33m\u001b[0m\u001b[0m\n\u001b[0m\u001b[0;32m   2023\u001b[0m             \u001b[1;32mif\u001b[0m \u001b[0mkwargs\u001b[0m\u001b[1;33m:\u001b[0m\u001b[1;33m\u001b[0m\u001b[1;33m\u001b[0m\u001b[0m\n\u001b[0;32m   2024\u001b[0m                 \u001b[0mkeys\u001b[0m \u001b[1;33m=\u001b[0m \u001b[1;34m', '\u001b[0m\u001b[1;33m.\u001b[0m\u001b[0mjoin\u001b[0m\u001b[1;33m(\u001b[0m\u001b[0mkwargs\u001b[0m\u001b[1;33m.\u001b[0m\u001b[0mkeys\u001b[0m\u001b[1;33m(\u001b[0m\u001b[1;33m)\u001b[0m\u001b[1;33m)\u001b[0m\u001b[1;33m\u001b[0m\u001b[1;33m\u001b[0m\u001b[0m\n",
      "\u001b[1;32m~\\anaconda3\\lib\\logging\\__init__.py\u001b[0m in \u001b[0;36msetLevel\u001b[1;34m(self, level)\u001b[0m\n\u001b[0;32m   1419\u001b[0m         \u001b[0mSet\u001b[0m \u001b[0mthe\u001b[0m \u001b[0mlogging\u001b[0m \u001b[0mlevel\u001b[0m \u001b[0mof\u001b[0m \u001b[0mthis\u001b[0m \u001b[0mlogger\u001b[0m\u001b[1;33m.\u001b[0m  \u001b[0mlevel\u001b[0m \u001b[0mmust\u001b[0m \u001b[0mbe\u001b[0m \u001b[0man\u001b[0m \u001b[0mint\u001b[0m \u001b[1;32mor\u001b[0m \u001b[0ma\u001b[0m \u001b[0mstr\u001b[0m\u001b[1;33m.\u001b[0m\u001b[1;33m\u001b[0m\u001b[1;33m\u001b[0m\u001b[0m\n\u001b[0;32m   1420\u001b[0m         \"\"\"\n\u001b[1;32m-> 1421\u001b[1;33m         \u001b[0mself\u001b[0m\u001b[1;33m.\u001b[0m\u001b[0mlevel\u001b[0m \u001b[1;33m=\u001b[0m \u001b[0m_checkLevel\u001b[0m\u001b[1;33m(\u001b[0m\u001b[0mlevel\u001b[0m\u001b[1;33m)\u001b[0m\u001b[1;33m\u001b[0m\u001b[1;33m\u001b[0m\u001b[0m\n\u001b[0m\u001b[0;32m   1422\u001b[0m         \u001b[0mself\u001b[0m\u001b[1;33m.\u001b[0m\u001b[0mmanager\u001b[0m\u001b[1;33m.\u001b[0m\u001b[0m_clear_cache\u001b[0m\u001b[1;33m(\u001b[0m\u001b[1;33m)\u001b[0m\u001b[1;33m\u001b[0m\u001b[1;33m\u001b[0m\u001b[0m\n\u001b[0;32m   1423\u001b[0m \u001b[1;33m\u001b[0m\u001b[0m\n",
      "\u001b[1;32m~\\anaconda3\\lib\\logging\\__init__.py\u001b[0m in \u001b[0;36m_checkLevel\u001b[1;34m(level)\u001b[0m\n\u001b[0;32m    199\u001b[0m         \u001b[0mrv\u001b[0m \u001b[1;33m=\u001b[0m \u001b[0m_nameToLevel\u001b[0m\u001b[1;33m[\u001b[0m\u001b[0mlevel\u001b[0m\u001b[1;33m]\u001b[0m\u001b[1;33m\u001b[0m\u001b[1;33m\u001b[0m\u001b[0m\n\u001b[0;32m    200\u001b[0m     \u001b[1;32melse\u001b[0m\u001b[1;33m:\u001b[0m\u001b[1;33m\u001b[0m\u001b[1;33m\u001b[0m\u001b[0m\n\u001b[1;32m--> 201\u001b[1;33m         \u001b[1;32mraise\u001b[0m \u001b[0mTypeError\u001b[0m\u001b[1;33m(\u001b[0m\u001b[1;34m\"Level not an integer or a valid string: %r\"\u001b[0m \u001b[1;33m%\u001b[0m \u001b[0mlevel\u001b[0m\u001b[1;33m)\u001b[0m\u001b[1;33m\u001b[0m\u001b[1;33m\u001b[0m\u001b[0m\n\u001b[0m\u001b[0;32m    202\u001b[0m     \u001b[1;32mreturn\u001b[0m \u001b[0mrv\u001b[0m\u001b[1;33m\u001b[0m\u001b[1;33m\u001b[0m\u001b[0m\n\u001b[0;32m    203\u001b[0m \u001b[1;33m\u001b[0m\u001b[0m\n",
      "\u001b[1;31mTypeError\u001b[0m: Level not an integer or a valid string: <function debug at 0x000001A90EAA1820>"
     ]
    }
   ],
   "source": [
    "import logging as lg\n",
    "lg.basicConfig(filename =\"C:\\\\Users\\\\udayk\\\\Uday's Practice\\\\logging\\\\test2.log\",level=lg.debug,format='%(asctime)s %(levelname)s %(message)s')\n",
    "console_log = lg.StreamHandler()\n",
    "console_log.setLevel(lg.INFO)\n",
    "format = '%(asctime)s %(levelname)s %(message)s'\n",
    "console_log.setFormatter(format)\n",
    "lg.getLogger('').addHandler(console_log)\n",
    "lg.info(\"This is my first test code\")\n",
    "logger1=lg.getLogger('logger1.area1')\n",
    "logger2 = lg.getLogger('logger2.area2')\n",
    "logger1.info(\"this info is for looger one\")\n",
    "logger2.debug(\"this debug for looger two\")\n",
    "logger2.info(\"this info is for logger two\")"
   ]
  },
  {
   "cell_type": "code",
   "execution_count": 4,
   "id": "0b64b1db",
   "metadata": {},
   "outputs": [],
   "source": [
    "console_log = lg.StreamHandler()\n",
    "console_log.setLevel(lg.INFO)\n",
    "format = '%(asctime)s %(levelname)s %(message)s'\n",
    "console_log.setFormatter(format)\n",
    "lg.getLogger('').addHandler(console_log)\n",
    "lg.info(\"This is my first test code\")\n",
    "logger1=lg.getLogger('logger1.area1')\n",
    "logger2 = lg.getLogger('logger2.area2')\n",
    "logger1.info(\"this info is for looger one\")\n",
    "logger2.debug(\"this debug for looger two\")\n",
    "logger2.info(\"this info is for logger two\")"
   ]
  },
  {
   "cell_type": "code",
   "execution_count": 3,
   "id": "284753a0",
   "metadata": {},
   "outputs": [],
   "source": [
    "import logging as lgg\n",
    "lgg.basicConfig(filename =\"C:\\\\Users\\\\udayk\\\\Uday's Practice\\\\logging\\\\test2.log\",level=lg.debug,format='%(asctime)s %(levelname)s %(message)s')\n",
    "console_log = lgg.StreamHandler()\n",
    "console_log.setLevel(lgg.INFO)\n",
    "format = '%(asctime)s %(levelname)s %(message)s'\n",
    "console_log.setFormatter(format)\n",
    "lgg.getLogger('').addHandler(console_log)\n",
    "lgg.info(\"This is my first test code\")\n",
    "logger1=lgg.getLogger('logger1.area1')\n",
    "logger2 = lgg.getLogger('logger2.area2')\n",
    "logger1.info(\"this info is for looger one\")\n",
    "logger2.debug(\"this debug for looger two\")\n",
    "logger2.info(\"this info is for logger two\")"
   ]
  },
  {
   "cell_type": "code",
   "execution_count": 4,
   "id": "3d13d73e",
   "metadata": {},
   "outputs": [],
   "source": [
    "logger1.info(\"this info is for looger one\")\n",
    "logger2.debug(\"this debug for looger two\")\n",
    "logger2.info(\"this info is for logger two\")"
   ]
  },
  {
   "cell_type": "code",
   "execution_count": 5,
   "id": "c2f19878",
   "metadata": {},
   "outputs": [],
   "source": [
    "lgg.info(\"This is Uday\")"
   ]
  },
  {
   "cell_type": "code",
   "execution_count": 6,
   "id": "2b511218",
   "metadata": {},
   "outputs": [],
   "source": [
    "def testdebug():\n",
    "    l=[]\n",
    "    for i in range(10):\n",
    "        l.append(i)\n",
    "        print(\"We have appended your data in list\")\n",
    "    return l"
   ]
  },
  {
   "cell_type": "code",
   "execution_count": 7,
   "id": "7e7e862c",
   "metadata": {},
   "outputs": [
    {
     "name": "stdout",
     "output_type": "stream",
     "text": [
      "We have appended your data in list\n",
      "We have appended your data in list\n",
      "We have appended your data in list\n",
      "We have appended your data in list\n",
      "We have appended your data in list\n",
      "We have appended your data in list\n",
      "We have appended your data in list\n",
      "We have appended your data in list\n",
      "We have appended your data in list\n",
      "We have appended your data in list\n"
     ]
    },
    {
     "data": {
      "text/plain": [
       "[0, 1, 2, 3, 4, 5, 6, 7, 8, 9]"
      ]
     },
     "execution_count": 7,
     "metadata": {},
     "output_type": "execute_result"
    }
   ],
   "source": [
    "testdebug()"
   ]
  },
  {
   "cell_type": "code",
   "execution_count": 8,
   "id": "14946d27",
   "metadata": {},
   "outputs": [
    {
     "ename": "ModuleNotFoundError",
     "evalue": "No module named 'ipdb'",
     "output_type": "error",
     "traceback": [
      "\u001b[1;31m---------------------------------------------------------------------------\u001b[0m",
      "\u001b[1;31mModuleNotFoundError\u001b[0m                       Traceback (most recent call last)",
      "\u001b[1;32m~\\AppData\\Local\\Temp/ipykernel_13004/2241182999.py\u001b[0m in \u001b[0;36m<module>\u001b[1;34m\u001b[0m\n\u001b[1;32m----> 1\u001b[1;33m \u001b[1;32mimport\u001b[0m \u001b[0mipdb\u001b[0m\u001b[1;33m\u001b[0m\u001b[1;33m\u001b[0m\u001b[0m\n\u001b[0m",
      "\u001b[1;31mModuleNotFoundError\u001b[0m: No module named 'ipdb'"
     ]
    }
   ],
   "source": [
    "import ipdb"
   ]
  },
  {
   "cell_type": "code",
   "execution_count": 9,
   "id": "f69b39a9",
   "metadata": {},
   "outputs": [
    {
     "name": "stdout",
     "output_type": "stream",
     "text": [
      "Collecting ipdb\n",
      "  Downloading ipdb-0.13.9.tar.gz (16 kB)\n",
      "Requirement already satisfied: setuptools in c:\\users\\udayk\\anaconda3\\lib\\site-packages (from ipdb) (58.0.4)\n",
      "Requirement already satisfied: ipython>=7.17.0 in c:\\users\\udayk\\anaconda3\\lib\\site-packages (from ipdb) (7.29.0)\n",
      "Requirement already satisfied: toml>=0.10.2 in c:\\users\\udayk\\anaconda3\\lib\\site-packages (from ipdb) (0.10.2)\n",
      "Requirement already satisfied: decorator in c:\\users\\udayk\\anaconda3\\lib\\site-packages (from ipdb) (5.1.0)\n",
      "Requirement already satisfied: pickleshare in c:\\users\\udayk\\anaconda3\\lib\\site-packages (from ipython>=7.17.0->ipdb) (0.7.5)\n",
      "Requirement already satisfied: backcall in c:\\users\\udayk\\anaconda3\\lib\\site-packages (from ipython>=7.17.0->ipdb) (0.2.0)\n",
      "Requirement already satisfied: matplotlib-inline in c:\\users\\udayk\\anaconda3\\lib\\site-packages (from ipython>=7.17.0->ipdb) (0.1.2)\n",
      "Requirement already satisfied: colorama in c:\\users\\udayk\\anaconda3\\lib\\site-packages (from ipython>=7.17.0->ipdb) (0.4.4)\n",
      "Requirement already satisfied: pygments in c:\\users\\udayk\\anaconda3\\lib\\site-packages (from ipython>=7.17.0->ipdb) (2.10.0)\n",
      "Requirement already satisfied: traitlets>=4.2 in c:\\users\\udayk\\anaconda3\\lib\\site-packages (from ipython>=7.17.0->ipdb) (5.1.0)\n",
      "Requirement already satisfied: prompt-toolkit!=3.0.0,!=3.0.1,<3.1.0,>=2.0.0 in c:\\users\\udayk\\anaconda3\\lib\\site-packages (from ipython>=7.17.0->ipdb) (3.0.20)\n",
      "Requirement already satisfied: jedi>=0.16 in c:\\users\\udayk\\anaconda3\\lib\\site-packages (from ipython>=7.17.0->ipdb) (0.18.0)\n",
      "Requirement already satisfied: parso<0.9.0,>=0.8.0 in c:\\users\\udayk\\anaconda3\\lib\\site-packages (from jedi>=0.16->ipython>=7.17.0->ipdb) (0.8.2)\n",
      "Requirement already satisfied: wcwidth in c:\\users\\udayk\\anaconda3\\lib\\site-packages (from prompt-toolkit!=3.0.0,!=3.0.1,<3.1.0,>=2.0.0->ipython>=7.17.0->ipdb) (0.2.5)\n",
      "Building wheels for collected packages: ipdb\n",
      "  Building wheel for ipdb (setup.py): started\n",
      "  Building wheel for ipdb (setup.py): finished with status 'done'\n",
      "  Created wheel for ipdb: filename=ipdb-0.13.9-py3-none-any.whl size=11648 sha256=e91c426a958782d3bb337559565dca7012a32c68857ce73edbd0213b668eab03\n",
      "  Stored in directory: c:\\users\\udayk\\appdata\\local\\pip\\cache\\wheels\\f7\\29\\9a\\cf774cd86e9802f075a0be1c9e0830bc062d07897b2e9e87cd\n",
      "Successfully built ipdb\n",
      "Installing collected packages: ipdb\n",
      "Successfully installed ipdb-0.13.9\n"
     ]
    }
   ],
   "source": [
    "!pip install ipdb"
   ]
  },
  {
   "cell_type": "code",
   "execution_count": 1,
   "id": "a1be1429",
   "metadata": {},
   "outputs": [],
   "source": [
    "import ipdb"
   ]
  },
  {
   "cell_type": "code",
   "execution_count": 2,
   "id": "65269301",
   "metadata": {},
   "outputs": [],
   "source": [
    "def testdebug():\n",
    "    ipdb.set_trace()\n",
    "    l=[]\n",
    "    for i in range(10):\n",
    "        l.append(i)\n",
    "        print(\"We have appended your data in list\")\n",
    "    return l"
   ]
  },
  {
   "cell_type": "code",
   "execution_count": 4,
   "id": "9c477415",
   "metadata": {
    "scrolled": true
   },
   "outputs": [
    {
     "name": "stdout",
     "output_type": "stream",
     "text": [
      "> \u001b[1;32mc:\\users\\udayk\\appdata\\local\\temp\\ipykernel_7316\\3247770213.py\u001b[0m(3)\u001b[0;36mtestdebug\u001b[1;34m()\u001b[0m\n",
      "\n",
      "ipdb> c\n",
      "We have appended your data in list\n",
      "We have appended your data in list\n",
      "We have appended your data in list\n",
      "We have appended your data in list\n",
      "We have appended your data in list\n",
      "We have appended your data in list\n",
      "We have appended your data in list\n",
      "We have appended your data in list\n",
      "We have appended your data in list\n",
      "We have appended your data in list\n"
     ]
    },
    {
     "data": {
      "text/plain": [
       "[0, 1, 2, 3, 4, 5, 6, 7, 8, 9]"
      ]
     },
     "execution_count": 4,
     "metadata": {},
     "output_type": "execute_result"
    }
   ],
   "source": [
    "testdebug()"
   ]
  },
  {
   "cell_type": "code",
   "execution_count": null,
   "id": "995a29a3",
   "metadata": {},
   "outputs": [],
   "source": [
    "testdebug()"
   ]
  },
  {
   "cell_type": "code",
   "execution_count": null,
   "id": "052ec5cd",
   "metadata": {},
   "outputs": [],
   "source": []
  }
 ],
 "metadata": {
  "kernelspec": {
   "display_name": "Python 3 (ipykernel)",
   "language": "python",
   "name": "python3"
  },
  "language_info": {
   "codemirror_mode": {
    "name": "ipython",
    "version": 3
   },
   "file_extension": ".py",
   "mimetype": "text/x-python",
   "name": "python",
   "nbconvert_exporter": "python",
   "pygments_lexer": "ipython3",
   "version": "3.9.7"
  }
 },
 "nbformat": 4,
 "nbformat_minor": 5
}
