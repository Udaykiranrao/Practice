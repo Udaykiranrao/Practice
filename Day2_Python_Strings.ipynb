{
 "cells": [
  {
   "cell_type": "markdown",
   "id": "8d9b5815",
   "metadata": {},
   "source": [
    "# Day-2 Python\n"
   ]
  },
  {
   "cell_type": "code",
   "execution_count": 1,
   "id": "59b1fe5a",
   "metadata": {},
   "outputs": [],
   "source": [
    "#This is single line comment\n"
   ]
  },
  {
   "cell_type": "code",
   "execution_count": 2,
   "id": "8dbf4c8a",
   "metadata": {},
   "outputs": [
    {
     "data": {
      "text/plain": [
       "'This is \\nmulti\\nline comment'"
      ]
     },
     "execution_count": 2,
     "metadata": {},
     "output_type": "execute_result"
    }
   ],
   "source": [
    "'''This is \n",
    "multi\n",
    "line comment'''"
   ]
  },
  {
   "cell_type": "code",
   "execution_count": 3,
   "id": "5ede23fa",
   "metadata": {},
   "outputs": [
    {
     "data": {
      "text/plain": [
       "0"
      ]
     },
     "execution_count": 3,
     "metadata": {},
     "output_type": "execute_result"
    }
   ],
   "source": [
    "False-True+True"
   ]
  },
  {
   "cell_type": "code",
   "execution_count": 4,
   "id": "811b60cd",
   "metadata": {},
   "outputs": [
    {
     "ename": "ZeroDivisionError",
     "evalue": "division by zero",
     "output_type": "error",
     "traceback": [
      "\u001b[1;31m---------------------------------------------------------------------------\u001b[0m",
      "\u001b[1;31mZeroDivisionError\u001b[0m                         Traceback (most recent call last)",
      "\u001b[1;32m~\\AppData\\Local\\Temp/ipykernel_12968/2794436645.py\u001b[0m in \u001b[0;36m<module>\u001b[1;34m\u001b[0m\n\u001b[1;32m----> 1\u001b[1;33m \u001b[1;32mTrue\u001b[0m\u001b[1;33m/\u001b[0m\u001b[1;32mFalse\u001b[0m\u001b[1;33m\u001b[0m\u001b[1;33m\u001b[0m\u001b[0m\n\u001b[0m",
      "\u001b[1;31mZeroDivisionError\u001b[0m: division by zero"
     ]
    }
   ],
   "source": [
    "True/False"
   ]
  },
  {
   "cell_type": "code",
   "execution_count": 5,
   "id": "fb1e2134",
   "metadata": {},
   "outputs": [],
   "source": [
    "n=4+6j\n",
    "m=5+7j"
   ]
  },
  {
   "cell_type": "code",
   "execution_count": 6,
   "id": "d6fc1ef8",
   "metadata": {},
   "outputs": [
    {
     "data": {
      "text/plain": [
       "(-22+58j)"
      ]
     },
     "execution_count": 6,
     "metadata": {},
     "output_type": "execute_result"
    }
   ],
   "source": [
    "n*m"
   ]
  },
  {
   "cell_type": "code",
   "execution_count": 7,
   "id": "48bd0236",
   "metadata": {},
   "outputs": [
    {
     "data": {
      "text/plain": [
       "(9+13j)"
      ]
     },
     "execution_count": 7,
     "metadata": {},
     "output_type": "execute_result"
    }
   ],
   "source": [
    "n+m"
   ]
  },
  {
   "cell_type": "code",
   "execution_count": 9,
   "id": "fe81c723",
   "metadata": {},
   "outputs": [
    {
     "data": {
      "text/plain": [
       "'Uday Uday Uday '"
      ]
     },
     "execution_count": 9,
     "metadata": {},
     "output_type": "execute_result"
    }
   ],
   "source": [
    "\"Uday \" *3"
   ]
  },
  {
   "cell_type": "code",
   "execution_count": 14,
   "id": "69caef0f",
   "metadata": {
    "scrolled": false
   },
   "outputs": [
    {
     "name": "stdout",
     "output_type": "stream",
     "text": [
      "3 4 5\n"
     ]
    },
    {
     "ename": "ValueError",
     "evalue": "invalid literal for int() with base 10: '3 4 5'",
     "output_type": "error",
     "traceback": [
      "\u001b[1;31m---------------------------------------------------------------------------\u001b[0m",
      "\u001b[1;31mValueError\u001b[0m                                Traceback (most recent call last)",
      "\u001b[1;32m~\\AppData\\Local\\Temp/ipykernel_12968/3226389373.py\u001b[0m in \u001b[0;36m<module>\u001b[1;34m\u001b[0m\n\u001b[1;32m----> 1\u001b[1;33m \u001b[0ml\u001b[0m\u001b[1;33m=\u001b[0m \u001b[0mint\u001b[0m\u001b[1;33m(\u001b[0m\u001b[0minput\u001b[0m\u001b[1;33m(\u001b[0m\u001b[1;33m)\u001b[0m\u001b[1;33m)\u001b[0m\u001b[1;33m\u001b[0m\u001b[1;33m\u001b[0m\u001b[0m\n\u001b[0m\u001b[0;32m      2\u001b[0m \u001b[0mm\u001b[0m\u001b[1;33m=\u001b[0m\u001b[0mint\u001b[0m\u001b[1;33m(\u001b[0m\u001b[0minput\u001b[0m\u001b[1;33m(\u001b[0m\u001b[1;33m)\u001b[0m\u001b[1;33m)\u001b[0m\u001b[1;33m\u001b[0m\u001b[1;33m\u001b[0m\u001b[0m\n\u001b[0;32m      3\u001b[0m \u001b[0mn\u001b[0m\u001b[1;33m=\u001b[0m\u001b[0mint\u001b[0m\u001b[1;33m(\u001b[0m\u001b[0minput\u001b[0m\u001b[1;33m(\u001b[0m\u001b[1;33m)\u001b[0m\u001b[1;33m)\u001b[0m\u001b[1;33m\u001b[0m\u001b[1;33m\u001b[0m\u001b[0m\n",
      "\u001b[1;31mValueError\u001b[0m: invalid literal for int() with base 10: '3 4 5'"
     ]
    }
   ],
   "source": [
    "l= int(input())\n",
    "m=int(input())\n",
    "n=int(input())"
   ]
  },
  {
   "cell_type": "code",
   "execution_count": 16,
   "id": "91611571",
   "metadata": {},
   "outputs": [
    {
     "name": "stdout",
     "output_type": "stream",
     "text": [
      "3\n"
     ]
    }
   ],
   "source": [
    "l= int(input())"
   ]
  },
  {
   "cell_type": "code",
   "execution_count": null,
   "id": "68cc2633",
   "metadata": {},
   "outputs": [],
   "source": []
  },
  {
   "cell_type": "code",
   "execution_count": 18,
   "id": "98e8562e",
   "metadata": {},
   "outputs": [
    {
     "name": "stdout",
     "output_type": "stream",
     "text": [
      "3\n"
     ]
    }
   ],
   "source": [
    "n= input()"
   ]
  },
  {
   "cell_type": "code",
   "execution_count": 19,
   "id": "8a082d7e",
   "metadata": {},
   "outputs": [
    {
     "data": {
      "text/plain": [
       "'3'"
      ]
     },
     "execution_count": 19,
     "metadata": {},
     "output_type": "execute_result"
    }
   ],
   "source": [
    "n"
   ]
  },
  {
   "cell_type": "code",
   "execution_count": 20,
   "id": "1bb91c8b",
   "metadata": {},
   "outputs": [
    {
     "name": "stdout",
     "output_type": "stream",
     "text": [
      "3\n"
     ]
    }
   ],
   "source": [
    "n= int(input())\n",
    "\n"
   ]
  },
  {
   "cell_type": "code",
   "execution_count": 21,
   "id": "e8937bb7",
   "metadata": {},
   "outputs": [
    {
     "data": {
      "text/plain": [
       "3"
      ]
     },
     "execution_count": 21,
     "metadata": {},
     "output_type": "execute_result"
    }
   ],
   "source": [
    "n"
   ]
  },
  {
   "cell_type": "code",
   "execution_count": 28,
   "id": "50d1ae9c",
   "metadata": {},
   "outputs": [
    {
     "name": "stdout",
     "output_type": "stream",
     "text": [
      "9\n",
      "less than 10\n"
     ]
    }
   ],
   "source": [
    "a = int(input())\n",
    "if(a<10):\n",
    "    print(\"less than 10\")\n",
    "elif(a==10):\n",
    "    print(\"equal to 10\")\n",
    "else:\n",
    "    \n",
    "    print(\"greater than 10\")\n"
   ]
  },
  {
   "cell_type": "code",
   "execution_count": 39,
   "id": "a0979e4c",
   "metadata": {
    "scrolled": true
   },
   "outputs": [
    {
     "name": "stdout",
     "output_type": "stream",
     "text": [
      "7\n",
      "*******\n",
      " ******\n",
      "  *****\n",
      "   ****\n",
      "    ***\n",
      "     **\n",
      "      *\n"
     ]
    }
   ],
   "source": [
    "n=int(input())\n",
    "for i in range(n,0,-1):\n",
    "    for j in range(0,n-i):\n",
    "        print(end=\" \")\n",
    "    for j in range(0,i):\n",
    "        print(\"*\",end=\"\")\n",
    "    print()"
   ]
  },
  {
   "cell_type": "code",
   "execution_count": 45,
   "id": "af9d7e1d",
   "metadata": {},
   "outputs": [
    {
     "name": "stdout",
     "output_type": "stream",
     "text": [
      "* * * * * * * \n",
      " * * * * * * \n",
      "  * * * * * \n",
      "   * * * * \n",
      "    * * * \n",
      "     * * \n",
      "      * \n"
     ]
    }
   ],
   "source": [
    "# User Input for number of rows and columns (Length of Triangle)\n",
    "num = 7\n",
    "\n",
    "# Loop over number of rows and columns\n",
    "for i in range(num, 0, -1):\n",
    "    \n",
    "    # Spaces across rows\n",
    "    for j in range(0, num-i):\n",
    "        print(end=\" \")\n",
    "    \n",
    "    # Print spaced stars\n",
    "    for j in range(0, i):\n",
    "        print(\"*\", end=\" \")\n",
    "    \n",
    "    # Go to next line\n",
    "    print()\n"
   ]
  },
  {
   "cell_type": "code",
   "execution_count": 59,
   "id": "5ae334b3",
   "metadata": {},
   "outputs": [
    {
     "name": "stdout",
     "output_type": "stream",
     "text": [
      "1111111\n",
      "# 222222\n",
      "# # 33333\n",
      "# # # 4444\n",
      "# # # # 555\n",
      "# # # # # 66\n",
      "# # # # # # 7\n"
     ]
    }
   ],
   "source": [
    "n= 7\n",
    "num =1\n",
    "for i in range(n,0,-1):\n",
    "    for j in range(0,n-i):\n",
    "        print(\"#\",end=\" \")\n",
    "    for j in range(0,i):\n",
    "        print(num,end=\"\")\n",
    "    num= num+1\n",
    "    print()"
   ]
  },
  {
   "cell_type": "code",
   "execution_count": 7,
   "id": "c4e3dd08",
   "metadata": {},
   "outputs": [
    {
     "name": "stdout",
     "output_type": "stream",
     "text": [
      "      * \n",
      "     * * \n",
      "    * * * \n",
      "   * * * * \n",
      "  * * * * * \n",
      " * * * * * * \n",
      "* * * * * * * \n",
      " * * * * * * \n",
      "  * * * * * \n",
      "   * * * * \n",
      "    * * * \n",
      "     * * \n",
      "      * \n"
     ]
    }
   ],
   "source": [
    "n= 7\n",
    "#k= n//2+1\n",
    "for i in range(1,n+1):\n",
    "    #spaces\n",
    "    k= n-i\n",
    "    for j in range(0,k):\n",
    "        print(end=\" \")\n",
    "    #numbers\n",
    "    for j in range(1,i+1):\n",
    "        #print(j,end=\" \")\n",
    "        print(\"*\",end=\" \")\n",
    "    print()\n",
    "    \n",
    "for i in range(n-1,0,-1):\n",
    "    #spaces\n",
    "    for j in range(0,n-i):\n",
    "        print(end=\" \")\n",
    "    #numbers\n",
    "    for j in range(1,i+1):\n",
    "        #print(j,end= \" \")\n",
    "        print(\"*\",end=\" \")\n",
    "    print()"
   ]
  },
  {
   "cell_type": "code",
   "execution_count": 8,
   "id": "44d77167",
   "metadata": {},
   "outputs": [],
   "source": [
    "l = list()\n",
    "name= \"Uday\"\n",
    "phno= 7989790672\n",
    "Add = \"Dhone\"\n"
   ]
  },
  {
   "cell_type": "code",
   "execution_count": 9,
   "id": "2834adb8",
   "metadata": {},
   "outputs": [],
   "source": [
    "l=[\"uday\",1234,\"Dhone\"]"
   ]
  },
  {
   "cell_type": "code",
   "execution_count": 10,
   "id": "a4943924",
   "metadata": {},
   "outputs": [
    {
     "data": {
      "text/plain": [
       "['uday', 1234, 'Dhone']"
      ]
     },
     "execution_count": 10,
     "metadata": {},
     "output_type": "execute_result"
    }
   ],
   "source": [
    "l"
   ]
  },
  {
   "cell_type": "code",
   "execution_count": 11,
   "id": "ba9579f5",
   "metadata": {},
   "outputs": [
    {
     "data": {
      "text/plain": [
       "list"
      ]
     },
     "execution_count": 11,
     "metadata": {},
     "output_type": "execute_result"
    }
   ],
   "source": [
    "type(l)"
   ]
  },
  {
   "cell_type": "code",
   "execution_count": 23,
   "id": "30cc9eb3",
   "metadata": {},
   "outputs": [],
   "source": [
    "l.append('F')\n",
    "l.append([1,2,3,4])"
   ]
  },
  {
   "cell_type": "code",
   "execution_count": 24,
   "id": "efc5f5ea",
   "metadata": {},
   "outputs": [
    {
     "data": {
      "text/plain": [
       "['uday', 1234, 'Dhone', True, False, 'F', 'F', [1, 2, 3, 4]]"
      ]
     },
     "execution_count": 24,
     "metadata": {},
     "output_type": "execute_result"
    }
   ],
   "source": [
    "l\n"
   ]
  },
  {
   "cell_type": "code",
   "execution_count": 14,
   "id": "807370d7",
   "metadata": {},
   "outputs": [
    {
     "data": {
      "text/plain": [
       "True"
      ]
     },
     "execution_count": 14,
     "metadata": {},
     "output_type": "execute_result"
    }
   ],
   "source": [
    "l[-1]"
   ]
  },
  {
   "cell_type": "code",
   "execution_count": 15,
   "id": "30741833",
   "metadata": {},
   "outputs": [
    {
     "data": {
      "text/plain": [
       "bool"
      ]
     },
     "execution_count": 15,
     "metadata": {},
     "output_type": "execute_result"
    }
   ],
   "source": [
    "type(l[-1])"
   ]
  },
  {
   "cell_type": "code",
   "execution_count": 25,
   "id": "e60ba7e1",
   "metadata": {},
   "outputs": [
    {
     "name": "stdout",
     "output_type": "stream",
     "text": [
      "<class 'str'>\n",
      "<class 'int'>\n",
      "<class 'str'>\n",
      "<class 'bool'>\n",
      "<class 'bool'>\n",
      "<class 'str'>\n",
      "<class 'str'>\n",
      "<class 'list'>\n"
     ]
    }
   ],
   "source": [
    "for i in l:\n",
    "    print(type(i))"
   ]
  },
  {
   "cell_type": "code",
   "execution_count": 26,
   "id": "7a499aa9",
   "metadata": {},
   "outputs": [
    {
     "data": {
      "text/plain": [
       "['uday', 1234, 'Dhone', True, False, 'F', 'F', [1, 2, 3, 4]]"
      ]
     },
     "execution_count": 26,
     "metadata": {},
     "output_type": "execute_result"
    }
   ],
   "source": [
    "l"
   ]
  },
  {
   "cell_type": "code",
   "execution_count": 27,
   "id": "8879ef58",
   "metadata": {},
   "outputs": [
    {
     "data": {
      "text/plain": [
       "[[1, 2, 3, 4], 'F', 'F', False, True, 'Dhone', 1234, 'uday']"
      ]
     },
     "execution_count": 27,
     "metadata": {},
     "output_type": "execute_result"
    }
   ],
   "source": [
    "l[::-1]"
   ]
  },
  {
   "cell_type": "code",
   "execution_count": 28,
   "id": "68692e13",
   "metadata": {},
   "outputs": [
    {
     "data": {
      "text/plain": [
       "[1234, 'Dhone', True]"
      ]
     },
     "execution_count": 28,
     "metadata": {},
     "output_type": "execute_result"
    }
   ],
   "source": [
    "l[1:4]"
   ]
  },
  {
   "cell_type": "code",
   "execution_count": 29,
   "id": "45840195",
   "metadata": {},
   "outputs": [
    {
     "data": {
      "text/plain": [
       "['uday', 1234, 'Dhone', True, False, 'F', 'F']"
      ]
     },
     "execution_count": 29,
     "metadata": {},
     "output_type": "execute_result"
    }
   ],
   "source": [
    "l[:7]"
   ]
  },
  {
   "cell_type": "code",
   "execution_count": 30,
   "id": "b55f3391",
   "metadata": {},
   "outputs": [
    {
     "data": {
      "text/plain": [
       "range(0, 10)"
      ]
     },
     "execution_count": 30,
     "metadata": {},
     "output_type": "execute_result"
    }
   ],
   "source": [
    "range(10)"
   ]
  },
  {
   "cell_type": "code",
   "execution_count": 31,
   "id": "c71654d1",
   "metadata": {},
   "outputs": [
    {
     "data": {
      "text/plain": [
       "range(10, 2, -1)"
      ]
     },
     "execution_count": 31,
     "metadata": {},
     "output_type": "execute_result"
    }
   ],
   "source": [
    "range(10,2,-1)"
   ]
  },
  {
   "cell_type": "code",
   "execution_count": 32,
   "id": "73e0de6e",
   "metadata": {},
   "outputs": [
    {
     "data": {
      "text/plain": [
       "'Uday'"
      ]
     },
     "execution_count": 32,
     "metadata": {},
     "output_type": "execute_result"
    }
   ],
   "source": [
    "#Strings\n",
    "a= \"Uday\"\n",
    "a"
   ]
  },
  {
   "cell_type": "code",
   "execution_count": 35,
   "id": "c383b37a",
   "metadata": {},
   "outputs": [
    {
     "data": {
      "text/plain": [
       "\"uday's\""
      ]
     },
     "execution_count": 35,
     "metadata": {},
     "output_type": "execute_result"
    }
   ],
   "source": [
    "a= \"uday's\"\n",
    "a"
   ]
  },
  {
   "cell_type": "code",
   "execution_count": 36,
   "id": "b2d11717",
   "metadata": {},
   "outputs": [],
   "source": [
    "a=\"_abcdefghijklmnopqrstuvwxyz\""
   ]
  },
  {
   "cell_type": "code",
   "execution_count": 37,
   "id": "043e6be0",
   "metadata": {},
   "outputs": [
    {
     "data": {
      "text/plain": [
       "'a'"
      ]
     },
     "execution_count": 37,
     "metadata": {},
     "output_type": "execute_result"
    }
   ],
   "source": [
    "a[1]"
   ]
  },
  {
   "cell_type": "code",
   "execution_count": 38,
   "id": "5a45dab1",
   "metadata": {},
   "outputs": [
    {
     "data": {
      "text/plain": [
       "'z'"
      ]
     },
     "execution_count": 38,
     "metadata": {},
     "output_type": "execute_result"
    }
   ],
   "source": [
    "a[26]"
   ]
  },
  {
   "cell_type": "code",
   "execution_count": 39,
   "id": "eebfd675",
   "metadata": {},
   "outputs": [
    {
     "data": {
      "text/plain": [
       "'zyxwvutsrqponmlkjihgfedcba_'"
      ]
     },
     "execution_count": 39,
     "metadata": {},
     "output_type": "execute_result"
    }
   ],
   "source": [
    "a[::-1]"
   ]
  },
  {
   "cell_type": "code",
   "execution_count": 40,
   "id": "332f5c05",
   "metadata": {},
   "outputs": [
    {
     "ename": "IndexError",
     "evalue": "string index out of range",
     "output_type": "error",
     "traceback": [
      "\u001b[1;31m---------------------------------------------------------------------------\u001b[0m",
      "\u001b[1;31mIndexError\u001b[0m                                Traceback (most recent call last)",
      "\u001b[1;32m~\\AppData\\Local\\Temp/ipykernel_11164/3418884185.py\u001b[0m in \u001b[0;36m<module>\u001b[1;34m\u001b[0m\n\u001b[1;32m----> 1\u001b[1;33m \u001b[0ma\u001b[0m\u001b[1;33m[\u001b[0m\u001b[1;36m100\u001b[0m\u001b[1;33m]\u001b[0m\u001b[1;33m\u001b[0m\u001b[1;33m\u001b[0m\u001b[0m\n\u001b[0m",
      "\u001b[1;31mIndexError\u001b[0m: string index out of range"
     ]
    }
   ],
   "source": [
    "a[100]"
   ]
  },
  {
   "cell_type": "code",
   "execution_count": 41,
   "id": "cf97241d",
   "metadata": {},
   "outputs": [
    {
     "data": {
      "text/plain": [
       "27"
      ]
     },
     "execution_count": 41,
     "metadata": {},
     "output_type": "execute_result"
    }
   ],
   "source": [
    "len(a)"
   ]
  },
  {
   "cell_type": "code",
   "execution_count": 44,
   "id": "45131857",
   "metadata": {},
   "outputs": [
    {
     "data": {
      "text/plain": [
       "''"
      ]
     },
     "execution_count": 44,
     "metadata": {},
     "output_type": "execute_result"
    }
   ],
   "source": [
    "a[4:10:-1]"
   ]
  },
  {
   "cell_type": "code",
   "execution_count": 55,
   "id": "9b06b9d1",
   "metadata": {},
   "outputs": [
    {
     "data": {
      "text/plain": [
       "'zyxwvutsrqpon'"
      ]
     },
     "execution_count": 55,
     "metadata": {},
     "output_type": "execute_result"
    }
   ],
   "source": [
    "ra=a[-1:-14:-1]\n",
    "ra"
   ]
  },
  {
   "cell_type": "code",
   "execution_count": 58,
   "id": "dd6057a9",
   "metadata": {},
   "outputs": [],
   "source": [
    "rb=a[1:14:1]"
   ]
  },
  {
   "cell_type": "code",
   "execution_count": 59,
   "id": "3ae8799a",
   "metadata": {},
   "outputs": [
    {
     "data": {
      "text/plain": [
       "'abcdefghijklm'"
      ]
     },
     "execution_count": 59,
     "metadata": {},
     "output_type": "execute_result"
    }
   ],
   "source": [
    "rb"
   ]
  },
  {
   "cell_type": "code",
   "execution_count": 60,
   "id": "98ab2801",
   "metadata": {},
   "outputs": [
    {
     "data": {
      "text/plain": [
       "'abcdefghijklmnopqrstuvwxyz'"
      ]
     },
     "execution_count": 60,
     "metadata": {},
     "output_type": "execute_result"
    }
   ],
   "source": [
    "rb+ra[::-1]"
   ]
  },
  {
   "cell_type": "code",
   "execution_count": 63,
   "id": "0a05f826",
   "metadata": {},
   "outputs": [
    {
     "ename": "TypeError",
     "evalue": "'str' object does not support item assignment",
     "output_type": "error",
     "traceback": [
      "\u001b[1;31m---------------------------------------------------------------------------\u001b[0m",
      "\u001b[1;31mTypeError\u001b[0m                                 Traceback (most recent call last)",
      "\u001b[1;32m~\\AppData\\Local\\Temp/ipykernel_11164/2397883025.py\u001b[0m in \u001b[0;36m<module>\u001b[1;34m\u001b[0m\n\u001b[1;32m----> 1\u001b[1;33m \u001b[0ma\u001b[0m\u001b[1;33m[\u001b[0m\u001b[1;36m1\u001b[0m\u001b[1;33m]\u001b[0m\u001b[1;33m=\u001b[0m\u001b[1;34m'A'\u001b[0m\u001b[1;33m\u001b[0m\u001b[1;33m\u001b[0m\u001b[0m\n\u001b[0m",
      "\u001b[1;31mTypeError\u001b[0m: 'str' object does not support item assignment"
     ]
    }
   ],
   "source": [
    "a[1]='A'"
   ]
  },
  {
   "cell_type": "code",
   "execution_count": 67,
   "id": "ff324aa2",
   "metadata": {},
   "outputs": [
    {
     "data": {
      "text/plain": [
       "'zyxwvutsrqponmlkjihgfedcba_'"
      ]
     },
     "execution_count": 67,
     "metadata": {},
     "output_type": "execute_result"
    }
   ],
   "source": [
    "a[::-1]"
   ]
  },
  {
   "cell_type": "code",
   "execution_count": 69,
   "id": "87d1e6b8",
   "metadata": {},
   "outputs": [
    {
     "data": {
      "text/plain": [
       "'uday kiran'"
      ]
     },
     "execution_count": 69,
     "metadata": {},
     "output_type": "execute_result"
    }
   ],
   "source": [
    "\"uday\" + \" kiran\""
   ]
  },
  {
   "cell_type": "code",
   "execution_count": 72,
   "id": "0ed69562",
   "metadata": {},
   "outputs": [
    {
     "data": {
      "text/plain": [
       "3"
      ]
     },
     "execution_count": 72,
     "metadata": {},
     "output_type": "execute_result"
    }
   ],
   "source": [
    "int(\"3\")"
   ]
  },
  {
   "cell_type": "code",
   "execution_count": 74,
   "id": "e5c31307",
   "metadata": {},
   "outputs": [
    {
     "data": {
      "text/plain": [
       "'uday uday uday uday uday uday '"
      ]
     },
     "execution_count": 74,
     "metadata": {},
     "output_type": "execute_result"
    }
   ],
   "source": [
    "\"uday \" *6"
   ]
  },
  {
   "cell_type": "code",
   "execution_count": 81,
   "id": "a2ee82a5",
   "metadata": {},
   "outputs": [
    {
     "data": {
      "text/plain": [
       "'udaya'"
      ]
     },
     "execution_count": 81,
     "metadata": {},
     "output_type": "execute_result"
    }
   ],
   "source": [
    "s= \"udaya\" \n",
    "s"
   ]
  },
  {
   "cell_type": "code",
   "execution_count": null,
   "id": "4b35a3d2",
   "metadata": {},
   "outputs": [],
   "source": [
    "n=s.find(\"ay\")\n",
    "while(n):\n",
    "    i=1\n",
    "    print(n)\n",
    "    n=n+1"
   ]
  },
  {
   "cell_type": "code",
   "execution_count": null,
   "id": "52a63c4e",
   "metadata": {},
   "outputs": [],
   "source": [
    "0\\\n",
    "\n",
    "\n",
    "\n"
   ]
  },
  {
   "cell_type": "code",
   "execution_count": null,
   "id": "30d16c41",
   "metadata": {},
   "outputs": [],
   "source": [
    "#"
   ]
  },
  {
   "cell_type": "code",
   "execution_count": 86,
   "id": "d6c19c3c",
   "metadata": {},
   "outputs": [
    {
     "name": "stdout",
     "output_type": "stream",
     "text": [
      "d\n",
      "a\n",
      "y\n"
     ]
    }
   ],
   "source": [
    "for i in \"day\":\n",
    "    print(i)"
   ]
  },
  {
   "cell_type": "code",
   "execution_count": null,
   "id": "b3085457",
   "metadata": {},
   "outputs": [],
   "source": [
    "n=s.find(\"day\")\n",
    "print(n)"
   ]
  },
  {
   "cell_type": "code",
   "execution_count": null,
   "id": "38c0ca2b",
   "metadata": {},
   "outputs": [],
   "source": [
    "n"
   ]
  },
  {
   "cell_type": "code",
   "execution_count": null,
   "id": "1a53fe57",
   "metadata": {},
   "outputs": [],
   "source": [
    "a=\"Uday kiran\""
   ]
  },
  {
   "cell_type": "code",
   "execution_count": 1,
   "id": "7ae62b41",
   "metadata": {},
   "outputs": [],
   "source": [
    "a=\"Uday kiran\""
   ]
  },
  {
   "cell_type": "code",
   "execution_count": 2,
   "id": "d5bb634e",
   "metadata": {},
   "outputs": [
    {
     "data": {
      "text/plain": [
       "'Uday kiran'"
      ]
     },
     "execution_count": 2,
     "metadata": {},
     "output_type": "execute_result"
    }
   ],
   "source": [
    "a"
   ]
  },
  {
   "cell_type": "code",
   "execution_count": 3,
   "id": "d29b30c6",
   "metadata": {},
   "outputs": [
    {
     "data": {
      "text/plain": [
       "['Uday', 'kiran']"
      ]
     },
     "execution_count": 3,
     "metadata": {},
     "output_type": "execute_result"
    }
   ],
   "source": [
    "a.split()"
   ]
  },
  {
   "cell_type": "code",
   "execution_count": 5,
   "id": "af92eb15",
   "metadata": {},
   "outputs": [
    {
     "data": {
      "text/plain": [
       "['Uday kira', '']"
      ]
     },
     "execution_count": 5,
     "metadata": {},
     "output_type": "execute_result"
    }
   ],
   "source": [
    "a.split('n')"
   ]
  },
  {
   "cell_type": "code",
   "execution_count": 7,
   "id": "2189dc0a",
   "metadata": {},
   "outputs": [
    {
     "data": {
      "text/plain": [
       "'UDAY KIRAN'"
      ]
     },
     "execution_count": 7,
     "metadata": {},
     "output_type": "execute_result"
    }
   ],
   "source": [
    "a.upper()"
   ]
  },
  {
   "cell_type": "code",
   "execution_count": 9,
   "id": "4f6f7b25",
   "metadata": {},
   "outputs": [
    {
     "data": {
      "text/plain": [
       "'uday kiran'"
      ]
     },
     "execution_count": 9,
     "metadata": {},
     "output_type": "execute_result"
    }
   ],
   "source": [
    "a.lower()"
   ]
  },
  {
   "cell_type": "code",
   "execution_count": 10,
   "id": "70035af5",
   "metadata": {},
   "outputs": [
    {
     "data": {
      "text/plain": [
       "'uDAY KIRAN'"
      ]
     },
     "execution_count": 10,
     "metadata": {},
     "output_type": "execute_result"
    }
   ],
   "source": [
    "a.swapcase()"
   ]
  },
  {
   "cell_type": "code",
   "execution_count": 11,
   "id": "f7d9f7a2",
   "metadata": {},
   "outputs": [
    {
     "data": {
      "text/plain": [
       "'U#d#a#y# #k#i#r#a#n'"
      ]
     },
     "execution_count": 11,
     "metadata": {},
     "output_type": "execute_result"
    }
   ],
   "source": [
    "\"#\".join(a)"
   ]
  },
  {
   "cell_type": "code",
   "execution_count": 14,
   "id": "59783c42",
   "metadata": {},
   "outputs": [
    {
     "name": "stdout",
     "output_type": "stream",
     "text": [
      "n\n",
      "a\n",
      "r\n",
      "i\n",
      "k\n",
      " \n",
      "y\n",
      "a\n",
      "d\n",
      "U\n"
     ]
    }
   ],
   "source": [
    "for i in reversed(a):\n",
    "    print(i)"
   ]
  },
  {
   "cell_type": "code",
   "execution_count": 19,
   "id": "d9da735b",
   "metadata": {},
   "outputs": [],
   "source": [
    "b=\"             UD AY        \""
   ]
  },
  {
   "cell_type": "code",
   "execution_count": 20,
   "id": "0f91a5ca",
   "metadata": {},
   "outputs": [
    {
     "data": {
      "text/plain": [
       "'UD AY'"
      ]
     },
     "execution_count": 20,
     "metadata": {},
     "output_type": "execute_result"
    }
   ],
   "source": [
    "b.strip()"
   ]
  },
  {
   "cell_type": "code",
   "execution_count": 21,
   "id": "f7f01a0e",
   "metadata": {},
   "outputs": [
    {
     "data": {
      "text/plain": [
       "'UD AY        '"
      ]
     },
     "execution_count": 21,
     "metadata": {},
     "output_type": "execute_result"
    }
   ],
   "source": [
    "b.lstrip()"
   ]
  },
  {
   "cell_type": "code",
   "execution_count": 22,
   "id": "ed708168",
   "metadata": {},
   "outputs": [
    {
     "data": {
      "text/plain": [
       "'             UD AY'"
      ]
     },
     "execution_count": 22,
     "metadata": {},
     "output_type": "execute_result"
    }
   ],
   "source": [
    "b.rstrip()"
   ]
  },
  {
   "cell_type": "code",
   "execution_count": 23,
   "id": "06105852",
   "metadata": {},
   "outputs": [],
   "source": [
    "s= \"happy new year\""
   ]
  },
  {
   "cell_type": "code",
   "execution_count": 24,
   "id": "6bbabcc0",
   "metadata": {},
   "outputs": [
    {
     "data": {
      "text/plain": [
       "'Happy new year'"
      ]
     },
     "execution_count": 24,
     "metadata": {},
     "output_type": "execute_result"
    }
   ],
   "source": [
    "s.capitalize()"
   ]
  },
  {
   "cell_type": "code",
   "execution_count": 25,
   "id": "f0689205",
   "metadata": {},
   "outputs": [
    {
     "data": {
      "text/plain": [
       "'hatty new year'"
      ]
     },
     "execution_count": 25,
     "metadata": {},
     "output_type": "execute_result"
    }
   ],
   "source": [
    "s.replace(\"p\",\"t\")"
   ]
  },
  {
   "cell_type": "code",
   "execution_count": 28,
   "id": "ef5efe46",
   "metadata": {},
   "outputs": [
    {
     "data": {
      "text/plain": [
       "'happy new year'"
      ]
     },
     "execution_count": 28,
     "metadata": {},
     "output_type": "execute_result"
    }
   ],
   "source": [
    "s.center(10,\"#\")"
   ]
  },
  {
   "cell_type": "code",
   "execution_count": 30,
   "id": "101b13b9",
   "metadata": {},
   "outputs": [
    {
     "data": {
      "text/plain": [
       "'happy new year'"
      ]
     },
     "execution_count": 30,
     "metadata": {},
     "output_type": "execute_result"
    }
   ],
   "source": [
    "s.center(10,'#')"
   ]
  },
  {
   "cell_type": "code",
   "execution_count": 2,
   "id": "39e4c6cf",
   "metadata": {},
   "outputs": [],
   "source": [
    "s=\"Happy New Year\""
   ]
  },
  {
   "cell_type": "code",
   "execution_count": 3,
   "id": "5d3fdf8b",
   "metadata": {},
   "outputs": [
    {
     "data": {
      "text/plain": [
       "'Happy New Year'"
      ]
     },
     "execution_count": 3,
     "metadata": {},
     "output_type": "execute_result"
    }
   ],
   "source": [
    "s"
   ]
  },
  {
   "cell_type": "code",
   "execution_count": 5,
   "id": "f1786e58",
   "metadata": {},
   "outputs": [
    {
     "data": {
      "text/plain": [
       "'Happy New Year'"
      ]
     },
     "execution_count": 5,
     "metadata": {},
     "output_type": "execute_result"
    }
   ],
   "source": [
    "s.center(10,'#')"
   ]
  },
  {
   "cell_type": "code",
   "execution_count": 13,
   "id": "7f307d59",
   "metadata": {},
   "outputs": [],
   "source": [
    "c=\"Care Takera\""
   ]
  },
  {
   "cell_type": "code",
   "execution_count": 7,
   "id": "bdb88de3",
   "metadata": {},
   "outputs": [
    {
     "data": {
      "text/plain": [
       "'Care\\tTaker'"
      ]
     },
     "execution_count": 7,
     "metadata": {},
     "output_type": "execute_result"
    }
   ],
   "source": [
    "c"
   ]
  },
  {
   "cell_type": "code",
   "execution_count": 8,
   "id": "853fc5fb",
   "metadata": {},
   "outputs": [
    {
     "data": {
      "text/plain": [
       "'Care    Taker'"
      ]
     },
     "execution_count": 8,
     "metadata": {},
     "output_type": "execute_result"
    }
   ],
   "source": [
    "c.expandtabs()"
   ]
  },
  {
   "cell_type": "code",
   "execution_count": 9,
   "id": "83351f75",
   "metadata": {},
   "outputs": [
    {
     "data": {
      "text/plain": [
       "2"
      ]
     },
     "execution_count": 9,
     "metadata": {},
     "output_type": "execute_result"
    }
   ],
   "source": [
    "c.count('a')"
   ]
  },
  {
   "cell_type": "code",
   "execution_count": 15,
   "id": "92970a09",
   "metadata": {},
   "outputs": [
    {
     "data": {
      "text/plain": [
       "1"
      ]
     },
     "execution_count": 15,
     "metadata": {},
     "output_type": "execute_result"
    }
   ],
   "source": []
  },
  {
   "cell_type": "code",
   "execution_count": 14,
   "id": "2a6c11f4",
   "metadata": {},
   "outputs": [
    {
     "data": {
      "text/plain": [
       "10"
      ]
     },
     "execution_count": 14,
     "metadata": {},
     "output_type": "execute_result"
    }
   ],
   "source": [
    "c.rfind('a')"
   ]
  },
  {
   "cell_type": "code",
   "execution_count": 16,
   "id": "bb8bd32c",
   "metadata": {},
   "outputs": [
    {
     "data": {
      "text/plain": [
       "False"
      ]
     },
     "execution_count": 16,
     "metadata": {},
     "output_type": "execute_result"
    }
   ],
   "source": [
    "c.islower()"
   ]
  },
  {
   "cell_type": "code",
   "execution_count": 17,
   "id": "da8a397a",
   "metadata": {},
   "outputs": [
    {
     "data": {
      "text/plain": [
       "False"
      ]
     },
     "execution_count": 17,
     "metadata": {},
     "output_type": "execute_result"
    }
   ],
   "source": [
    "c.isspace()"
   ]
  },
  {
   "cell_type": "code",
   "execution_count": 32,
   "id": "0c5f7b66",
   "metadata": {},
   "outputs": [
    {
     "name": "stdout",
     "output_type": "stream",
     "text": [
      "0b1010\n"
     ]
    }
   ],
   "source": [
    "n=10\n",
    "oc= oct(10)\n",
    "ap = bin(n)\n",
    "print(ap)"
   ]
  },
  {
   "cell_type": "code",
   "execution_count": 31,
   "id": "8b0ac9ea",
   "metadata": {},
   "outputs": [
    {
     "data": {
      "text/plain": [
       "'0b1010'"
      ]
     },
     "execution_count": 31,
     "metadata": {},
     "output_type": "execute_result"
    }
   ],
   "source": [
    "oc\n",
    "ap"
   ]
  },
  {
   "cell_type": "code",
   "execution_count": 28,
   "id": "5252c29f",
   "metadata": {},
   "outputs": [
    {
     "data": {
      "text/plain": [
       "'1010'"
      ]
     },
     "execution_count": 28,
     "metadata": {},
     "output_type": "execute_result"
    }
   ],
   "source": [
    "de= \"{0:b}\".format(n)\n",
    "de"
   ]
  },
  {
   "cell_type": "code",
   "execution_count": 21,
   "id": "25085402",
   "metadata": {},
   "outputs": [
    {
     "name": "stdout",
     "output_type": "stream",
     "text": [
      "1000\n",
      "10010\n",
      "111\n"
     ]
    }
   ],
   "source": [
    "def decimalToBinary(n):\n",
    "    return \"{0:b}\".format(int(n))\n",
    "   \n",
    "# Driver code\n",
    "if __name__ == '__main__':\n",
    "    print(decimalToBinary(8))\n",
    "    print(decimalToBinary(18))\n",
    "    print(decimalToBinary(7))"
   ]
  },
  {
   "cell_type": "code",
   "execution_count": 33,
   "id": "31e65f30",
   "metadata": {},
   "outputs": [
    {
     "data": {
      "text/plain": [
       "'0xa'"
      ]
     },
     "execution_count": 33,
     "metadata": {},
     "output_type": "execute_result"
    }
   ],
   "source": [
    "hex(n)"
   ]
  },
  {
   "cell_type": "code",
   "execution_count": 34,
   "id": "b107666c",
   "metadata": {},
   "outputs": [
    {
     "data": {
      "text/plain": [
       "'0o12'"
      ]
     },
     "execution_count": 34,
     "metadata": {},
     "output_type": "execute_result"
    }
   ],
   "source": [
    "oct(n)"
   ]
  },
  {
   "cell_type": "code",
   "execution_count": 35,
   "id": "61d6cf70",
   "metadata": {},
   "outputs": [
    {
     "data": {
      "text/plain": [
       "'0b1010'"
      ]
     },
     "execution_count": 35,
     "metadata": {},
     "output_type": "execute_result"
    }
   ],
   "source": [
    "bin(n)"
   ]
  },
  {
   "cell_type": "code",
   "execution_count": 38,
   "id": "e5d385de",
   "metadata": {},
   "outputs": [
    {
     "data": {
      "text/plain": [
       "'0b1010'"
      ]
     },
     "execution_count": 38,
     "metadata": {},
     "output_type": "execute_result"
    }
   ],
   "source": [
    "bin(n)"
   ]
  },
  {
   "cell_type": "code",
   "execution_count": 42,
   "id": "72869e14",
   "metadata": {},
   "outputs": [],
   "source": [
    "s=\"madam sir\""
   ]
  },
  {
   "cell_type": "code",
   "execution_count": 40,
   "id": "7597ac1b",
   "metadata": {},
   "outputs": [
    {
     "data": {
      "text/plain": [
       "'madam'"
      ]
     },
     "execution_count": 40,
     "metadata": {},
     "output_type": "execute_result"
    }
   ],
   "source": [
    "s[::-1]"
   ]
  },
  {
   "cell_type": "code",
   "execution_count": 43,
   "id": "a40a8c49",
   "metadata": {},
   "outputs": [
    {
     "name": "stdout",
     "output_type": "stream",
     "text": [
      "Not a palindrome\n"
     ]
    }
   ],
   "source": [
    "if(s==s[::-1]):\n",
    "    print(\"Palindrome\")\n",
    "else:\n",
    "    print(\"Not a palindrome\")"
   ]
  },
  {
   "cell_type": "code",
   "execution_count": 44,
   "id": "9c506a74",
   "metadata": {},
   "outputs": [],
   "source": [
    "l=[\"uday\",24,24]"
   ]
  },
  {
   "cell_type": "code",
   "execution_count": 45,
   "id": "800c61c7",
   "metadata": {},
   "outputs": [
    {
     "data": {
      "text/plain": [
       "['uday', 24, 24]"
      ]
     },
     "execution_count": 45,
     "metadata": {},
     "output_type": "execute_result"
    }
   ],
   "source": [
    "l"
   ]
  },
  {
   "cell_type": "code",
   "execution_count": 47,
   "id": "3393e986",
   "metadata": {},
   "outputs": [
    {
     "data": {
      "text/plain": [
       "[24, 24, 'uday']"
      ]
     },
     "execution_count": 47,
     "metadata": {},
     "output_type": "execute_result"
    }
   ],
   "source": [
    "l[::-1]"
   ]
  },
  {
   "cell_type": "code",
   "execution_count": 48,
   "id": "ed573ee0",
   "metadata": {},
   "outputs": [
    {
     "data": {
      "text/plain": [
       "3"
      ]
     },
     "execution_count": 48,
     "metadata": {},
     "output_type": "execute_result"
    }
   ],
   "source": [
    "len(l)"
   ]
  },
  {
   "cell_type": "code",
   "execution_count": 49,
   "id": "7186904b",
   "metadata": {},
   "outputs": [
    {
     "data": {
      "text/plain": [
       "True"
      ]
     },
     "execution_count": 49,
     "metadata": {},
     "output_type": "execute_result"
    }
   ],
   "source": [
    "24 in l"
   ]
  },
  {
   "cell_type": "code",
   "execution_count": 51,
   "id": "c30335d7",
   "metadata": {},
   "outputs": [
    {
     "data": {
      "text/plain": [
       "False"
      ]
     },
     "execution_count": 51,
     "metadata": {},
     "output_type": "execute_result"
    }
   ],
   "source": [
    "34  in l"
   ]
  },
  {
   "cell_type": "code",
   "execution_count": null,
   "id": "acc2f22f",
   "metadata": {},
   "outputs": [],
   "source": []
  }
 ],
 "metadata": {
  "kernelspec": {
   "display_name": "Python 3 (ipykernel)",
   "language": "python",
   "name": "python3"
  },
  "language_info": {
   "codemirror_mode": {
    "name": "ipython",
    "version": 3
   },
   "file_extension": ".py",
   "mimetype": "text/x-python",
   "name": "python",
   "nbconvert_exporter": "python",
   "pygments_lexer": "ipython3",
   "version": "3.9.7"
  }
 },
 "nbformat": 4,
 "nbformat_minor": 5
}
