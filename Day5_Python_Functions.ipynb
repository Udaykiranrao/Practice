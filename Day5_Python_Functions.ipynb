{
 "cells": [
  {
   "cell_type": "markdown",
   "id": "3e19e10c",
   "metadata": {},
   "source": [
    "# Day5_Python_Functions"
   ]
  },
  {
   "cell_type": "code",
   "execution_count": 1,
   "id": "f67ec3a6",
   "metadata": {},
   "outputs": [],
   "source": [
    "#Functions"
   ]
  },
  {
   "cell_type": "code",
   "execution_count": 10,
   "id": "630bd601",
   "metadata": {},
   "outputs": [],
   "source": [
    "def test(x,y):\n",
    "    \n",
    "    return x+y\n",
    "    #pass\n"
   ]
  },
  {
   "cell_type": "code",
   "execution_count": 11,
   "id": "9a52da1f",
   "metadata": {},
   "outputs": [
    {
     "data": {
      "text/plain": [
       "44"
      ]
     },
     "execution_count": 11,
     "metadata": {},
     "output_type": "execute_result"
    }
   ],
   "source": [
    "test(21,23)"
   ]
  },
  {
   "cell_type": "code",
   "execution_count": 12,
   "id": "71d5eaeb",
   "metadata": {},
   "outputs": [
    {
     "data": {
      "text/plain": [
       "12"
      ]
     },
     "execution_count": 12,
     "metadata": {},
     "output_type": "execute_result"
    }
   ],
   "source": [
    "test(4,8)"
   ]
  },
  {
   "cell_type": "code",
   "execution_count": 13,
   "id": "b8a3936e",
   "metadata": {},
   "outputs": [
    {
     "data": {
      "text/plain": [
       "5"
      ]
     },
     "execution_count": 13,
     "metadata": {},
     "output_type": "execute_result"
    }
   ],
   "source": [
    "test(5,0)"
   ]
  },
  {
   "cell_type": "code",
   "execution_count": 14,
   "id": "5c2817bd",
   "metadata": {},
   "outputs": [],
   "source": [
    "def test1(x,y):\n",
    "    \n",
    "    return x+y,x*y,x/y"
   ]
  },
  {
   "cell_type": "code",
   "execution_count": 15,
   "id": "b5a25e83",
   "metadata": {},
   "outputs": [
    {
     "data": {
      "text/plain": [
       "(6, 8, 2.0)"
      ]
     },
     "execution_count": 15,
     "metadata": {},
     "output_type": "execute_result"
    }
   ],
   "source": [
    "test1(4,2)"
   ]
  },
  {
   "cell_type": "code",
   "execution_count": 16,
   "id": "32ed28cb",
   "metadata": {},
   "outputs": [],
   "source": [
    "x,y,z=test1(4,2)"
   ]
  },
  {
   "cell_type": "code",
   "execution_count": 17,
   "id": "53b1a005",
   "metadata": {},
   "outputs": [
    {
     "data": {
      "text/plain": [
       "6"
      ]
     },
     "execution_count": 17,
     "metadata": {},
     "output_type": "execute_result"
    }
   ],
   "source": [
    "x"
   ]
  },
  {
   "cell_type": "code",
   "execution_count": 18,
   "id": "3b4c3b50",
   "metadata": {},
   "outputs": [
    {
     "data": {
      "text/plain": [
       "8"
      ]
     },
     "execution_count": 18,
     "metadata": {},
     "output_type": "execute_result"
    }
   ],
   "source": [
    "y"
   ]
  },
  {
   "cell_type": "code",
   "execution_count": 19,
   "id": "519d6e92",
   "metadata": {},
   "outputs": [
    {
     "data": {
      "text/plain": [
       "2.0"
      ]
     },
     "execution_count": 19,
     "metadata": {},
     "output_type": "execute_result"
    }
   ],
   "source": [
    "z"
   ]
  },
  {
   "cell_type": "code",
   "execution_count": 32,
   "id": "d8e6fc84",
   "metadata": {},
   "outputs": [],
   "source": [
    "a,_,c=test1(10,5)"
   ]
  },
  {
   "cell_type": "code",
   "execution_count": 21,
   "id": "c86bae21",
   "metadata": {},
   "outputs": [
    {
     "data": {
      "text/plain": [
       "15"
      ]
     },
     "execution_count": 21,
     "metadata": {},
     "output_type": "execute_result"
    }
   ],
   "source": [
    "a"
   ]
  },
  {
   "cell_type": "code",
   "execution_count": 22,
   "id": "aacca4a0",
   "metadata": {},
   "outputs": [
    {
     "data": {
      "text/plain": [
       "50"
      ]
     },
     "execution_count": 22,
     "metadata": {},
     "output_type": "execute_result"
    }
   ],
   "source": [
    "b"
   ]
  },
  {
   "cell_type": "code",
   "execution_count": 23,
   "id": "66a0d1dd",
   "metadata": {},
   "outputs": [
    {
     "data": {
      "text/plain": [
       "2.0"
      ]
     },
     "execution_count": 23,
     "metadata": {},
     "output_type": "execute_result"
    }
   ],
   "source": [
    "_"
   ]
  },
  {
   "cell_type": "code",
   "execution_count": 28,
   "id": "dc52e961",
   "metadata": {},
   "outputs": [],
   "source": [
    "_,_,_=test1(10,5)"
   ]
  },
  {
   "cell_type": "code",
   "execution_count": 30,
   "id": "5be9c71b",
   "metadata": {},
   "outputs": [
    {
     "data": {
      "text/plain": [
       "2.0"
      ]
     },
     "execution_count": 30,
     "metadata": {},
     "output_type": "execute_result"
    }
   ],
   "source": [
    "_"
   ]
  },
  {
   "cell_type": "code",
   "execution_count": 26,
   "id": "aae54c67",
   "metadata": {},
   "outputs": [
    {
     "data": {
      "text/plain": [
       "2.0"
      ]
     },
     "execution_count": 26,
     "metadata": {},
     "output_type": "execute_result"
    }
   ],
   "source": [
    "_"
   ]
  },
  {
   "cell_type": "code",
   "execution_count": 31,
   "id": "bea706a5",
   "metadata": {},
   "outputs": [
    {
     "data": {
      "text/plain": [
       "2.0"
      ]
     },
     "execution_count": 31,
     "metadata": {},
     "output_type": "execute_result"
    }
   ],
   "source": [
    "_"
   ]
  },
  {
   "cell_type": "code",
   "execution_count": 33,
   "id": "5a61e0d5",
   "metadata": {},
   "outputs": [],
   "source": [
    "def test2(x,y):\n",
    "    return x-y\n",
    "    return x+y"
   ]
  },
  {
   "cell_type": "code",
   "execution_count": 34,
   "id": "d0b9bb8d",
   "metadata": {},
   "outputs": [
    {
     "data": {
      "text/plain": [
       "5"
      ]
     },
     "execution_count": 34,
     "metadata": {},
     "output_type": "execute_result"
    }
   ],
   "source": [
    "test2(10,5)"
   ]
  },
  {
   "cell_type": "code",
   "execution_count": 37,
   "id": "0cf72dbb",
   "metadata": {},
   "outputs": [],
   "source": [
    "def test3(n):\n",
    "    return n*2,n\n"
   ]
  },
  {
   "cell_type": "code",
   "execution_count": 39,
   "id": "f883b3c3",
   "metadata": {},
   "outputs": [],
   "source": [
    "b=test3([1,2,3,4])"
   ]
  },
  {
   "cell_type": "code",
   "execution_count": 40,
   "id": "9cfd58b3",
   "metadata": {},
   "outputs": [
    {
     "data": {
      "text/plain": [
       "[1, 2, 3, 4, 1, 2, 3, 4]"
      ]
     },
     "execution_count": 40,
     "metadata": {},
     "output_type": "execute_result"
    }
   ],
   "source": [
    "b[0]"
   ]
  },
  {
   "cell_type": "code",
   "execution_count": 41,
   "id": "50310def",
   "metadata": {},
   "outputs": [
    {
     "data": {
      "text/plain": [
       "3"
      ]
     },
     "execution_count": 41,
     "metadata": {},
     "output_type": "execute_result"
    }
   ],
   "source": [
    "b[1][2]"
   ]
  },
  {
   "cell_type": "code",
   "execution_count": 49,
   "id": "3d7ddc2c",
   "metadata": {},
   "outputs": [],
   "source": [
    "def test4(n,m=30):\n",
    "    return n*m"
   ]
  },
  {
   "cell_type": "code",
   "execution_count": 50,
   "id": "efb55e77",
   "metadata": {},
   "outputs": [
    {
     "data": {
      "text/plain": [
       "100"
      ]
     },
     "execution_count": 50,
     "metadata": {},
     "output_type": "execute_result"
    }
   ],
   "source": [
    "test4(10,10)"
   ]
  },
  {
   "cell_type": "code",
   "execution_count": 51,
   "id": "ae960a9d",
   "metadata": {},
   "outputs": [
    {
     "data": {
      "text/plain": [
       "300"
      ]
     },
     "execution_count": 51,
     "metadata": {},
     "output_type": "execute_result"
    }
   ],
   "source": [
    "test4(10)"
   ]
  },
  {
   "cell_type": "code",
   "execution_count": 52,
   "id": "b1c7cfc0",
   "metadata": {},
   "outputs": [],
   "source": [
    "def boolx(x=True ,y = False):\n",
    "    return x+y"
   ]
  },
  {
   "cell_type": "code",
   "execution_count": 53,
   "id": "98bb13cf",
   "metadata": {},
   "outputs": [
    {
     "data": {
      "text/plain": [
       "1"
      ]
     },
     "execution_count": 53,
     "metadata": {},
     "output_type": "execute_result"
    }
   ],
   "source": [
    "boolx()"
   ]
  },
  {
   "cell_type": "code",
   "execution_count": 54,
   "id": "ebc1199c",
   "metadata": {},
   "outputs": [
    {
     "data": {
      "text/plain": [
       "0"
      ]
     },
     "execution_count": 54,
     "metadata": {},
     "output_type": "execute_result"
    }
   ],
   "source": [
    "boolx(False)"
   ]
  },
  {
   "cell_type": "code",
   "execution_count": 55,
   "id": "0eca01ee",
   "metadata": {},
   "outputs": [
    {
     "data": {
      "text/plain": [
       "8"
      ]
     },
     "execution_count": 55,
     "metadata": {},
     "output_type": "execute_result"
    }
   ],
   "source": [
    "boolx(False,8)"
   ]
  },
  {
   "cell_type": "code",
   "execution_count": 56,
   "id": "3b975169",
   "metadata": {},
   "outputs": [],
   "source": [
    "def test5(*args):\n",
    "    return args"
   ]
  },
  {
   "cell_type": "code",
   "execution_count": 57,
   "id": "71314a66",
   "metadata": {},
   "outputs": [
    {
     "data": {
      "text/plain": [
       "('uday', 'kiran', 1, 2, [1, 2, 3])"
      ]
     },
     "execution_count": 57,
     "metadata": {},
     "output_type": "execute_result"
    }
   ],
   "source": [
    "test5(\"uday\",\"kiran\",1,2,[1,2,3])"
   ]
  },
  {
   "cell_type": "code",
   "execution_count": 60,
   "id": "9cc72f50",
   "metadata": {},
   "outputs": [],
   "source": [
    "def test6(*args):\n",
    "    l=[]\n",
    "    for i in args:\n",
    "        l.extend(i)\n",
    "    return l"
   ]
  },
  {
   "cell_type": "code",
   "execution_count": 61,
   "id": "d30643d7",
   "metadata": {},
   "outputs": [
    {
     "data": {
      "text/plain": [
       "[1, 2, 3, 4, 5, 6, 7, 8, 9]"
      ]
     },
     "execution_count": 61,
     "metadata": {},
     "output_type": "execute_result"
    }
   ],
   "source": [
    "test6([1,2,3],[4,5,6],[7,8,9])"
   ]
  },
  {
   "cell_type": "code",
   "execution_count": 81,
   "id": "adf197d1",
   "metadata": {},
   "outputs": [],
   "source": [
    "def test7(*args):\n",
    "    l=[]\n",
    "    return [l+i for i in args]"
   ]
  },
  {
   "cell_type": "code",
   "execution_count": 82,
   "id": "0159e3cc",
   "metadata": {},
   "outputs": [
    {
     "data": {
      "text/plain": [
       "[[1, 2, 3], [4, 5, 6], [7, 8, 9]]"
      ]
     },
     "execution_count": 82,
     "metadata": {},
     "output_type": "execute_result"
    }
   ],
   "source": [
    "test7([1,2,3],[4,5,6],[7,8,9])\n"
   ]
  },
  {
   "cell_type": "code",
   "execution_count": 83,
   "id": "3bf6f9e5",
   "metadata": {},
   "outputs": [],
   "source": [
    "def test8(**kwargs):\n",
    "    return kwargs"
   ]
  },
  {
   "cell_type": "code",
   "execution_count": 84,
   "id": "d2c4add0",
   "metadata": {},
   "outputs": [
    {
     "ename": "TypeError",
     "evalue": "test8() takes 0 positional arguments but 4 were given",
     "output_type": "error",
     "traceback": [
      "\u001b[1;31m---------------------------------------------------------------------------\u001b[0m",
      "\u001b[1;31mTypeError\u001b[0m                                 Traceback (most recent call last)",
      "\u001b[1;32m~\\AppData\\Local\\Temp/ipykernel_5384/2673211985.py\u001b[0m in \u001b[0;36m<module>\u001b[1;34m\u001b[0m\n\u001b[1;32m----> 1\u001b[1;33m \u001b[0mtest8\u001b[0m\u001b[1;33m(\u001b[0m\u001b[1;36m4\u001b[0m\u001b[1;33m,\u001b[0m\u001b[1;36m45\u001b[0m\u001b[1;33m,\u001b[0m\u001b[1;36m56\u001b[0m\u001b[1;33m,\u001b[0m\u001b[1;36m77\u001b[0m\u001b[1;33m)\u001b[0m\u001b[1;33m\u001b[0m\u001b[1;33m\u001b[0m\u001b[0m\n\u001b[0m",
      "\u001b[1;31mTypeError\u001b[0m: test8() takes 0 positional arguments but 4 were given"
     ]
    }
   ],
   "source": [
    "test8(4,45,56,77)"
   ]
  },
  {
   "cell_type": "code",
   "execution_count": 87,
   "id": "51630470",
   "metadata": {},
   "outputs": [
    {
     "data": {
      "text/plain": [
       "{'a': 8, 'b': (1, 2, 3), 'c': [1, 2, 3, 4], 'd': {'name': 'Uday', 'age': 23}}"
      ]
     },
     "execution_count": 87,
     "metadata": {},
     "output_type": "execute_result"
    }
   ],
   "source": [
    "test8(a=8,b=(1,2,3),c=[1,2,3,4],d={\"name\":\"Uday\",\"age\":23})"
   ]
  },
  {
   "cell_type": "code",
   "execution_count": 88,
   "id": "d332e8ee",
   "metadata": {},
   "outputs": [],
   "source": [
    "def fun1(*args):\n",
    "    l=[]\n",
    "    s=[]\n",
    "    inte=[]\n",
    "    t=[]\n",
    "    d=[]\n",
    "    st=[]\n",
    "    for i in args:\n",
    "        if(type(i)==list):\n",
    "            l.append(i)\n",
    "        elif(type(i)== tuple):\n",
    "            t.append(i)\n",
    "        elif(type(i)== int):\n",
    "            inte.append(i)\n",
    "        elif(type(i)== set):\n",
    "            s.append(i)\n",
    "        elif(type(i)== dict):\n",
    "            d.append(i)\n",
    "        else:\n",
    "            st.append(i)\n",
    "    return l,t,inte,s,d,st"
   ]
  },
  {
   "cell_type": "code",
   "execution_count": 97,
   "id": "af247e0b",
   "metadata": {},
   "outputs": [
    {
     "ename": "SyntaxError",
     "evalue": "expression cannot contain assignment, perhaps you meant \"==\"? (Temp/ipykernel_5384/2440287349.py, line 1)",
     "output_type": "error",
     "traceback": [
      "\u001b[1;36m  File \u001b[1;32m\"C:\\Users\\udayk\\AppData\\Local\\Temp/ipykernel_5384/2440287349.py\"\u001b[1;36m, line \u001b[1;32m1\u001b[0m\n\u001b[1;33m    fun1([1,2,3],\"Uday\",{12,13,14},{\"a\":1,\"z\":26},\"Kiran\",'a'=23,'b'=56,'c'=(3,4,5))\u001b[0m\n\u001b[1;37m                                                          ^\u001b[0m\n\u001b[1;31mSyntaxError\u001b[0m\u001b[1;31m:\u001b[0m expression cannot contain assignment, perhaps you meant \"==\"?\n"
     ]
    }
   ],
   "source": [
    "fun1([1,2,3],\"Uday\",{12,13,14},{\"a\":1,\"z\":26},\"Kiran\",'a'=23,'b'=56,'c'=(3,4,5))"
   ]
  },
  {
   "cell_type": "code",
   "execution_count": 99,
   "id": "6070ee55",
   "metadata": {},
   "outputs": [],
   "source": [
    "def fun2(*args,**kwargs):\n",
    "    l=[]\n",
    "    l1=[]\n",
    "    for i in args:\n",
    "        l.append(i)\n",
    "    for i in kwargs.items():\n",
    "        l1.append(i[1])\n",
    "        #print(l1)\n",
    "    return l,l1"
   ]
  },
  {
   "cell_type": "code",
   "execution_count": 100,
   "id": "731124ee",
   "metadata": {},
   "outputs": [
    {
     "data": {
      "text/plain": [
       "([[1, 2, 3],\n",
       "  23,\n",
       "  56,\n",
       "  (3, 4, 5),\n",
       "  'Uday',\n",
       "  {12, 13, 14},\n",
       "  {'a': 1, 'z': 26},\n",
       "  'Kiran'],\n",
       " [8, (1, 2, 3), [1, 2, 3, 4]])"
      ]
     },
     "execution_count": 100,
     "metadata": {},
     "output_type": "execute_result"
    }
   ],
   "source": [
    "fun2([1,2,3],23,56,(3,4,5),\"Uday\",{12,13,14},{\"a\":1,\"z\":26},\"Kiran\",a=8,b=(1,2,3),c=[1,2,3,4])"
   ]
  },
  {
   "cell_type": "code",
   "execution_count": 101,
   "id": "6c84dcd9",
   "metadata": {},
   "outputs": [
    {
     "data": {
      "text/plain": [
       "([], [8, 9, [10]])"
      ]
     },
     "execution_count": 101,
     "metadata": {},
     "output_type": "execute_result"
    }
   ],
   "source": [
    "fun2(a=8,b=9,c=[10])"
   ]
  },
  {
   "cell_type": "code",
   "execution_count": 102,
   "id": "8e06f6ef",
   "metadata": {},
   "outputs": [],
   "source": [
    "def uday(*args):\n",
    "    dt={}\n",
    "    for i in args:\n",
    "        if(type(i) in dt):\n",
    "            dt[type(i)].append(i)\n",
    "        else:\n",
    "            dt[type(i)] =[i]\n",
    "    return dt"
   ]
  },
  {
   "cell_type": "code",
   "execution_count": 106,
   "id": "7340b511",
   "metadata": {},
   "outputs": [
    {
     "data": {
      "text/plain": [
       "{list: [[1, 2, 3]],\n",
       " str: ['Uday', 'Kiran'],\n",
       " set: [{12, 13, 14}],\n",
       " dict: [{'a': 1, 'z': 26}],\n",
       " complex: [(6+6j)],\n",
       " float: [6.5],\n",
       " tuple: [(7, 6, 8)],\n",
       " bool: [True, False],\n",
       " int: [2, 3, 56, 89]}"
      ]
     },
     "execution_count": 106,
     "metadata": {},
     "output_type": "execute_result"
    }
   ],
   "source": [
    "uday([1,2,3],\"Uday\",{12,13,14},{\"a\":1,\"z\":26},\"Kiran\",6+6j,6.5,(7,6,8),True,False,2,3,56,89)"
   ]
  },
  {
   "cell_type": "code",
   "execution_count": 107,
   "id": "453b990f",
   "metadata": {},
   "outputs": [],
   "source": [
    "ll={list: [[1, 2, 3]],\n",
    " str: ['Uday', 'Kiran'],\n",
    " set: [{12, 13, 14}],\n",
    " dict: [{'a': 1, 'z': 26}],\n",
    " complex: [(6+6j)],\n",
    " float: [6.5],\n",
    " tuple: [(7, 6, 8)],\n",
    " bool: [True, False],\n",
    " int: [2, 3, 56, 89]}"
   ]
  },
  {
   "cell_type": "code",
   "execution_count": 112,
   "id": "c52cd5e6",
   "metadata": {},
   "outputs": [
    {
     "data": {
      "text/plain": [
       "dict"
      ]
     },
     "execution_count": 112,
     "metadata": {},
     "output_type": "execute_result"
    }
   ],
   "source": [
    "type(ll)"
   ]
  },
  {
   "cell_type": "code",
   "execution_count": 114,
   "id": "7483e72a",
   "metadata": {},
   "outputs": [
    {
     "data": {
      "text/plain": [
       "[[1, 2, 3]]"
      ]
     },
     "execution_count": 114,
     "metadata": {},
     "output_type": "execute_result"
    }
   ],
   "source": [
    "ll[list]"
   ]
  },
  {
   "cell_type": "code",
   "execution_count": 1,
   "id": "b9c7fb1e",
   "metadata": {},
   "outputs": [
    {
     "ename": "NameError",
     "evalue": "name 'll' is not defined",
     "output_type": "error",
     "traceback": [
      "\u001b[1;31m---------------------------------------------------------------------------\u001b[0m",
      "\u001b[1;31mNameError\u001b[0m                                 Traceback (most recent call last)",
      "\u001b[1;32m~\\AppData\\Local\\Temp/ipykernel_14904/444493751.py\u001b[0m in \u001b[0;36m<module>\u001b[1;34m\u001b[0m\n\u001b[1;32m----> 1\u001b[1;33m \u001b[0mll\u001b[0m\u001b[1;33m[\u001b[0m\u001b[0mstr\u001b[0m\u001b[1;33m]\u001b[0m\u001b[1;33m\u001b[0m\u001b[1;33m\u001b[0m\u001b[0m\n\u001b[0m",
      "\u001b[1;31mNameError\u001b[0m: name 'll' is not defined"
     ]
    }
   ],
   "source": [
    "ll[str]"
   ]
  },
  {
   "cell_type": "code",
   "execution_count": 2,
   "id": "dc61a5aa",
   "metadata": {},
   "outputs": [],
   "source": [
    "def test1(name,mailId):\n",
    "    return mailId,name"
   ]
  },
  {
   "cell_type": "code",
   "execution_count": 3,
   "id": "44119ce3",
   "metadata": {},
   "outputs": [
    {
     "data": {
      "text/plain": [
       "('uday@gmail.com', 'uday')"
      ]
     },
     "execution_count": 3,
     "metadata": {},
     "output_type": "execute_result"
    }
   ],
   "source": [
    "test1(\"uday\",\"uday@gmail.com\")"
   ]
  },
  {
   "cell_type": "code",
   "execution_count": 4,
   "id": "5cb8f5fd",
   "metadata": {},
   "outputs": [],
   "source": [
    "m= lambda a,b : a*b "
   ]
  },
  {
   "cell_type": "code",
   "execution_count": 5,
   "id": "9b1c3488",
   "metadata": {},
   "outputs": [
    {
     "data": {
      "text/plain": [
       "10"
      ]
     },
     "execution_count": 5,
     "metadata": {},
     "output_type": "execute_result"
    }
   ],
   "source": [
    "m(2,5)"
   ]
  },
  {
   "cell_type": "code",
   "execution_count": 6,
   "id": "16a5bf7e",
   "metadata": {},
   "outputs": [],
   "source": [
    "n= lambda a,b : a+b"
   ]
  },
  {
   "cell_type": "code",
   "execution_count": 7,
   "id": "8fb9ca50",
   "metadata": {},
   "outputs": [
    {
     "data": {
      "text/plain": [
       "'Uday Kiran'"
      ]
     },
     "execution_count": 7,
     "metadata": {},
     "output_type": "execute_result"
    }
   ],
   "source": [
    "n(\"Uday \",\"Kiran\")"
   ]
  },
  {
   "cell_type": "code",
   "execution_count": 8,
   "id": "e557ae5c",
   "metadata": {},
   "outputs": [
    {
     "data": {
      "text/plain": [
       "[1, 2, 3, 4, 5, 6]"
      ]
     },
     "execution_count": 8,
     "metadata": {},
     "output_type": "execute_result"
    }
   ],
   "source": [
    "n([1,2,3],[4,5,6])"
   ]
  },
  {
   "cell_type": "code",
   "execution_count": 9,
   "id": "8b8bc6c3",
   "metadata": {},
   "outputs": [
    {
     "data": {
      "text/plain": [
       "[1, 2, 3, 1, 2, 3, 1, 2, 3]"
      ]
     },
     "execution_count": 9,
     "metadata": {},
     "output_type": "execute_result"
    }
   ],
   "source": [
    "m([1,2,3],3)"
   ]
  },
  {
   "cell_type": "code",
   "execution_count": 10,
   "id": "484f3421",
   "metadata": {},
   "outputs": [],
   "source": [
    "a= \"sudh\"\n",
    "b= \"kum\"\n",
    "c= lambda arg1, arg2 :print(arg1,arg2)\n"
   ]
  },
  {
   "cell_type": "code",
   "execution_count": 11,
   "id": "56f4f472",
   "metadata": {},
   "outputs": [
    {
     "name": "stdout",
     "output_type": "stream",
     "text": [
      "sudh kum\n"
     ]
    }
   ],
   "source": [
    "c(a,b)"
   ]
  },
  {
   "cell_type": "code",
   "execution_count": 13,
   "id": "e1a0628c",
   "metadata": {},
   "outputs": [
    {
     "name": "stdout",
     "output_type": "stream",
     "text": [
      "\n"
     ]
    }
   ],
   "source": [
    "print()"
   ]
  },
  {
   "cell_type": "code",
   "execution_count": 18,
   "id": "5415eee5",
   "metadata": {},
   "outputs": [],
   "source": [
    "def uday():\n",
    "    \"\"\"\n",
    "    This function written's \"Uday\"\n",
    "    \"\"\"\n",
    "    return \"Uday\""
   ]
  },
  {
   "cell_type": "code",
   "execution_count": 19,
   "id": "080627e5",
   "metadata": {},
   "outputs": [
    {
     "data": {
      "text/plain": [
       "'Uday'"
      ]
     },
     "execution_count": 19,
     "metadata": {},
     "output_type": "execute_result"
    }
   ],
   "source": [
    "uday()"
   ]
  },
  {
   "cell_type": "code",
   "execution_count": 20,
   "id": "8bde8f3f",
   "metadata": {},
   "outputs": [
    {
     "name": "stdout",
     "output_type": "stream",
     "text": [
      "Help on built-in function print in module builtins:\n",
      "\n",
      "print(...)\n",
      "    print(value, ..., sep=' ', end='\\n', file=sys.stdout, flush=False)\n",
      "    \n",
      "    Prints the values to a stream, or to sys.stdout by default.\n",
      "    Optional keyword arguments:\n",
      "    file:  a file-like object (stream); defaults to the current sys.stdout.\n",
      "    sep:   string inserted between values, default a space.\n",
      "    end:   string appended after the last value, default a newline.\n",
      "    flush: whether to forcibly flush the stream.\n",
      "\n"
     ]
    }
   ],
   "source": [
    "help(print)"
   ]
  },
  {
   "cell_type": "code",
   "execution_count": 21,
   "id": "38271cc0",
   "metadata": {},
   "outputs": [
    {
     "name": "stdout",
     "output_type": "stream",
     "text": [
      "Help on function uday in module __main__:\n",
      "\n",
      "uday()\n",
      "    This function written's \"Uday\"\n",
      "\n"
     ]
    }
   ],
   "source": [
    "help(uday)"
   ]
  },
  {
   "cell_type": "code",
   "execution_count": 22,
   "id": "b96c4425",
   "metadata": {},
   "outputs": [
    {
     "name": "stdout",
     "output_type": "stream",
     "text": [
      "Help on class int in module builtins:\n",
      "\n",
      "class int(object)\n",
      " |  int([x]) -> integer\n",
      " |  int(x, base=10) -> integer\n",
      " |  \n",
      " |  Convert a number or string to an integer, or return 0 if no arguments\n",
      " |  are given.  If x is a number, return x.__int__().  For floating point\n",
      " |  numbers, this truncates towards zero.\n",
      " |  \n",
      " |  If x is not a number or if base is given, then x must be a string,\n",
      " |  bytes, or bytearray instance representing an integer literal in the\n",
      " |  given base.  The literal can be preceded by '+' or '-' and be surrounded\n",
      " |  by whitespace.  The base defaults to 10.  Valid bases are 0 and 2-36.\n",
      " |  Base 0 means to interpret the base from the string as an integer literal.\n",
      " |  >>> int('0b100', base=0)\n",
      " |  4\n",
      " |  \n",
      " |  Built-in subclasses:\n",
      " |      bool\n",
      " |  \n",
      " |  Methods defined here:\n",
      " |  \n",
      " |  __abs__(self, /)\n",
      " |      abs(self)\n",
      " |  \n",
      " |  __add__(self, value, /)\n",
      " |      Return self+value.\n",
      " |  \n",
      " |  __and__(self, value, /)\n",
      " |      Return self&value.\n",
      " |  \n",
      " |  __bool__(self, /)\n",
      " |      self != 0\n",
      " |  \n",
      " |  __ceil__(...)\n",
      " |      Ceiling of an Integral returns itself.\n",
      " |  \n",
      " |  __divmod__(self, value, /)\n",
      " |      Return divmod(self, value).\n",
      " |  \n",
      " |  __eq__(self, value, /)\n",
      " |      Return self==value.\n",
      " |  \n",
      " |  __float__(self, /)\n",
      " |      float(self)\n",
      " |  \n",
      " |  __floor__(...)\n",
      " |      Flooring an Integral returns itself.\n",
      " |  \n",
      " |  __floordiv__(self, value, /)\n",
      " |      Return self//value.\n",
      " |  \n",
      " |  __format__(self, format_spec, /)\n",
      " |      Default object formatter.\n",
      " |  \n",
      " |  __ge__(self, value, /)\n",
      " |      Return self>=value.\n",
      " |  \n",
      " |  __getattribute__(self, name, /)\n",
      " |      Return getattr(self, name).\n",
      " |  \n",
      " |  __getnewargs__(self, /)\n",
      " |  \n",
      " |  __gt__(self, value, /)\n",
      " |      Return self>value.\n",
      " |  \n",
      " |  __hash__(self, /)\n",
      " |      Return hash(self).\n",
      " |  \n",
      " |  __index__(self, /)\n",
      " |      Return self converted to an integer, if self is suitable for use as an index into a list.\n",
      " |  \n",
      " |  __int__(self, /)\n",
      " |      int(self)\n",
      " |  \n",
      " |  __invert__(self, /)\n",
      " |      ~self\n",
      " |  \n",
      " |  __le__(self, value, /)\n",
      " |      Return self<=value.\n",
      " |  \n",
      " |  __lshift__(self, value, /)\n",
      " |      Return self<<value.\n",
      " |  \n",
      " |  __lt__(self, value, /)\n",
      " |      Return self<value.\n",
      " |  \n",
      " |  __mod__(self, value, /)\n",
      " |      Return self%value.\n",
      " |  \n",
      " |  __mul__(self, value, /)\n",
      " |      Return self*value.\n",
      " |  \n",
      " |  __ne__(self, value, /)\n",
      " |      Return self!=value.\n",
      " |  \n",
      " |  __neg__(self, /)\n",
      " |      -self\n",
      " |  \n",
      " |  __or__(self, value, /)\n",
      " |      Return self|value.\n",
      " |  \n",
      " |  __pos__(self, /)\n",
      " |      +self\n",
      " |  \n",
      " |  __pow__(self, value, mod=None, /)\n",
      " |      Return pow(self, value, mod).\n",
      " |  \n",
      " |  __radd__(self, value, /)\n",
      " |      Return value+self.\n",
      " |  \n",
      " |  __rand__(self, value, /)\n",
      " |      Return value&self.\n",
      " |  \n",
      " |  __rdivmod__(self, value, /)\n",
      " |      Return divmod(value, self).\n",
      " |  \n",
      " |  __repr__(self, /)\n",
      " |      Return repr(self).\n",
      " |  \n",
      " |  __rfloordiv__(self, value, /)\n",
      " |      Return value//self.\n",
      " |  \n",
      " |  __rlshift__(self, value, /)\n",
      " |      Return value<<self.\n",
      " |  \n",
      " |  __rmod__(self, value, /)\n",
      " |      Return value%self.\n",
      " |  \n",
      " |  __rmul__(self, value, /)\n",
      " |      Return value*self.\n",
      " |  \n",
      " |  __ror__(self, value, /)\n",
      " |      Return value|self.\n",
      " |  \n",
      " |  __round__(...)\n",
      " |      Rounding an Integral returns itself.\n",
      " |      Rounding with an ndigits argument also returns an integer.\n",
      " |  \n",
      " |  __rpow__(self, value, mod=None, /)\n",
      " |      Return pow(value, self, mod).\n",
      " |  \n",
      " |  __rrshift__(self, value, /)\n",
      " |      Return value>>self.\n",
      " |  \n",
      " |  __rshift__(self, value, /)\n",
      " |      Return self>>value.\n",
      " |  \n",
      " |  __rsub__(self, value, /)\n",
      " |      Return value-self.\n",
      " |  \n",
      " |  __rtruediv__(self, value, /)\n",
      " |      Return value/self.\n",
      " |  \n",
      " |  __rxor__(self, value, /)\n",
      " |      Return value^self.\n",
      " |  \n",
      " |  __sizeof__(self, /)\n",
      " |      Returns size in memory, in bytes.\n",
      " |  \n",
      " |  __sub__(self, value, /)\n",
      " |      Return self-value.\n",
      " |  \n",
      " |  __truediv__(self, value, /)\n",
      " |      Return self/value.\n",
      " |  \n",
      " |  __trunc__(...)\n",
      " |      Truncating an Integral returns itself.\n",
      " |  \n",
      " |  __xor__(self, value, /)\n",
      " |      Return self^value.\n",
      " |  \n",
      " |  as_integer_ratio(self, /)\n",
      " |      Return integer ratio.\n",
      " |      \n",
      " |      Return a pair of integers, whose ratio is exactly equal to the original int\n",
      " |      and with a positive denominator.\n",
      " |      \n",
      " |      >>> (10).as_integer_ratio()\n",
      " |      (10, 1)\n",
      " |      >>> (-10).as_integer_ratio()\n",
      " |      (-10, 1)\n",
      " |      >>> (0).as_integer_ratio()\n",
      " |      (0, 1)\n",
      " |  \n",
      " |  bit_length(self, /)\n",
      " |      Number of bits necessary to represent self in binary.\n",
      " |      \n",
      " |      >>> bin(37)\n",
      " |      '0b100101'\n",
      " |      >>> (37).bit_length()\n",
      " |      6\n",
      " |  \n",
      " |  conjugate(...)\n",
      " |      Returns self, the complex conjugate of any int.\n",
      " |  \n",
      " |  to_bytes(self, /, length, byteorder, *, signed=False)\n",
      " |      Return an array of bytes representing an integer.\n",
      " |      \n",
      " |      length\n",
      " |        Length of bytes object to use.  An OverflowError is raised if the\n",
      " |        integer is not representable with the given number of bytes.\n",
      " |      byteorder\n",
      " |        The byte order used to represent the integer.  If byteorder is 'big',\n",
      " |        the most significant byte is at the beginning of the byte array.  If\n",
      " |        byteorder is 'little', the most significant byte is at the end of the\n",
      " |        byte array.  To request the native byte order of the host system, use\n",
      " |        `sys.byteorder' as the byte order value.\n",
      " |      signed\n",
      " |        Determines whether two's complement is used to represent the integer.\n",
      " |        If signed is False and a negative integer is given, an OverflowError\n",
      " |        is raised.\n",
      " |  \n",
      " |  ----------------------------------------------------------------------\n",
      " |  Class methods defined here:\n",
      " |  \n",
      " |  from_bytes(bytes, byteorder, *, signed=False) from builtins.type\n",
      " |      Return the integer represented by the given array of bytes.\n",
      " |      \n",
      " |      bytes\n",
      " |        Holds the array of bytes to convert.  The argument must either\n",
      " |        support the buffer protocol or be an iterable object producing bytes.\n",
      " |        Bytes and bytearray are examples of built-in objects that support the\n",
      " |        buffer protocol.\n",
      " |      byteorder\n",
      " |        The byte order used to represent the integer.  If byteorder is 'big',\n",
      " |        the most significant byte is at the beginning of the byte array.  If\n",
      " |        byteorder is 'little', the most significant byte is at the end of the\n",
      " |        byte array.  To request the native byte order of the host system, use\n",
      " |        `sys.byteorder' as the byte order value.\n",
      " |      signed\n",
      " |        Indicates whether two's complement is used to represent the integer.\n",
      " |  \n",
      " |  ----------------------------------------------------------------------\n",
      " |  Static methods defined here:\n",
      " |  \n",
      " |  __new__(*args, **kwargs) from builtins.type\n",
      " |      Create and return a new object.  See help(type) for accurate signature.\n",
      " |  \n",
      " |  ----------------------------------------------------------------------\n",
      " |  Data descriptors defined here:\n",
      " |  \n",
      " |  denominator\n",
      " |      the denominator of a rational number in lowest terms\n",
      " |  \n",
      " |  imag\n",
      " |      the imaginary part of a complex number\n",
      " |  \n",
      " |  numerator\n",
      " |      the numerator of a rational number in lowest terms\n",
      " |  \n",
      " |  real\n",
      " |      the real part of a complex number\n",
      "\n"
     ]
    }
   ],
   "source": [
    "help(int)"
   ]
  },
  {
   "cell_type": "code",
   "execution_count": 23,
   "id": "44efa81e",
   "metadata": {},
   "outputs": [
    {
     "ename": "TypeError",
     "evalue": "'str' object is not an iterator",
     "output_type": "error",
     "traceback": [
      "\u001b[1;31m---------------------------------------------------------------------------\u001b[0m",
      "\u001b[1;31mTypeError\u001b[0m                                 Traceback (most recent call last)",
      "\u001b[1;32m~\\AppData\\Local\\Temp/ipykernel_14904/3994384665.py\u001b[0m in \u001b[0;36m<module>\u001b[1;34m\u001b[0m\n\u001b[0;32m      1\u001b[0m \u001b[0ms\u001b[0m\u001b[1;33m=\u001b[0m\u001b[1;34m\"uday\"\u001b[0m\u001b[1;33m\u001b[0m\u001b[1;33m\u001b[0m\u001b[0m\n\u001b[1;32m----> 2\u001b[1;33m \u001b[0mnext\u001b[0m\u001b[1;33m(\u001b[0m\u001b[0ms\u001b[0m\u001b[1;33m)\u001b[0m\u001b[1;33m\u001b[0m\u001b[1;33m\u001b[0m\u001b[0m\n\u001b[0m",
      "\u001b[1;31mTypeError\u001b[0m: 'str' object is not an iterator"
     ]
    }
   ],
   "source": [
    "s=\"uday\"\n",
    "next(s)"
   ]
  },
  {
   "cell_type": "code",
   "execution_count": 1,
   "id": "f6f67280",
   "metadata": {},
   "outputs": [],
   "source": [
    "s=\"uday\""
   ]
  },
  {
   "cell_type": "code",
   "execution_count": 2,
   "id": "007b6950",
   "metadata": {},
   "outputs": [],
   "source": [
    "s=iter(s)"
   ]
  },
  {
   "cell_type": "code",
   "execution_count": 3,
   "id": "58e6ccaa",
   "metadata": {},
   "outputs": [
    {
     "data": {
      "text/plain": [
       "'u'"
      ]
     },
     "execution_count": 3,
     "metadata": {},
     "output_type": "execute_result"
    }
   ],
   "source": [
    "next(s)"
   ]
  },
  {
   "cell_type": "code",
   "execution_count": 4,
   "id": "a7c39190",
   "metadata": {},
   "outputs": [
    {
     "data": {
      "text/plain": [
       "'d'"
      ]
     },
     "execution_count": 4,
     "metadata": {},
     "output_type": "execute_result"
    }
   ],
   "source": [
    "next(s)"
   ]
  },
  {
   "cell_type": "code",
   "execution_count": 5,
   "id": "353cf4c0",
   "metadata": {},
   "outputs": [
    {
     "ename": "TypeError",
     "evalue": "'int' object is not iterable",
     "output_type": "error",
     "traceback": [
      "\u001b[1;31m---------------------------------------------------------------------------\u001b[0m",
      "\u001b[1;31mTypeError\u001b[0m                                 Traceback (most recent call last)",
      "\u001b[1;32m~\\AppData\\Local\\Temp/ipykernel_11332/269912320.py\u001b[0m in \u001b[0;36m<module>\u001b[1;34m\u001b[0m\n\u001b[0;32m      1\u001b[0m \u001b[0ma\u001b[0m\u001b[1;33m=\u001b[0m\u001b[1;36m10\u001b[0m\u001b[1;33m\u001b[0m\u001b[1;33m\u001b[0m\u001b[0m\n\u001b[1;32m----> 2\u001b[1;33m \u001b[0ma\u001b[0m\u001b[1;33m=\u001b[0m\u001b[0miter\u001b[0m\u001b[1;33m(\u001b[0m\u001b[0ma\u001b[0m\u001b[1;33m)\u001b[0m\u001b[1;33m\u001b[0m\u001b[1;33m\u001b[0m\u001b[0m\n\u001b[0m",
      "\u001b[1;31mTypeError\u001b[0m: 'int' object is not iterable"
     ]
    }
   ],
   "source": [
    "a=10\n",
    "a=iter(a)"
   ]
  },
  {
   "cell_type": "code",
   "execution_count": 6,
   "id": "091c0099",
   "metadata": {},
   "outputs": [
    {
     "data": {
      "text/plain": [
       "'a'"
      ]
     },
     "execution_count": 6,
     "metadata": {},
     "output_type": "execute_result"
    }
   ],
   "source": [
    "next(s)"
   ]
  },
  {
   "cell_type": "code",
   "execution_count": 7,
   "id": "dd04d02a",
   "metadata": {},
   "outputs": [
    {
     "data": {
      "text/plain": [
       "'y'"
      ]
     },
     "execution_count": 7,
     "metadata": {},
     "output_type": "execute_result"
    }
   ],
   "source": [
    "next(s)"
   ]
  },
  {
   "cell_type": "code",
   "execution_count": 8,
   "id": "954922e2",
   "metadata": {},
   "outputs": [
    {
     "ename": "StopIteration",
     "evalue": "",
     "output_type": "error",
     "traceback": [
      "\u001b[1;31m---------------------------------------------------------------------------\u001b[0m",
      "\u001b[1;31mStopIteration\u001b[0m                             Traceback (most recent call last)",
      "\u001b[1;32m~\\AppData\\Local\\Temp/ipykernel_11332/1977886155.py\u001b[0m in \u001b[0;36m<module>\u001b[1;34m\u001b[0m\n\u001b[1;32m----> 1\u001b[1;33m \u001b[0mnext\u001b[0m\u001b[1;33m(\u001b[0m\u001b[0ms\u001b[0m\u001b[1;33m)\u001b[0m\u001b[1;33m\u001b[0m\u001b[1;33m\u001b[0m\u001b[0m\n\u001b[0m",
      "\u001b[1;31mStopIteration\u001b[0m: "
     ]
    }
   ],
   "source": [
    "next(s)"
   ]
  },
  {
   "cell_type": "code",
   "execution_count": 12,
   "id": "06129c50",
   "metadata": {},
   "outputs": [
    {
     "data": {
      "text/plain": [
       "'K'"
      ]
     },
     "execution_count": 12,
     "metadata": {},
     "output_type": "execute_result"
    }
   ],
   "source": [
    "next(iter(\"Kiran\"))"
   ]
  },
  {
   "cell_type": "code",
   "execution_count": 17,
   "id": "cf6c3ae0",
   "metadata": {},
   "outputs": [],
   "source": [
    "l=[1,2,3,4]"
   ]
  },
  {
   "cell_type": "code",
   "execution_count": 18,
   "id": "b8a1ca36",
   "metadata": {},
   "outputs": [
    {
     "data": {
      "text/plain": [
       "[1, 2, 3, 4]"
      ]
     },
     "execution_count": 18,
     "metadata": {},
     "output_type": "execute_result"
    }
   ],
   "source": [
    "l"
   ]
  },
  {
   "cell_type": "code",
   "execution_count": 19,
   "id": "aaa2f49a",
   "metadata": {},
   "outputs": [],
   "source": [
    "l =iter(l)"
   ]
  },
  {
   "cell_type": "code",
   "execution_count": 20,
   "id": "65ef82b0",
   "metadata": {},
   "outputs": [
    {
     "data": {
      "text/plain": [
       "1"
      ]
     },
     "execution_count": 20,
     "metadata": {},
     "output_type": "execute_result"
    }
   ],
   "source": [
    "next(l)"
   ]
  },
  {
   "cell_type": "code",
   "execution_count": 21,
   "id": "c304ffdf",
   "metadata": {},
   "outputs": [
    {
     "data": {
      "text/plain": [
       "2"
      ]
     },
     "execution_count": 21,
     "metadata": {},
     "output_type": "execute_result"
    }
   ],
   "source": [
    "next(l)"
   ]
  },
  {
   "cell_type": "code",
   "execution_count": 24,
   "id": "4f30c32d",
   "metadata": {},
   "outputs": [
    {
     "ename": "StopIteration",
     "evalue": "",
     "output_type": "error",
     "traceback": [
      "\u001b[1;31m---------------------------------------------------------------------------\u001b[0m",
      "\u001b[1;31mStopIteration\u001b[0m                             Traceback (most recent call last)",
      "\u001b[1;32m~\\AppData\\Local\\Temp/ipykernel_11332/740889694.py\u001b[0m in \u001b[0;36m<module>\u001b[1;34m\u001b[0m\n\u001b[1;32m----> 1\u001b[1;33m \u001b[0mnext\u001b[0m\u001b[1;33m(\u001b[0m\u001b[0ml\u001b[0m\u001b[1;33m)\u001b[0m\u001b[1;33m\u001b[0m\u001b[1;33m\u001b[0m\u001b[0m\n\u001b[0m",
      "\u001b[1;31mStopIteration\u001b[0m: "
     ]
    }
   ],
   "source": [
    "next(l)\n"
   ]
  },
  {
   "cell_type": "code",
   "execution_count": 25,
   "id": "d7060f7f",
   "metadata": {},
   "outputs": [
    {
     "ename": "StopIteration",
     "evalue": "",
     "output_type": "error",
     "traceback": [
      "\u001b[1;31m---------------------------------------------------------------------------\u001b[0m",
      "\u001b[1;31mStopIteration\u001b[0m                             Traceback (most recent call last)",
      "\u001b[1;32m~\\AppData\\Local\\Temp/ipykernel_11332/2016234150.py\u001b[0m in \u001b[0;36m<module>\u001b[1;34m\u001b[0m\n\u001b[1;32m----> 1\u001b[1;33m \u001b[0mnext\u001b[0m\u001b[1;33m(\u001b[0m\u001b[0ml\u001b[0m\u001b[1;33m)\u001b[0m\u001b[1;33m\u001b[0m\u001b[1;33m\u001b[0m\u001b[0m\n\u001b[0m",
      "\u001b[1;31mStopIteration\u001b[0m: "
     ]
    }
   ],
   "source": [
    "next(l)"
   ]
  },
  {
   "cell_type": "code",
   "execution_count": 28,
   "id": "d55adb98",
   "metadata": {},
   "outputs": [],
   "source": [
    "def test1(n):\n",
    "    l=[]\n",
    "    for i in range(n):\n",
    "        l.append(i**3)\n",
    "    return l"
   ]
  },
  {
   "cell_type": "code",
   "execution_count": 38,
   "id": "ddb24c12",
   "metadata": {},
   "outputs": [
    {
     "data": {
      "text/plain": [
       "[0, 1, 8, 27, 64, 125, 216, 343]"
      ]
     },
     "execution_count": 38,
     "metadata": {},
     "output_type": "execute_result"
    }
   ],
   "source": [
    "test1(8)"
   ]
  },
  {
   "cell_type": "code",
   "execution_count": 39,
   "id": "f5738e52",
   "metadata": {},
   "outputs": [],
   "source": [
    "def test2(n):\n",
    "    for i in range(n):\n",
    "        yield i**3"
   ]
  },
  {
   "cell_type": "code",
   "execution_count": 40,
   "id": "968fc61d",
   "metadata": {},
   "outputs": [
    {
     "data": {
      "text/plain": [
       "<generator object test2 at 0x000001516D1BD660>"
      ]
     },
     "execution_count": 40,
     "metadata": {},
     "output_type": "execute_result"
    }
   ],
   "source": [
    "test2(2000)"
   ]
  },
  {
   "cell_type": "code",
   "execution_count": 47,
   "id": "d39379d9",
   "metadata": {},
   "outputs": [
    {
     "name": "stdout",
     "output_type": "stream",
     "text": [
      "0\n",
      "1\n",
      "8\n",
      "27\n",
      "64\n",
      "125\n",
      "216\n",
      "343\n",
      "512\n",
      "729\n",
      "1000\n",
      "1331\n",
      "1728\n",
      "2197\n",
      "2744\n",
      "3375\n",
      "4096\n",
      "4913\n",
      "5832\n",
      "6859\n",
      "8000\n",
      "9261\n",
      "10648\n",
      "12167\n",
      "13824\n",
      "15625\n",
      "17576\n",
      "19683\n",
      "21952\n",
      "24389\n",
      "27000\n",
      "29791\n",
      "32768\n",
      "35937\n",
      "39304\n",
      "42875\n",
      "46656\n",
      "50653\n",
      "54872\n",
      "59319\n",
      "64000\n",
      "68921\n",
      "74088\n",
      "79507\n",
      "85184\n",
      "91125\n",
      "97336\n",
      "103823\n",
      "110592\n",
      "117649\n",
      "125000\n",
      "132651\n",
      "140608\n",
      "148877\n",
      "157464\n",
      "166375\n",
      "175616\n",
      "185193\n",
      "195112\n",
      "205379\n",
      "216000\n",
      "226981\n",
      "238328\n",
      "250047\n",
      "262144\n",
      "274625\n",
      "287496\n",
      "300763\n",
      "314432\n",
      "328509\n",
      "343000\n",
      "357911\n",
      "373248\n",
      "389017\n",
      "405224\n",
      "421875\n",
      "438976\n",
      "456533\n",
      "474552\n",
      "493039\n",
      "512000\n",
      "531441\n",
      "551368\n",
      "571787\n",
      "592704\n",
      "614125\n",
      "636056\n",
      "658503\n",
      "681472\n",
      "704969\n",
      "729000\n",
      "753571\n",
      "778688\n",
      "804357\n",
      "830584\n",
      "857375\n",
      "884736\n",
      "912673\n",
      "941192\n",
      "970299\n",
      "1000000\n",
      "1030301\n",
      "1061208\n",
      "1092727\n",
      "1124864\n",
      "1157625\n",
      "1191016\n",
      "1225043\n",
      "1259712\n",
      "1295029\n",
      "1331000\n",
      "1367631\n",
      "1404928\n",
      "1442897\n",
      "1481544\n",
      "1520875\n",
      "1560896\n",
      "1601613\n",
      "1643032\n",
      "1685159\n",
      "1728000\n",
      "1771561\n",
      "1815848\n",
      "1860867\n",
      "1906624\n",
      "1953125\n",
      "2000376\n",
      "2048383\n",
      "2097152\n",
      "2146689\n",
      "2197000\n",
      "2248091\n",
      "2299968\n",
      "2352637\n",
      "2406104\n",
      "2460375\n",
      "2515456\n",
      "2571353\n",
      "2628072\n",
      "2685619\n",
      "2744000\n",
      "2803221\n",
      "2863288\n",
      "2924207\n",
      "2985984\n",
      "3048625\n",
      "3112136\n",
      "3176523\n",
      "3241792\n",
      "3307949\n",
      "3375000\n",
      "3442951\n",
      "3511808\n",
      "3581577\n",
      "3652264\n",
      "3723875\n",
      "3796416\n",
      "3869893\n",
      "3944312\n",
      "4019679\n",
      "4096000\n",
      "4173281\n",
      "4251528\n",
      "4330747\n",
      "4410944\n",
      "4492125\n",
      "4574296\n",
      "4657463\n",
      "4741632\n",
      "4826809\n",
      "4913000\n",
      "5000211\n",
      "5088448\n",
      "5177717\n",
      "5268024\n",
      "5359375\n",
      "5451776\n",
      "5545233\n",
      "5639752\n",
      "5735339\n",
      "5832000\n",
      "5929741\n",
      "6028568\n",
      "6128487\n",
      "6229504\n",
      "6331625\n",
      "6434856\n",
      "6539203\n",
      "6644672\n",
      "6751269\n",
      "6859000\n",
      "6967871\n",
      "7077888\n",
      "7189057\n",
      "7301384\n",
      "7414875\n",
      "7529536\n",
      "7645373\n",
      "7762392\n",
      "7880599\n",
      "8000000\n",
      "8120601\n",
      "8242408\n",
      "8365427\n",
      "8489664\n",
      "8615125\n",
      "8741816\n",
      "8869743\n",
      "8998912\n",
      "9129329\n",
      "9261000\n",
      "9393931\n",
      "9528128\n",
      "9663597\n",
      "9800344\n",
      "9938375\n",
      "10077696\n",
      "10218313\n",
      "10360232\n",
      "10503459\n",
      "10648000\n",
      "10793861\n",
      "10941048\n",
      "11089567\n",
      "11239424\n",
      "11390625\n",
      "11543176\n",
      "11697083\n",
      "11852352\n",
      "12008989\n",
      "12167000\n",
      "12326391\n",
      "12487168\n",
      "12649337\n",
      "12812904\n",
      "12977875\n",
      "13144256\n",
      "13312053\n",
      "13481272\n",
      "13651919\n",
      "13824000\n",
      "13997521\n",
      "14172488\n",
      "14348907\n",
      "14526784\n",
      "14706125\n",
      "14886936\n",
      "15069223\n",
      "15252992\n",
      "15438249\n",
      "15625000\n",
      "15813251\n",
      "16003008\n",
      "16194277\n",
      "16387064\n",
      "16581375\n",
      "16777216\n",
      "16974593\n",
      "17173512\n",
      "17373979\n",
      "17576000\n",
      "17779581\n",
      "17984728\n",
      "18191447\n",
      "18399744\n",
      "18609625\n",
      "18821096\n",
      "19034163\n",
      "19248832\n",
      "19465109\n",
      "19683000\n",
      "19902511\n",
      "20123648\n",
      "20346417\n",
      "20570824\n",
      "20796875\n",
      "21024576\n",
      "21253933\n",
      "21484952\n",
      "21717639\n",
      "21952000\n",
      "22188041\n",
      "22425768\n",
      "22665187\n",
      "22906304\n",
      "23149125\n",
      "23393656\n",
      "23639903\n",
      "23887872\n",
      "24137569\n",
      "24389000\n",
      "24642171\n",
      "24897088\n",
      "25153757\n",
      "25412184\n",
      "25672375\n",
      "25934336\n",
      "26198073\n",
      "26463592\n",
      "26730899\n",
      "27000000\n",
      "27270901\n",
      "27543608\n",
      "27818127\n",
      "28094464\n",
      "28372625\n",
      "28652616\n",
      "28934443\n",
      "29218112\n",
      "29503629\n",
      "29791000\n",
      "30080231\n",
      "30371328\n",
      "30664297\n",
      "30959144\n",
      "31255875\n",
      "31554496\n",
      "31855013\n",
      "32157432\n",
      "32461759\n",
      "32768000\n",
      "33076161\n",
      "33386248\n",
      "33698267\n",
      "34012224\n",
      "34328125\n",
      "34645976\n",
      "34965783\n",
      "35287552\n",
      "35611289\n",
      "35937000\n",
      "36264691\n",
      "36594368\n",
      "36926037\n",
      "37259704\n",
      "37595375\n",
      "37933056\n",
      "38272753\n",
      "38614472\n",
      "38958219\n",
      "39304000\n",
      "39651821\n",
      "40001688\n",
      "40353607\n",
      "40707584\n",
      "41063625\n",
      "41421736\n",
      "41781923\n",
      "42144192\n",
      "42508549\n",
      "42875000\n",
      "43243551\n",
      "43614208\n",
      "43986977\n",
      "44361864\n",
      "44738875\n",
      "45118016\n",
      "45499293\n",
      "45882712\n",
      "46268279\n",
      "46656000\n",
      "47045881\n",
      "47437928\n",
      "47832147\n",
      "48228544\n",
      "48627125\n",
      "49027896\n",
      "49430863\n",
      "49836032\n",
      "50243409\n",
      "50653000\n",
      "51064811\n",
      "51478848\n",
      "51895117\n",
      "52313624\n",
      "52734375\n",
      "53157376\n",
      "53582633\n",
      "54010152\n",
      "54439939\n",
      "54872000\n",
      "55306341\n",
      "55742968\n",
      "56181887\n",
      "56623104\n",
      "57066625\n",
      "57512456\n",
      "57960603\n",
      "58411072\n",
      "58863869\n",
      "59319000\n",
      "59776471\n",
      "60236288\n",
      "60698457\n",
      "61162984\n",
      "61629875\n",
      "62099136\n",
      "62570773\n",
      "63044792\n",
      "63521199\n",
      "64000000\n",
      "64481201\n",
      "64964808\n",
      "65450827\n",
      "65939264\n",
      "66430125\n",
      "66923416\n",
      "67419143\n",
      "67917312\n",
      "68417929\n",
      "68921000\n",
      "69426531\n",
      "69934528\n",
      "70444997\n",
      "70957944\n",
      "71473375\n",
      "71991296\n",
      "72511713\n",
      "73034632\n",
      "73560059\n",
      "74088000\n",
      "74618461\n",
      "75151448\n",
      "75686967\n",
      "76225024\n",
      "76765625\n",
      "77308776\n",
      "77854483\n",
      "78402752\n",
      "78953589\n",
      "79507000\n",
      "80062991\n",
      "80621568\n",
      "81182737\n",
      "81746504\n",
      "82312875\n",
      "82881856\n",
      "83453453\n",
      "84027672\n",
      "84604519\n",
      "85184000\n",
      "85766121\n",
      "86350888\n",
      "86938307\n",
      "87528384\n",
      "88121125\n",
      "88716536\n",
      "89314623\n",
      "89915392\n",
      "90518849\n",
      "91125000\n",
      "91733851\n",
      "92345408\n",
      "92959677\n",
      "93576664\n",
      "94196375\n",
      "94818816\n",
      "95443993\n",
      "96071912\n",
      "96702579\n",
      "97336000\n",
      "97972181\n",
      "98611128\n",
      "99252847\n",
      "99897344\n",
      "100544625\n",
      "101194696\n",
      "101847563\n",
      "102503232\n",
      "103161709\n",
      "103823000\n",
      "104487111\n",
      "105154048\n",
      "105823817\n",
      "106496424\n",
      "107171875\n",
      "107850176\n",
      "108531333\n",
      "109215352\n",
      "109902239\n",
      "110592000\n",
      "111284641\n",
      "111980168\n",
      "112678587\n",
      "113379904\n",
      "114084125\n",
      "114791256\n",
      "115501303\n",
      "116214272\n",
      "116930169\n",
      "117649000\n",
      "118370771\n",
      "119095488\n",
      "119823157\n",
      "120553784\n",
      "121287375\n",
      "122023936\n",
      "122763473\n",
      "123505992\n",
      "124251499\n",
      "125000000\n",
      "125751501\n",
      "126506008\n",
      "127263527\n",
      "128024064\n",
      "128787625\n",
      "129554216\n",
      "130323843\n",
      "131096512\n",
      "131872229\n",
      "132651000\n",
      "133432831\n",
      "134217728\n",
      "135005697\n",
      "135796744\n",
      "136590875\n",
      "137388096\n",
      "138188413\n",
      "138991832\n",
      "139798359\n",
      "140608000\n",
      "141420761\n",
      "142236648\n",
      "143055667\n",
      "143877824\n",
      "144703125\n",
      "145531576\n",
      "146363183\n",
      "147197952\n",
      "148035889\n",
      "148877000\n",
      "149721291\n",
      "150568768\n",
      "151419437\n",
      "152273304\n",
      "153130375\n",
      "153990656\n",
      "154854153\n",
      "155720872\n",
      "156590819\n",
      "157464000\n",
      "158340421\n",
      "159220088\n",
      "160103007\n",
      "160989184\n",
      "161878625\n",
      "162771336\n",
      "163667323\n",
      "164566592\n",
      "165469149\n",
      "166375000\n",
      "167284151\n",
      "168196608\n",
      "169112377\n",
      "170031464\n",
      "170953875\n",
      "171879616\n",
      "172808693\n",
      "173741112\n",
      "174676879\n",
      "175616000\n",
      "176558481\n",
      "177504328\n",
      "178453547\n",
      "179406144\n",
      "180362125\n",
      "181321496\n",
      "182284263\n",
      "183250432\n",
      "184220009\n",
      "185193000\n",
      "186169411\n",
      "187149248\n",
      "188132517\n",
      "189119224\n",
      "190109375\n",
      "191102976\n",
      "192100033\n",
      "193100552\n",
      "194104539\n",
      "195112000\n",
      "196122941\n",
      "197137368\n",
      "198155287\n",
      "199176704\n",
      "200201625\n",
      "201230056\n",
      "202262003\n",
      "203297472\n",
      "204336469\n",
      "205379000\n",
      "206425071\n",
      "207474688\n",
      "208527857\n",
      "209584584\n",
      "210644875\n",
      "211708736\n",
      "212776173\n",
      "213847192\n",
      "214921799\n",
      "216000000\n",
      "217081801\n",
      "218167208\n",
      "219256227\n",
      "220348864\n",
      "221445125\n",
      "222545016\n",
      "223648543\n",
      "224755712\n",
      "225866529\n",
      "226981000\n",
      "228099131\n",
      "229220928\n",
      "230346397\n",
      "231475544\n",
      "232608375\n",
      "233744896\n",
      "234885113\n",
      "236029032\n",
      "237176659\n",
      "238328000\n",
      "239483061\n",
      "240641848\n",
      "241804367\n",
      "242970624\n",
      "244140625\n",
      "245314376\n",
      "246491883\n",
      "247673152\n",
      "248858189\n",
      "250047000\n",
      "251239591\n",
      "252435968\n",
      "253636137\n",
      "254840104\n",
      "256047875\n",
      "257259456\n",
      "258474853\n",
      "259694072\n",
      "260917119\n",
      "262144000\n",
      "263374721\n",
      "264609288\n",
      "265847707\n",
      "267089984\n",
      "268336125\n",
      "269586136\n",
      "270840023\n",
      "272097792\n",
      "273359449\n",
      "274625000\n",
      "275894451\n",
      "277167808\n",
      "278445077\n",
      "279726264\n",
      "281011375\n",
      "282300416\n",
      "283593393\n",
      "284890312\n",
      "286191179\n",
      "287496000\n",
      "288804781\n",
      "290117528\n",
      "291434247\n",
      "292754944\n",
      "294079625\n",
      "295408296\n",
      "296740963\n",
      "298077632\n",
      "299418309\n",
      "300763000\n",
      "302111711\n",
      "303464448\n",
      "304821217\n",
      "306182024\n",
      "307546875\n",
      "308915776\n",
      "310288733\n",
      "311665752\n",
      "313046839\n",
      "314432000\n",
      "315821241\n",
      "317214568\n",
      "318611987\n",
      "320013504\n",
      "321419125\n",
      "322828856\n",
      "324242703\n",
      "325660672\n",
      "327082769\n",
      "328509000\n",
      "329939371\n",
      "331373888\n",
      "332812557\n",
      "334255384\n",
      "335702375\n",
      "337153536\n",
      "338608873\n",
      "340068392\n",
      "341532099\n",
      "343000000\n",
      "344472101\n",
      "345948408\n",
      "347428927\n",
      "348913664\n",
      "350402625\n",
      "351895816\n",
      "353393243\n",
      "354894912\n",
      "356400829\n",
      "357911000\n",
      "359425431\n",
      "360944128\n",
      "362467097\n",
      "363994344\n",
      "365525875\n",
      "367061696\n",
      "368601813\n",
      "370146232\n",
      "371694959\n",
      "373248000\n",
      "374805361\n",
      "376367048\n",
      "377933067\n",
      "379503424\n",
      "381078125\n",
      "382657176\n",
      "384240583\n",
      "385828352\n",
      "387420489\n",
      "389017000\n",
      "390617891\n",
      "392223168\n",
      "393832837\n",
      "395446904\n",
      "397065375\n",
      "398688256\n",
      "400315553\n",
      "401947272\n",
      "403583419\n",
      "405224000\n",
      "406869021\n",
      "408518488\n",
      "410172407\n",
      "411830784\n",
      "413493625\n",
      "415160936\n",
      "416832723\n",
      "418508992\n",
      "420189749\n",
      "421875000\n",
      "423564751\n",
      "425259008\n",
      "426957777\n",
      "428661064\n",
      "430368875\n",
      "432081216\n",
      "433798093\n",
      "435519512\n",
      "437245479\n",
      "438976000\n",
      "440711081\n",
      "442450728\n",
      "444194947\n",
      "445943744\n",
      "447697125\n",
      "449455096\n",
      "451217663\n",
      "452984832\n",
      "454756609\n",
      "456533000\n",
      "458314011\n",
      "460099648\n",
      "461889917\n",
      "463684824\n",
      "465484375\n",
      "467288576\n",
      "469097433\n",
      "470910952\n",
      "472729139\n",
      "474552000\n",
      "476379541\n",
      "478211768\n",
      "480048687\n",
      "481890304\n",
      "483736625\n",
      "485587656\n",
      "487443403\n",
      "489303872\n",
      "491169069\n",
      "493039000\n",
      "494913671\n",
      "496793088\n",
      "498677257\n",
      "500566184\n",
      "502459875\n",
      "504358336\n",
      "506261573\n",
      "508169592\n",
      "510082399\n",
      "512000000\n",
      "513922401\n",
      "515849608\n",
      "517781627\n",
      "519718464\n",
      "521660125\n",
      "523606616\n",
      "525557943\n",
      "527514112\n",
      "529475129\n",
      "531441000\n",
      "533411731\n",
      "535387328\n",
      "537367797\n",
      "539353144\n",
      "541343375\n",
      "543338496\n",
      "545338513\n",
      "547343432\n",
      "549353259\n",
      "551368000\n",
      "553387661\n",
      "555412248\n",
      "557441767\n",
      "559476224\n",
      "561515625\n",
      "563559976\n",
      "565609283\n",
      "567663552\n",
      "569722789\n",
      "571787000\n",
      "573856191\n",
      "575930368\n",
      "578009537\n",
      "580093704\n",
      "582182875\n",
      "584277056\n",
      "586376253\n",
      "588480472\n",
      "590589719\n",
      "592704000\n",
      "594823321\n",
      "596947688\n",
      "599077107\n",
      "601211584\n",
      "603351125\n",
      "605495736\n",
      "607645423\n",
      "609800192\n",
      "611960049\n",
      "614125000\n",
      "616295051\n",
      "618470208\n",
      "620650477\n",
      "622835864\n",
      "625026375\n",
      "627222016\n",
      "629422793\n",
      "631628712\n",
      "633839779\n",
      "636056000\n",
      "638277381\n",
      "640503928\n",
      "642735647\n",
      "644972544\n",
      "647214625\n",
      "649461896\n",
      "651714363\n",
      "653972032\n",
      "656234909\n",
      "658503000\n",
      "660776311\n",
      "663054848\n",
      "665338617\n",
      "667627624\n",
      "669921875\n",
      "672221376\n",
      "674526133\n",
      "676836152\n",
      "679151439\n",
      "681472000\n",
      "683797841\n",
      "686128968\n",
      "688465387\n",
      "690807104\n",
      "693154125\n",
      "695506456\n",
      "697864103\n",
      "700227072\n",
      "702595369\n",
      "704969000\n",
      "707347971\n",
      "709732288\n",
      "712121957\n",
      "714516984\n",
      "716917375\n",
      "719323136\n",
      "721734273\n",
      "724150792\n",
      "726572699\n",
      "729000000\n",
      "731432701\n",
      "733870808\n",
      "736314327\n",
      "738763264\n",
      "741217625\n",
      "743677416\n",
      "746142643\n",
      "748613312\n",
      "751089429\n",
      "753571000\n",
      "756058031\n",
      "758550528\n",
      "761048497\n",
      "763551944\n",
      "766060875\n",
      "768575296\n",
      "771095213\n",
      "773620632\n",
      "776151559\n",
      "778688000\n",
      "781229961\n",
      "783777448\n",
      "786330467\n",
      "788889024\n",
      "791453125\n",
      "794022776\n",
      "796597983\n",
      "799178752\n",
      "801765089\n",
      "804357000\n",
      "806954491\n",
      "809557568\n",
      "812166237\n",
      "814780504\n",
      "817400375\n",
      "820025856\n",
      "822656953\n",
      "825293672\n",
      "827936019\n",
      "830584000\n",
      "833237621\n",
      "835896888\n",
      "838561807\n",
      "841232384\n",
      "843908625\n",
      "846590536\n",
      "849278123\n",
      "851971392\n",
      "854670349\n",
      "857375000\n",
      "860085351\n",
      "862801408\n",
      "865523177\n",
      "868250664\n",
      "870983875\n",
      "873722816\n",
      "876467493\n",
      "879217912\n",
      "881974079\n",
      "884736000\n",
      "887503681\n",
      "890277128\n",
      "893056347\n",
      "895841344\n",
      "898632125\n",
      "901428696\n",
      "904231063\n",
      "907039232\n",
      "909853209\n",
      "912673000\n",
      "915498611\n",
      "918330048\n",
      "921167317\n",
      "924010424\n",
      "926859375\n",
      "929714176\n",
      "932574833\n",
      "935441352\n",
      "938313739\n",
      "941192000\n",
      "944076141\n",
      "946966168\n",
      "949862087\n",
      "952763904\n",
      "955671625\n",
      "958585256\n",
      "961504803\n",
      "964430272\n",
      "967361669\n",
      "970299000\n",
      "973242271\n",
      "976191488\n",
      "979146657\n",
      "982107784\n",
      "985074875\n",
      "988047936\n",
      "991026973\n",
      "994011992\n",
      "997002999\n"
     ]
    }
   ],
   "source": [
    "for i in test2(1000):\n",
    "    print(i)"
   ]
  },
  {
   "cell_type": "code",
   "execution_count": 60,
   "id": "298cd77e",
   "metadata": {},
   "outputs": [],
   "source": [
    "def genfib(n):\n",
    "    a=0\n",
    "    b=1\n",
    "    output=[]\n",
    "    for i in range(n):\n",
    "        output.append(a)\n",
    "        a, b=b , a+b\n",
    "    return output"
   ]
  },
  {
   "cell_type": "code",
   "execution_count": 61,
   "id": "e401065a",
   "metadata": {},
   "outputs": [
    {
     "data": {
      "text/plain": [
       "[0, 1, 1, 2, 3, 5, 8, 13, 21, 34]"
      ]
     },
     "execution_count": 61,
     "metadata": {},
     "output_type": "execute_result"
    }
   ],
   "source": [
    "genfib(10)\n"
   ]
  },
  {
   "cell_type": "code",
   "execution_count": 2,
   "id": "b18fae0c",
   "metadata": {},
   "outputs": [],
   "source": [
    "def genfib1(n):\n",
    "    a=0\n",
    "    b=1\n",
    "    for i in range(n):\n",
    "        yield a\n",
    "        a, b=b , a+b"
   ]
  },
  {
   "cell_type": "code",
   "execution_count": 63,
   "id": "b8a77747",
   "metadata": {},
   "outputs": [
    {
     "ename": "NameError",
     "evalue": "name 'yeild' is not defined",
     "output_type": "error",
     "traceback": [
      "\u001b[1;31m---------------------------------------------------------------------------\u001b[0m",
      "\u001b[1;31mNameError\u001b[0m                                 Traceback (most recent call last)",
      "\u001b[1;32m~\\AppData\\Local\\Temp/ipykernel_11332/3449731956.py\u001b[0m in \u001b[0;36m<module>\u001b[1;34m\u001b[0m\n\u001b[1;32m----> 1\u001b[1;33m \u001b[0mgenfib1\u001b[0m\u001b[1;33m(\u001b[0m\u001b[1;36m10\u001b[0m\u001b[1;33m)\u001b[0m\u001b[1;33m\u001b[0m\u001b[1;33m\u001b[0m\u001b[0m\n\u001b[0m",
      "\u001b[1;32m~\\AppData\\Local\\Temp/ipykernel_11332/1021722127.py\u001b[0m in \u001b[0;36mgenfib1\u001b[1;34m(n)\u001b[0m\n\u001b[0;32m      5\u001b[0m     \u001b[1;32mfor\u001b[0m \u001b[0mi\u001b[0m \u001b[1;32min\u001b[0m \u001b[0mrange\u001b[0m\u001b[1;33m(\u001b[0m\u001b[0mn\u001b[0m\u001b[1;33m)\u001b[0m\u001b[1;33m:\u001b[0m\u001b[1;33m\u001b[0m\u001b[1;33m\u001b[0m\u001b[0m\n\u001b[0;32m      6\u001b[0m         \u001b[1;31m#output.append(a)\u001b[0m\u001b[1;33m\u001b[0m\u001b[1;33m\u001b[0m\u001b[0m\n\u001b[1;32m----> 7\u001b[1;33m         \u001b[0myeild\u001b[0m\u001b[1;33m(\u001b[0m\u001b[0ma\u001b[0m\u001b[1;33m)\u001b[0m\u001b[1;33m\u001b[0m\u001b[1;33m\u001b[0m\u001b[0m\n\u001b[0m\u001b[0;32m      8\u001b[0m         \u001b[0ma\u001b[0m\u001b[1;33m,\u001b[0m \u001b[0mb\u001b[0m\u001b[1;33m=\u001b[0m\u001b[0mb\u001b[0m \u001b[1;33m,\u001b[0m \u001b[0ma\u001b[0m\u001b[1;33m+\u001b[0m\u001b[0mb\u001b[0m\u001b[1;33m\u001b[0m\u001b[1;33m\u001b[0m\u001b[0m\n\u001b[0;32m      9\u001b[0m     \u001b[1;32mreturn\u001b[0m \u001b[0moutput\u001b[0m\u001b[1;33m\u001b[0m\u001b[1;33m\u001b[0m\u001b[0m\n",
      "\u001b[1;31mNameError\u001b[0m: name 'yeild' is not defined"
     ]
    }
   ],
   "source": [
    "genfib1(10)"
   ]
  },
  {
   "cell_type": "code",
   "execution_count": 3,
   "id": "59ccef21",
   "metadata": {},
   "outputs": [],
   "source": [
    "def genfib1(n):\n",
    "    a=0\n",
    "    b=1\n",
    "    for i in range(n):\n",
    "        yield a\n",
    "        a, b=b , a+b"
   ]
  },
  {
   "cell_type": "code",
   "execution_count": 4,
   "id": "9c366fb6",
   "metadata": {},
   "outputs": [
    {
     "data": {
      "text/plain": [
       "<generator object genfib1 at 0x000001DFCF1A6F90>"
      ]
     },
     "execution_count": 4,
     "metadata": {},
     "output_type": "execute_result"
    }
   ],
   "source": [
    "genfib1(10)"
   ]
  },
  {
   "cell_type": "code",
   "execution_count": 6,
   "id": "10bcf9de",
   "metadata": {},
   "outputs": [
    {
     "name": "stdout",
     "output_type": "stream",
     "text": [
      "0\n",
      "1\n",
      "1\n",
      "2\n",
      "3\n",
      "5\n",
      "8\n",
      "13\n",
      "21\n",
      "34\n",
      "55\n",
      "89\n",
      "144\n",
      "233\n",
      "377\n",
      "610\n",
      "987\n",
      "1597\n",
      "2584\n",
      "4181\n"
     ]
    }
   ],
   "source": [
    "for i in genfib1(20):\n",
    "    print(i)"
   ]
  },
  {
   "cell_type": "code",
   "execution_count": null,
   "id": "57d043eb",
   "metadata": {},
   "outputs": [],
   "source": []
  }
 ],
 "metadata": {
  "kernelspec": {
   "display_name": "Python 3 (ipykernel)",
   "language": "python",
   "name": "python3"
  },
  "language_info": {
   "codemirror_mode": {
    "name": "ipython",
    "version": 3
   },
   "file_extension": ".py",
   "mimetype": "text/x-python",
   "name": "python",
   "nbconvert_exporter": "python",
   "pygments_lexer": "ipython3",
   "version": "3.9.7"
  }
 },
 "nbformat": 4,
 "nbformat_minor": 5
}
