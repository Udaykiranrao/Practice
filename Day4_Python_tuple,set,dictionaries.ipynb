{
 "cells": [
  {
   "cell_type": "markdown",
   "id": "9029d67e",
   "metadata": {},
   "source": [
    "# Day4_Python_Tuple,Set,Dictionaries\n"
   ]
  },
  {
   "cell_type": "code",
   "execution_count": 1,
   "id": "bed22331",
   "metadata": {},
   "outputs": [],
   "source": [
    "t=()"
   ]
  },
  {
   "cell_type": "code",
   "execution_count": 2,
   "id": "51fd854e",
   "metadata": {},
   "outputs": [
    {
     "data": {
      "text/plain": [
       "tuple"
      ]
     },
     "execution_count": 2,
     "metadata": {},
     "output_type": "execute_result"
    }
   ],
   "source": [
    "type(t)"
   ]
  },
  {
   "cell_type": "code",
   "execution_count": 3,
   "id": "f5e0090c",
   "metadata": {},
   "outputs": [],
   "source": [
    "t=(\"uday\",23,234)"
   ]
  },
  {
   "cell_type": "code",
   "execution_count": 4,
   "id": "779b7e96",
   "metadata": {},
   "outputs": [
    {
     "data": {
      "text/plain": [
       "('uday', 23, 234)"
      ]
     },
     "execution_count": 4,
     "metadata": {},
     "output_type": "execute_result"
    }
   ],
   "source": [
    "t"
   ]
  },
  {
   "cell_type": "code",
   "execution_count": 9,
   "id": "ba94f030",
   "metadata": {},
   "outputs": [
    {
     "data": {
      "text/plain": [
       "(234, 23, 'uday')"
      ]
     },
     "execution_count": 9,
     "metadata": {},
     "output_type": "execute_result"
    }
   ],
   "source": [
    "t[::-1]"
   ]
  },
  {
   "cell_type": "code",
   "execution_count": 10,
   "id": "c0bb7c90",
   "metadata": {},
   "outputs": [
    {
     "ename": "TypeError",
     "evalue": "'tuple' object does not support item assignment",
     "output_type": "error",
     "traceback": [
      "\u001b[1;31m---------------------------------------------------------------------------\u001b[0m",
      "\u001b[1;31mTypeError\u001b[0m                                 Traceback (most recent call last)",
      "\u001b[1;32m~\\AppData\\Local\\Temp/ipykernel_3816/1579143240.py\u001b[0m in \u001b[0;36m<module>\u001b[1;34m\u001b[0m\n\u001b[1;32m----> 1\u001b[1;33m \u001b[0mt\u001b[0m\u001b[1;33m[\u001b[0m\u001b[1;36m0\u001b[0m\u001b[1;33m]\u001b[0m\u001b[1;33m=\u001b[0m\u001b[1;34m\"abc\"\u001b[0m\u001b[1;33m\u001b[0m\u001b[1;33m\u001b[0m\u001b[0m\n\u001b[0m",
      "\u001b[1;31mTypeError\u001b[0m: 'tuple' object does not support item assignment"
     ]
    }
   ],
   "source": [
    "t[0]=\"abc\""
   ]
  },
  {
   "cell_type": "code",
   "execution_count": 11,
   "id": "7d7d3d7b",
   "metadata": {},
   "outputs": [],
   "source": [
    "t1=(43,23,56)"
   ]
  },
  {
   "cell_type": "code",
   "execution_count": 12,
   "id": "6b2489cc",
   "metadata": {},
   "outputs": [
    {
     "data": {
      "text/plain": [
       "('uday', 23, 234, 43, 23, 56)"
      ]
     },
     "execution_count": 12,
     "metadata": {},
     "output_type": "execute_result"
    }
   ],
   "source": [
    "t+t1"
   ]
  },
  {
   "cell_type": "code",
   "execution_count": 13,
   "id": "4c7195f8",
   "metadata": {},
   "outputs": [],
   "source": [
    "t=t+t1"
   ]
  },
  {
   "cell_type": "code",
   "execution_count": 14,
   "id": "0165bb06",
   "metadata": {},
   "outputs": [
    {
     "data": {
      "text/plain": [
       "('uday', 23, 234, 43, 23, 56)"
      ]
     },
     "execution_count": 14,
     "metadata": {},
     "output_type": "execute_result"
    }
   ],
   "source": [
    "t"
   ]
  },
  {
   "cell_type": "code",
   "execution_count": 15,
   "id": "337a32e7",
   "metadata": {},
   "outputs": [
    {
     "data": {
      "text/plain": [
       "True"
      ]
     },
     "execution_count": 15,
     "metadata": {},
     "output_type": "execute_result"
    }
   ],
   "source": [
    "23 in t"
   ]
  },
  {
   "cell_type": "code",
   "execution_count": 16,
   "id": "c1497efe",
   "metadata": {},
   "outputs": [
    {
     "data": {
      "text/plain": [
       "False"
      ]
     },
     "execution_count": 16,
     "metadata": {},
     "output_type": "execute_result"
    }
   ],
   "source": [
    "\"Kiran\" in t"
   ]
  },
  {
   "cell_type": "code",
   "execution_count": 23,
   "id": "52307799",
   "metadata": {},
   "outputs": [
    {
     "data": {
      "text/plain": [
       "2"
      ]
     },
     "execution_count": 23,
     "metadata": {},
     "output_type": "execute_result"
    }
   ],
   "source": [
    "t.count(23)"
   ]
  },
  {
   "cell_type": "code",
   "execution_count": 25,
   "id": "44c309d5",
   "metadata": {},
   "outputs": [],
   "source": [
    "l=[23,24,25]"
   ]
  },
  {
   "cell_type": "code",
   "execution_count": 26,
   "id": "971600cb",
   "metadata": {},
   "outputs": [],
   "source": [
    "m=tuple(l)"
   ]
  },
  {
   "cell_type": "code",
   "execution_count": 27,
   "id": "a9a98c0c",
   "metadata": {},
   "outputs": [
    {
     "data": {
      "text/plain": [
       "(23, 24, 25)"
      ]
     },
     "execution_count": 27,
     "metadata": {},
     "output_type": "execute_result"
    }
   ],
   "source": [
    "m"
   ]
  },
  {
   "cell_type": "code",
   "execution_count": 30,
   "id": "f5e9a76f",
   "metadata": {},
   "outputs": [],
   "source": [
    "t=((1,2,3),(4,5,6),(7,8,9),['a','b','c'])"
   ]
  },
  {
   "cell_type": "code",
   "execution_count": 31,
   "id": "de43fbd4",
   "metadata": {},
   "outputs": [
    {
     "data": {
      "text/plain": [
       "((1, 2, 3), (4, 5, 6), (7, 8, 9), ['a', 'b', 'c'])"
      ]
     },
     "execution_count": 31,
     "metadata": {},
     "output_type": "execute_result"
    }
   ],
   "source": [
    "t"
   ]
  },
  {
   "cell_type": "code",
   "execution_count": 32,
   "id": "ceca9848",
   "metadata": {},
   "outputs": [
    {
     "data": {
      "text/plain": [
       "(1, 2, 3)"
      ]
     },
     "execution_count": 32,
     "metadata": {},
     "output_type": "execute_result"
    }
   ],
   "source": [
    "t[0]"
   ]
  },
  {
   "cell_type": "code",
   "execution_count": 34,
   "id": "399494af",
   "metadata": {},
   "outputs": [
    {
     "data": {
      "text/plain": [
       "'b'"
      ]
     },
     "execution_count": 34,
     "metadata": {},
     "output_type": "execute_result"
    }
   ],
   "source": [
    "t[3][1]"
   ]
  },
  {
   "cell_type": "code",
   "execution_count": 36,
   "id": "bc50fe7a",
   "metadata": {},
   "outputs": [
    {
     "data": {
      "text/plain": [
       "7"
      ]
     },
     "execution_count": 36,
     "metadata": {},
     "output_type": "execute_result"
    }
   ],
   "source": [
    "len(t1)+len(t)"
   ]
  },
  {
   "cell_type": "code",
   "execution_count": 37,
   "id": "87ea024e",
   "metadata": {},
   "outputs": [
    {
     "data": {
      "text/plain": [
       "(43, 23, 56)"
      ]
     },
     "execution_count": 37,
     "metadata": {},
     "output_type": "execute_result"
    }
   ],
   "source": [
    "t1"
   ]
  },
  {
   "cell_type": "code",
   "execution_count": 38,
   "id": "88eeb534",
   "metadata": {},
   "outputs": [],
   "source": [
    "del(t1)"
   ]
  },
  {
   "cell_type": "code",
   "execution_count": 39,
   "id": "748cb9c0",
   "metadata": {},
   "outputs": [
    {
     "ename": "NameError",
     "evalue": "name 't1' is not defined",
     "output_type": "error",
     "traceback": [
      "\u001b[1;31m---------------------------------------------------------------------------\u001b[0m",
      "\u001b[1;31mNameError\u001b[0m                                 Traceback (most recent call last)",
      "\u001b[1;32m~\\AppData\\Local\\Temp/ipykernel_3816/2524635252.py\u001b[0m in \u001b[0;36m<module>\u001b[1;34m\u001b[0m\n\u001b[1;32m----> 1\u001b[1;33m \u001b[0mt1\u001b[0m\u001b[1;33m\u001b[0m\u001b[1;33m\u001b[0m\u001b[0m\n\u001b[0m",
      "\u001b[1;31mNameError\u001b[0m: name 't1' is not defined"
     ]
    }
   ],
   "source": [
    "t1"
   ]
  },
  {
   "cell_type": "code",
   "execution_count": 40,
   "id": "e65ff245",
   "metadata": {},
   "outputs": [],
   "source": [
    "#set\n",
    "x=set()"
   ]
  },
  {
   "cell_type": "code",
   "execution_count": 41,
   "id": "25247a13",
   "metadata": {},
   "outputs": [
    {
     "data": {
      "text/plain": [
       "set"
      ]
     },
     "execution_count": 41,
     "metadata": {},
     "output_type": "execute_result"
    }
   ],
   "source": [
    "type(x)"
   ]
  },
  {
   "cell_type": "code",
   "execution_count": 50,
   "id": "9d5f9ead",
   "metadata": {},
   "outputs": [],
   "source": [
    "l=[23,23,23,43,56,43,54,56,\"Uday\",\"uday\",\"Uday\",[1,2,3],[1,2,3]]"
   ]
  },
  {
   "cell_type": "code",
   "execution_count": 51,
   "id": "32204750",
   "metadata": {},
   "outputs": [
    {
     "data": {
      "text/plain": [
       "[23, 23, 23, 43, 56, 43, 54, 56, 'Uday', 'uday', 'Uday', [1, 2, 3], [1, 2, 3]]"
      ]
     },
     "execution_count": 51,
     "metadata": {},
     "output_type": "execute_result"
    }
   ],
   "source": [
    "l"
   ]
  },
  {
   "cell_type": "code",
   "execution_count": 52,
   "id": "b04c9d25",
   "metadata": {},
   "outputs": [
    {
     "ename": "TypeError",
     "evalue": "unhashable type: 'list'",
     "output_type": "error",
     "traceback": [
      "\u001b[1;31m---------------------------------------------------------------------------\u001b[0m",
      "\u001b[1;31mTypeError\u001b[0m                                 Traceback (most recent call last)",
      "\u001b[1;32m~\\AppData\\Local\\Temp/ipykernel_3816/2296901906.py\u001b[0m in \u001b[0;36m<module>\u001b[1;34m\u001b[0m\n\u001b[1;32m----> 1\u001b[1;33m \u001b[0mx\u001b[0m\u001b[1;33m=\u001b[0m\u001b[0mset\u001b[0m\u001b[1;33m(\u001b[0m\u001b[0ml\u001b[0m\u001b[1;33m)\u001b[0m\u001b[1;33m\u001b[0m\u001b[1;33m\u001b[0m\u001b[0m\n\u001b[0m",
      "\u001b[1;31mTypeError\u001b[0m: unhashable type: 'list'"
     ]
    }
   ],
   "source": [
    "x=set(l)"
   ]
  },
  {
   "cell_type": "code",
   "execution_count": 54,
   "id": "63df4182",
   "metadata": {},
   "outputs": [
    {
     "data": {
      "text/plain": [
       "{23, 43, 54, 56, 'Uday', 'uday'}"
      ]
     },
     "execution_count": 54,
     "metadata": {},
     "output_type": "execute_result"
    }
   ],
   "source": [
    "x"
   ]
  },
  {
   "cell_type": "code",
   "execution_count": 55,
   "id": "cab19e41",
   "metadata": {},
   "outputs": [
    {
     "ename": "TypeError",
     "evalue": "'set' object is not subscriptable",
     "output_type": "error",
     "traceback": [
      "\u001b[1;31m---------------------------------------------------------------------------\u001b[0m",
      "\u001b[1;31mTypeError\u001b[0m                                 Traceback (most recent call last)",
      "\u001b[1;32m~\\AppData\\Local\\Temp/ipykernel_3816/3629782281.py\u001b[0m in \u001b[0;36m<module>\u001b[1;34m\u001b[0m\n\u001b[1;32m----> 1\u001b[1;33m \u001b[0mx\u001b[0m\u001b[1;33m[\u001b[0m\u001b[1;36m0\u001b[0m\u001b[1;33m]\u001b[0m\u001b[1;33m\u001b[0m\u001b[1;33m\u001b[0m\u001b[0m\n\u001b[0m",
      "\u001b[1;31mTypeError\u001b[0m: 'set' object is not subscriptable"
     ]
    }
   ],
   "source": [
    "x[0]"
   ]
  },
  {
   "cell_type": "code",
   "execution_count": 56,
   "id": "9ce7f25a",
   "metadata": {},
   "outputs": [
    {
     "name": "stdout",
     "output_type": "stream",
     "text": [
      "Uday\n",
      "uday\n",
      "43\n",
      "54\n",
      "23\n",
      "56\n"
     ]
    }
   ],
   "source": [
    "for i in x:\n",
    "    print(i)\n",
    "    "
   ]
  },
  {
   "cell_type": "code",
   "execution_count": 57,
   "id": "1b3a4cf5",
   "metadata": {},
   "outputs": [],
   "source": [
    "m=list(x)"
   ]
  },
  {
   "cell_type": "code",
   "execution_count": 73,
   "id": "6d5924c2",
   "metadata": {},
   "outputs": [
    {
     "data": {
      "text/plain": [
       "['Uday',\n",
       " 'uday',\n",
       " 43,\n",
       " 54,\n",
       " 23,\n",
       " 56,\n",
       " {23, 43, 54, 56, 'Kiran', 'Uday', 'uday'},\n",
       " {23, 43, 54, 56, 'Kiran', 'Uday', 'uday'}]"
      ]
     },
     "execution_count": 73,
     "metadata": {},
     "output_type": "execute_result"
    }
   ],
   "source": [
    "m.append(x)\n",
    "m"
   ]
  },
  {
   "cell_type": "code",
   "execution_count": 59,
   "id": "c8e73595",
   "metadata": {},
   "outputs": [
    {
     "data": {
      "text/plain": [
       "{23, 43, 54, 56, 'Kiran', 'Uday', 'uday'}"
      ]
     },
     "execution_count": 59,
     "metadata": {},
     "output_type": "execute_result"
    }
   ],
   "source": [
    "x.add(\"Kiran\")\n",
    "x"
   ]
  },
  {
   "cell_type": "code",
   "execution_count": 64,
   "id": "60f675bc",
   "metadata": {},
   "outputs": [],
   "source": [
    "x.clear()"
   ]
  },
  {
   "cell_type": "code",
   "execution_count": 65,
   "id": "30f6ff8c",
   "metadata": {},
   "outputs": [
    {
     "data": {
      "text/plain": [
       "set()"
      ]
     },
     "execution_count": 65,
     "metadata": {},
     "output_type": "execute_result"
    }
   ],
   "source": [
    "x"
   ]
  },
  {
   "cell_type": "code",
   "execution_count": 66,
   "id": "0946159f",
   "metadata": {},
   "outputs": [],
   "source": [
    "x={23, 43, 54, 56, 'Kiran', 'Uday', 'uday'}"
   ]
  },
  {
   "cell_type": "code",
   "execution_count": 67,
   "id": "d9cd0cbd",
   "metadata": {},
   "outputs": [
    {
     "data": {
      "text/plain": [
       "{23, 43, 54, 56, 'Kiran', 'Uday', 'uday'}"
      ]
     },
     "execution_count": 67,
     "metadata": {},
     "output_type": "execute_result"
    }
   ],
   "source": [
    "x"
   ]
  },
  {
   "cell_type": "code",
   "execution_count": 68,
   "id": "2ee1e972",
   "metadata": {},
   "outputs": [],
   "source": [
    "y={23,34}"
   ]
  },
  {
   "cell_type": "code",
   "execution_count": 70,
   "id": "55e5b062",
   "metadata": {},
   "outputs": [
    {
     "ename": "TypeError",
     "evalue": "unsupported operand type(s) for +: 'set' and 'set'",
     "output_type": "error",
     "traceback": [
      "\u001b[1;31m---------------------------------------------------------------------------\u001b[0m",
      "\u001b[1;31mTypeError\u001b[0m                                 Traceback (most recent call last)",
      "\u001b[1;32m~\\AppData\\Local\\Temp/ipykernel_3816/2163207258.py\u001b[0m in \u001b[0;36m<module>\u001b[1;34m\u001b[0m\n\u001b[1;32m----> 1\u001b[1;33m \u001b[0mx\u001b[0m\u001b[1;33m+\u001b[0m\u001b[0my\u001b[0m\u001b[1;33m\u001b[0m\u001b[1;33m\u001b[0m\u001b[0m\n\u001b[0m",
      "\u001b[1;31mTypeError\u001b[0m: unsupported operand type(s) for +: 'set' and 'set'"
     ]
    }
   ],
   "source": [
    "x+y\n"
   ]
  },
  {
   "cell_type": "code",
   "execution_count": 71,
   "id": "814255ff",
   "metadata": {},
   "outputs": [
    {
     "ename": "TypeError",
     "evalue": "unsupported operand type(s) for *: 'set' and 'set'",
     "output_type": "error",
     "traceback": [
      "\u001b[1;31m---------------------------------------------------------------------------\u001b[0m",
      "\u001b[1;31mTypeError\u001b[0m                                 Traceback (most recent call last)",
      "\u001b[1;32m~\\AppData\\Local\\Temp/ipykernel_3816/443581256.py\u001b[0m in \u001b[0;36m<module>\u001b[1;34m\u001b[0m\n\u001b[1;32m----> 1\u001b[1;33m \u001b[0mx\u001b[0m\u001b[1;33m*\u001b[0m\u001b[0my\u001b[0m\u001b[1;33m\u001b[0m\u001b[1;33m\u001b[0m\u001b[0m\n\u001b[0m",
      "\u001b[1;31mTypeError\u001b[0m: unsupported operand type(s) for *: 'set' and 'set'"
     ]
    }
   ],
   "source": [
    "x*y"
   ]
  },
  {
   "cell_type": "code",
   "execution_count": 74,
   "id": "20611969",
   "metadata": {},
   "outputs": [
    {
     "data": {
      "text/plain": [
       "('Uday', 54, 23, 'uday', 'Kiran', 56, 43)"
      ]
     },
     "execution_count": 74,
     "metadata": {},
     "output_type": "execute_result"
    }
   ],
   "source": [
    "tuple(x)"
   ]
  },
  {
   "cell_type": "code",
   "execution_count": 77,
   "id": "fd77bee3",
   "metadata": {},
   "outputs": [],
   "source": [
    "#Dictionaries\n",
    "d={}"
   ]
  },
  {
   "cell_type": "code",
   "execution_count": 78,
   "id": "0b3caa4b",
   "metadata": {},
   "outputs": [
    {
     "data": {
      "text/plain": [
       "dict"
      ]
     },
     "execution_count": 78,
     "metadata": {},
     "output_type": "execute_result"
    }
   ],
   "source": [
    "type(d)\n"
   ]
  },
  {
   "cell_type": "code",
   "execution_count": 79,
   "id": "b9cd32c8",
   "metadata": {},
   "outputs": [],
   "source": [
    "d={\"name\":\"Uday\",\"age\":23}"
   ]
  },
  {
   "cell_type": "code",
   "execution_count": 80,
   "id": "ddc01083",
   "metadata": {},
   "outputs": [
    {
     "data": {
      "text/plain": [
       "{'name': 'Uday', 'age': 23}"
      ]
     },
     "execution_count": 80,
     "metadata": {},
     "output_type": "execute_result"
    }
   ],
   "source": [
    "d"
   ]
  },
  {
   "cell_type": "code",
   "execution_count": 81,
   "id": "046f1925",
   "metadata": {},
   "outputs": [],
   "source": [
    "l=list(d)"
   ]
  },
  {
   "cell_type": "code",
   "execution_count": 82,
   "id": "c5281a48",
   "metadata": {},
   "outputs": [
    {
     "data": {
      "text/plain": [
       "['name', 'age']"
      ]
     },
     "execution_count": 82,
     "metadata": {},
     "output_type": "execute_result"
    }
   ],
   "source": [
    "l"
   ]
  },
  {
   "cell_type": "code",
   "execution_count": 84,
   "id": "4137f5ed",
   "metadata": {},
   "outputs": [],
   "source": [
    "l1=list(d.items())"
   ]
  },
  {
   "cell_type": "code",
   "execution_count": 85,
   "id": "aad166e0",
   "metadata": {},
   "outputs": [
    {
     "data": {
      "text/plain": [
       "[('name', 'Uday'), ('age', 23)]"
      ]
     },
     "execution_count": 85,
     "metadata": {},
     "output_type": "execute_result"
    }
   ],
   "source": [
    "l1"
   ]
  },
  {
   "cell_type": "code",
   "execution_count": 96,
   "id": "5d2f0b53",
   "metadata": {},
   "outputs": [],
   "source": [
    "d1={'name': 'Uday', 'age': [23,34],'name2':{1,2,3},\"age2\":(34,23),\"di\":{\"name\":\"Uday\",\"age\":23}\n",
    "   }\n"
   ]
  },
  {
   "cell_type": "code",
   "execution_count": 97,
   "id": "8bd86273",
   "metadata": {},
   "outputs": [
    {
     "data": {
      "text/plain": [
       "{'name': 'Uday',\n",
       " 'age': [23, 34],\n",
       " 'name2': {1, 2, 3},\n",
       " 'age2': (34, 23),\n",
       " 'di': {'name': 'Uday', 'age': 23}}"
      ]
     },
     "execution_count": 97,
     "metadata": {},
     "output_type": "execute_result"
    }
   ],
   "source": [
    "d1\n"
   ]
  },
  {
   "cell_type": "code",
   "execution_count": 100,
   "id": "1b66fac8",
   "metadata": {},
   "outputs": [
    {
     "data": {
      "text/plain": [
       "[('name', 'Uday'),\n",
       " ('age', [23, 34]),\n",
       " ('name2', {1, 2, 3}),\n",
       " ('age2', (34, 23)),\n",
       " ('di', {'name': 'Uday', 'age': 23})]"
      ]
     },
     "execution_count": 100,
     "metadata": {},
     "output_type": "execute_result"
    }
   ],
   "source": [
    "l2=list(d1.items())\n",
    "l2"
   ]
  },
  {
   "cell_type": "code",
   "execution_count": 106,
   "id": "ef3493c0",
   "metadata": {},
   "outputs": [
    {
     "data": {
      "text/plain": [
       "{'name': 'Uday',\n",
       " 'age': [23, 34],\n",
       " 'name2': {1, 2, 3},\n",
       " 'age2': (34, 23),\n",
       " 'di': {'name': 'Uday', 'age': 23}}"
      ]
     },
     "execution_count": 106,
     "metadata": {},
     "output_type": "execute_result"
    }
   ],
   "source": [
    "d1"
   ]
  },
  {
   "cell_type": "code",
   "execution_count": 111,
   "id": "a020fe63",
   "metadata": {},
   "outputs": [
    {
     "data": {
      "text/plain": [
       "34"
      ]
     },
     "execution_count": 111,
     "metadata": {},
     "output_type": "execute_result"
    }
   ],
   "source": [
    "d1['age'][1]"
   ]
  },
  {
   "cell_type": "code",
   "execution_count": 112,
   "id": "ff610f1a",
   "metadata": {},
   "outputs": [
    {
     "data": {
      "text/plain": [
       "dict_keys(['name', 'age', 'name2', 'age2', 'di'])"
      ]
     },
     "execution_count": 112,
     "metadata": {},
     "output_type": "execute_result"
    }
   ],
   "source": [
    "d1.keys()"
   ]
  },
  {
   "cell_type": "code",
   "execution_count": 113,
   "id": "cb6fd6ba",
   "metadata": {},
   "outputs": [
    {
     "data": {
      "text/plain": [
       "True"
      ]
     },
     "execution_count": 113,
     "metadata": {},
     "output_type": "execute_result"
    }
   ],
   "source": [
    "'di' in d1"
   ]
  },
  {
   "cell_type": "code",
   "execution_count": 114,
   "id": "6291c564",
   "metadata": {},
   "outputs": [
    {
     "name": "stdout",
     "output_type": "stream",
     "text": [
      "name\n",
      "age\n",
      "name2\n",
      "age2\n",
      "di\n"
     ]
    }
   ],
   "source": [
    "for i in d1:\n",
    "    print(i)"
   ]
  },
  {
   "cell_type": "code",
   "execution_count": 118,
   "id": "d185d73b",
   "metadata": {},
   "outputs": [
    {
     "name": "stdout",
     "output_type": "stream",
     "text": [
      "name == Uday\n",
      "age == [23, 34]\n",
      "name2 == {1, 2, 3}\n",
      "age2 == (34, 23)\n",
      "di == {'name': 'Uday', 'age': 23}\n"
     ]
    }
   ],
   "source": [
    "for i in d1.keys():\n",
    "    print(i,\"==\",d1[i])"
   ]
  },
  {
   "cell_type": "code",
   "execution_count": 119,
   "id": "9e472e13",
   "metadata": {},
   "outputs": [
    {
     "data": {
      "text/plain": [
       "dict_items([('name', 'Uday'), ('age', [23, 34]), ('name2', {1, 2, 3}), ('age2', (34, 23)), ('di', {'name': 'Uday', 'age': 23})])"
      ]
     },
     "execution_count": 119,
     "metadata": {},
     "output_type": "execute_result"
    }
   ],
   "source": [
    "d1.items()"
   ]
  },
  {
   "cell_type": "code",
   "execution_count": 122,
   "id": "a34a92eb",
   "metadata": {},
   "outputs": [
    {
     "name": "stdout",
     "output_type": "stream",
     "text": [
      "name\n",
      "age\n",
      "name2\n",
      "age2\n",
      "di\n"
     ]
    }
   ],
   "source": [
    "for i in d1.items():\n",
    "    print(i[0])"
   ]
  },
  {
   "cell_type": "code",
   "execution_count": 123,
   "id": "ff817a4c",
   "metadata": {},
   "outputs": [
    {
     "data": {
      "text/plain": [
       "5"
      ]
     },
     "execution_count": 123,
     "metadata": {},
     "output_type": "execute_result"
    }
   ],
   "source": [
    "len(d1)\n"
   ]
  },
  {
   "cell_type": "code",
   "execution_count": 140,
   "id": "044f5322",
   "metadata": {},
   "outputs": [
    {
     "name": "stdout",
     "output_type": "stream",
     "text": [
      "{'lmn', 'efg', 'xyz', 'ijk', 'abc', 'opq'}\n",
      "dict_items([('lmn', 'Uday'), ('efg', 'Uday'), ('xyz', 'Uday'), ('ijk', 'Uday'), ('abc', 'Uday'), ('opq', 'Uday')])\n",
      "('lmn', 'efg', 'xyz', 'ijk', 'abc', 'opq')\n",
      "['Uday', 'Uday', 'Uday', 'Uday', 'Uday', 'Uday']\n"
     ]
    }
   ],
   "source": [
    "p=\"abc efg ijk lmn opq abc xyz\"\n",
    "p1=p.split()\n",
    "s= set(p1)\n",
    "print(s)\n",
    "l=list(s)\n",
    "d2={}\n",
    "for i in l:\n",
    "    d2[i]=\"Uday\"\n",
    "print(d2.items())\n",
    "m1=[]\n",
    "m2=[]\n",
    "for i in d2.items():\n",
    "    m1.append(i[0])\n",
    "    m2.append(i[1])\n",
    "    \n",
    "c=tuple(m1)\n",
    "print(c)\n",
    "print(m2)\n",
    "    "
   ]
  },
  {
   "cell_type": "code",
   "execution_count": 143,
   "id": "4b1b018c",
   "metadata": {},
   "outputs": [],
   "source": [
    "my={}\n",
    "for i in range(10):\n",
    "    my[i]=i*i"
   ]
  },
  {
   "cell_type": "code",
   "execution_count": 144,
   "id": "fc28b278",
   "metadata": {},
   "outputs": [
    {
     "data": {
      "text/plain": [
       "{0: 0, 1: 1, 2: 4, 3: 9, 4: 16, 5: 25, 6: 36, 7: 49, 8: 64, 9: 81}"
      ]
     },
     "execution_count": 144,
     "metadata": {},
     "output_type": "execute_result"
    }
   ],
   "source": [
    "my"
   ]
  },
  {
   "cell_type": "code",
   "execution_count": 151,
   "id": "7bf44022",
   "metadata": {},
   "outputs": [],
   "source": [
    "evenodd = { i:\"even\" if i%2 == 0 else \"odd\" for i in range(1,20)}"
   ]
  },
  {
   "cell_type": "code",
   "execution_count": 152,
   "id": "f8ab2fa5",
   "metadata": {},
   "outputs": [
    {
     "data": {
      "text/plain": [
       "{1: 'odd',\n",
       " 2: 'even',\n",
       " 3: 'odd',\n",
       " 4: 'even',\n",
       " 5: 'odd',\n",
       " 6: 'even',\n",
       " 7: 'odd',\n",
       " 8: 'even',\n",
       " 9: 'odd',\n",
       " 10: 'even',\n",
       " 11: 'odd',\n",
       " 12: 'even',\n",
       " 13: 'odd',\n",
       " 14: 'even',\n",
       " 15: 'odd',\n",
       " 16: 'even',\n",
       " 17: 'odd',\n",
       " 18: 'even',\n",
       " 19: 'odd'}"
      ]
     },
     "execution_count": 152,
     "metadata": {},
     "output_type": "execute_result"
    }
   ],
   "source": [
    "evenodd"
   ]
  },
  {
   "cell_type": "code",
   "execution_count": null,
   "id": "bd7ae895",
   "metadata": {},
   "outputs": [],
   "source": []
  }
 ],
 "metadata": {
  "kernelspec": {
   "display_name": "Python 3 (ipykernel)",
   "language": "python",
   "name": "python3"
  },
  "language_info": {
   "codemirror_mode": {
    "name": "ipython",
    "version": 3
   },
   "file_extension": ".py",
   "mimetype": "text/x-python",
   "name": "python",
   "nbconvert_exporter": "python",
   "pygments_lexer": "ipython3",
   "version": "3.9.7"
  }
 },
 "nbformat": 4,
 "nbformat_minor": 5
}
