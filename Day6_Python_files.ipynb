{
 "cells": [
  {
   "cell_type": "markdown",
   "id": "1534b210",
   "metadata": {},
   "source": [
    "# Day6_Python_files"
   ]
  },
  {
   "cell_type": "code",
   "execution_count": 1,
   "id": "86eacaff",
   "metadata": {},
   "outputs": [
    {
     "ename": "FileNotFoundError",
     "evalue": "[Errno 2] No such file or directory: 'test.txt'",
     "output_type": "error",
     "traceback": [
      "\u001b[1;31m---------------------------------------------------------------------------\u001b[0m",
      "\u001b[1;31mFileNotFoundError\u001b[0m                         Traceback (most recent call last)",
      "\u001b[1;32m~\\AppData\\Local\\Temp/ipykernel_4784/2159030510.py\u001b[0m in \u001b[0;36m<module>\u001b[1;34m\u001b[0m\n\u001b[1;32m----> 1\u001b[1;33m \u001b[0mf\u001b[0m \u001b[1;33m=\u001b[0m \u001b[0mopen\u001b[0m\u001b[1;33m(\u001b[0m\u001b[1;34m\"test.txt\"\u001b[0m\u001b[1;33m)\u001b[0m\u001b[1;33m\u001b[0m\u001b[1;33m\u001b[0m\u001b[0m\n\u001b[0m",
      "\u001b[1;31mFileNotFoundError\u001b[0m: [Errno 2] No such file or directory: 'test.txt'"
     ]
    }
   ],
   "source": [
    "f = open(\"test.txt\")"
   ]
  },
  {
   "cell_type": "code",
   "execution_count": 3,
   "id": "17103879",
   "metadata": {},
   "outputs": [],
   "source": [
    "f =open(\"test.txt\",\"w\")"
   ]
  },
  {
   "cell_type": "code",
   "execution_count": 5,
   "id": "61210d52",
   "metadata": {},
   "outputs": [
    {
     "data": {
      "text/plain": [
       "18"
      ]
     },
     "execution_count": 5,
     "metadata": {},
     "output_type": "execute_result"
    }
   ],
   "source": [
    "f.write(r\"This is first file\")"
   ]
  },
  {
   "cell_type": "code",
   "execution_count": 6,
   "id": "d15e0c41",
   "metadata": {},
   "outputs": [
    {
     "data": {
      "text/plain": [
       "38"
      ]
     },
     "execution_count": 6,
     "metadata": {},
     "output_type": "execute_result"
    }
   ],
   "source": [
    "f.write(\"jhgdhjsgjha gvdjhgfjhgsakhf hjkfdgjhsg\")"
   ]
  },
  {
   "cell_type": "code",
   "execution_count": 7,
   "id": "90c32056",
   "metadata": {},
   "outputs": [],
   "source": [
    "f.close()"
   ]
  },
  {
   "cell_type": "code",
   "execution_count": 8,
   "id": "5647fa0f",
   "metadata": {},
   "outputs": [],
   "source": [
    "f = open(\"test.txt\")"
   ]
  },
  {
   "cell_type": "code",
   "execution_count": 9,
   "id": "17ad3edb",
   "metadata": {},
   "outputs": [
    {
     "data": {
      "text/plain": [
       "'This is first fileThis is first filejhgdhjsgjha gvdjhgfjhgsakhf hjkfdgjhsg'"
      ]
     },
     "execution_count": 9,
     "metadata": {},
     "output_type": "execute_result"
    }
   ],
   "source": [
    "f.read()"
   ]
  },
  {
   "cell_type": "code",
   "execution_count": 10,
   "id": "2856fa42",
   "metadata": {},
   "outputs": [
    {
     "data": {
      "text/plain": [
       "'\\njhgdjhasgkjhfgsa\\ngjdfshgajhs\\n            bdkjaskdhkj hgjhgsajdhgjhdgsjhgbkjghkj\\n            hgjhgjhg\\n            jgjhg\\n       kjhckjxhkjh'"
      ]
     },
     "execution_count": 10,
     "metadata": {},
     "output_type": "execute_result"
    }
   ],
   "source": [
    "f.read()"
   ]
  },
  {
   "cell_type": "code",
   "execution_count": 11,
   "id": "096e14dd",
   "metadata": {},
   "outputs": [
    {
     "data": {
      "text/plain": [
       "''"
      ]
     },
     "execution_count": 11,
     "metadata": {},
     "output_type": "execute_result"
    }
   ],
   "source": [
    "f.read()"
   ]
  },
  {
   "cell_type": "code",
   "execution_count": 12,
   "id": "6b7f30a5",
   "metadata": {},
   "outputs": [
    {
     "data": {
      "text/plain": [
       "5"
      ]
     },
     "execution_count": 12,
     "metadata": {},
     "output_type": "execute_result"
    }
   ],
   "source": [
    "f.seek(5)"
   ]
  },
  {
   "cell_type": "code",
   "execution_count": 13,
   "id": "c9db6797",
   "metadata": {},
   "outputs": [
    {
     "data": {
      "text/plain": [
       "'is first fileThis is first filejhgdhjsgjha gvdjhgfjhgsakhf hjkfdgjhsg\\njhgdjhasgkjhfgsa\\ngjdfshgajhs\\n            bdkjaskdhkj hgjhgsajdhgjhdgsjhgbkjghkj\\n            hgjhgjhg\\n            jgjhg\\n       kjhckjxhkjh'"
      ]
     },
     "execution_count": 13,
     "metadata": {},
     "output_type": "execute_result"
    }
   ],
   "source": [
    "f.read()"
   ]
  },
  {
   "cell_type": "code",
   "execution_count": 14,
   "id": "cffdf48b",
   "metadata": {},
   "outputs": [
    {
     "data": {
      "text/plain": [
       "''"
      ]
     },
     "execution_count": 14,
     "metadata": {},
     "output_type": "execute_result"
    }
   ],
   "source": [
    "f.read()"
   ]
  },
  {
   "cell_type": "code",
   "execution_count": 15,
   "id": "7e5a36ee",
   "metadata": {},
   "outputs": [
    {
     "data": {
      "text/plain": [
       "1"
      ]
     },
     "execution_count": 15,
     "metadata": {},
     "output_type": "execute_result"
    }
   ],
   "source": [
    "f.seek(1)"
   ]
  },
  {
   "cell_type": "code",
   "execution_count": 16,
   "id": "3ef15bb2",
   "metadata": {},
   "outputs": [
    {
     "data": {
      "text/plain": [
       "'his is first fileThis is first filejhgdhjsgjha gvdjhgfjhgsakhf hjkfdgjhsg\\njhgdjhasgkjhfgsa\\ngjdfshgajhs\\n            bdkjaskdhkj hgjhgsajdhgjhdgsjhgbkjghkj\\n            hgjhgjhg\\n            jgjhg\\n       kjhckjxhkjh'"
      ]
     },
     "execution_count": 16,
     "metadata": {},
     "output_type": "execute_result"
    }
   ],
   "source": [
    "f.read()"
   ]
  },
  {
   "cell_type": "code",
   "execution_count": 17,
   "id": "7cb7dab0",
   "metadata": {},
   "outputs": [
    {
     "data": {
      "text/plain": [
       "0"
      ]
     },
     "execution_count": 17,
     "metadata": {},
     "output_type": "execute_result"
    }
   ],
   "source": [
    "f.seek(0)"
   ]
  },
  {
   "cell_type": "code",
   "execution_count": 18,
   "id": "13601e64",
   "metadata": {},
   "outputs": [
    {
     "data": {
      "text/plain": [
       "'This is first fileThis is first filejhgdhjsgjha gvdjhgfjhgsakhf hjkfdgjhsg\\njhgdjhasgkjhfgsa\\ngjdfshgajhs\\n            bdkjaskdhkj hgjhgsajdhgjhdgsjhgbkjghkj\\n            hgjhgjhg\\n            jgjhg\\n       kjhckjxhkjh'"
      ]
     },
     "execution_count": 18,
     "metadata": {},
     "output_type": "execute_result"
    }
   ],
   "source": [
    "f.read()"
   ]
  },
  {
   "cell_type": "code",
   "execution_count": 19,
   "id": "f3859186",
   "metadata": {},
   "outputs": [],
   "source": [
    "f.close()"
   ]
  },
  {
   "cell_type": "code",
   "execution_count": 21,
   "id": "23f4bfa5",
   "metadata": {},
   "outputs": [],
   "source": [
    "f=open(\"test.txt\",\"r\")"
   ]
  },
  {
   "cell_type": "code",
   "execution_count": 22,
   "id": "b269efe0",
   "metadata": {},
   "outputs": [
    {
     "ename": "UnsupportedOperation",
     "evalue": "not writable",
     "output_type": "error",
     "traceback": [
      "\u001b[1;31m---------------------------------------------------------------------------\u001b[0m",
      "\u001b[1;31mUnsupportedOperation\u001b[0m                      Traceback (most recent call last)",
      "\u001b[1;32m~\\AppData\\Local\\Temp/ipykernel_14028/964100744.py\u001b[0m in \u001b[0;36m<module>\u001b[1;34m\u001b[0m\n\u001b[1;32m----> 1\u001b[1;33m \u001b[0mf\u001b[0m\u001b[1;33m.\u001b[0m\u001b[0mwrite\u001b[0m\u001b[1;33m(\u001b[0m\u001b[1;34m\" My name is Uday\"\u001b[0m\u001b[1;33m)\u001b[0m\u001b[1;33m\u001b[0m\u001b[1;33m\u001b[0m\u001b[0m\n\u001b[0m",
      "\u001b[1;31mUnsupportedOperation\u001b[0m: not writable"
     ]
    }
   ],
   "source": [
    "f.write(\" My name is Uday\")"
   ]
  },
  {
   "cell_type": "code",
   "execution_count": 23,
   "id": "6f4ceaa9",
   "metadata": {},
   "outputs": [
    {
     "data": {
      "text/plain": [
       "'This is first fileThis is first filejhgdhjsgjha gvdjhgfjhgsakhf hjkfdgjhsg\\njhgdjhasgkjhfgsa\\ngjdfshgajhs\\n            bdkjaskdhkj hgjhgsajdhgjhdgsjhgbkjghkj\\n            hgjhgjhg\\n            jgjhg\\n       kjhckjxhkjh'"
      ]
     },
     "execution_count": 23,
     "metadata": {},
     "output_type": "execute_result"
    }
   ],
   "source": [
    "f.read()"
   ]
  },
  {
   "cell_type": "code",
   "execution_count": 24,
   "id": "6895947f",
   "metadata": {},
   "outputs": [
    {
     "data": {
      "text/plain": [
       "0"
      ]
     },
     "execution_count": 24,
     "metadata": {},
     "output_type": "execute_result"
    }
   ],
   "source": [
    "f.seek(0)"
   ]
  },
  {
   "cell_type": "code",
   "execution_count": 25,
   "id": "69eb188b",
   "metadata": {},
   "outputs": [
    {
     "data": {
      "text/plain": [
       "'This is first fileThis is'"
      ]
     },
     "execution_count": 25,
     "metadata": {},
     "output_type": "execute_result"
    }
   ],
   "source": [
    "f.read(25)"
   ]
  },
  {
   "cell_type": "code",
   "execution_count": 26,
   "id": "33cc07a8",
   "metadata": {},
   "outputs": [],
   "source": [
    "f.close()"
   ]
  },
  {
   "cell_type": "code",
   "execution_count": 27,
   "id": "4d47d25a",
   "metadata": {},
   "outputs": [
    {
     "ename": "ValueError",
     "evalue": "I/O operation on closed file.",
     "output_type": "error",
     "traceback": [
      "\u001b[1;31m---------------------------------------------------------------------------\u001b[0m",
      "\u001b[1;31mValueError\u001b[0m                                Traceback (most recent call last)",
      "\u001b[1;32m~\\AppData\\Local\\Temp/ipykernel_14028/3059900045.py\u001b[0m in \u001b[0;36m<module>\u001b[1;34m\u001b[0m\n\u001b[1;32m----> 1\u001b[1;33m \u001b[0mf\u001b[0m\u001b[1;33m.\u001b[0m\u001b[0mread\u001b[0m\u001b[1;33m(\u001b[0m\u001b[1;33m)\u001b[0m\u001b[1;33m\u001b[0m\u001b[1;33m\u001b[0m\u001b[0m\n\u001b[0m",
      "\u001b[1;31mValueError\u001b[0m: I/O operation on closed file."
     ]
    }
   ],
   "source": [
    "f.read()"
   ]
  },
  {
   "cell_type": "code",
   "execution_count": 28,
   "id": "df74e68f",
   "metadata": {},
   "outputs": [],
   "source": [
    "f=open(\"test.txt\",\"w\")"
   ]
  },
  {
   "cell_type": "code",
   "execution_count": 29,
   "id": "db8e47ed",
   "metadata": {},
   "outputs": [
    {
     "data": {
      "text/plain": [
       "43"
      ]
     },
     "execution_count": 29,
     "metadata": {},
     "output_type": "execute_result"
    }
   ],
   "source": [
    "f.write(\"qweerrtr jhgjhgdsjh hgjhdsgjhg jhghjsagdjhg\")"
   ]
  },
  {
   "cell_type": "code",
   "execution_count": 30,
   "id": "b4e78da9",
   "metadata": {},
   "outputs": [],
   "source": [
    "f.close()"
   ]
  },
  {
   "cell_type": "code",
   "execution_count": 31,
   "id": "525f17d3",
   "metadata": {},
   "outputs": [],
   "source": [
    "f= open(\"test.txt\",\"a\")"
   ]
  },
  {
   "cell_type": "code",
   "execution_count": 32,
   "id": "94cb7715",
   "metadata": {},
   "outputs": [
    {
     "data": {
      "text/plain": [
       "17"
      ]
     },
     "execution_count": 32,
     "metadata": {},
     "output_type": "execute_result"
    }
   ],
   "source": [
    "f.write(\"\\nThis is appended\")"
   ]
  },
  {
   "cell_type": "code",
   "execution_count": 33,
   "id": "5e7baca2",
   "metadata": {},
   "outputs": [],
   "source": [
    "f.close()"
   ]
  },
  {
   "cell_type": "code",
   "execution_count": 34,
   "id": "ec576d82",
   "metadata": {},
   "outputs": [],
   "source": [
    "f= open(\"test1.txt\",\"wb\")"
   ]
  },
  {
   "cell_type": "code",
   "execution_count": 35,
   "id": "8eda00c0",
   "metadata": {},
   "outputs": [
    {
     "ename": "TypeError",
     "evalue": "a bytes-like object is required, not 'str'",
     "output_type": "error",
     "traceback": [
      "\u001b[1;31m---------------------------------------------------------------------------\u001b[0m",
      "\u001b[1;31mTypeError\u001b[0m                                 Traceback (most recent call last)",
      "\u001b[1;32m~\\AppData\\Local\\Temp/ipykernel_14028/1472770421.py\u001b[0m in \u001b[0;36m<module>\u001b[1;34m\u001b[0m\n\u001b[1;32m----> 1\u001b[1;33m \u001b[0mf\u001b[0m\u001b[1;33m.\u001b[0m\u001b[0mwrite\u001b[0m\u001b[1;33m(\u001b[0m\u001b[1;34m\"uday\"\u001b[0m\u001b[1;33m)\u001b[0m\u001b[1;33m\u001b[0m\u001b[1;33m\u001b[0m\u001b[0m\n\u001b[0m",
      "\u001b[1;31mTypeError\u001b[0m: a bytes-like object is required, not 'str'"
     ]
    }
   ],
   "source": [
    "f.write(\"uday\")"
   ]
  },
  {
   "cell_type": "code",
   "execution_count": 36,
   "id": "e95b4332",
   "metadata": {},
   "outputs": [
    {
     "data": {
      "text/plain": [
       "4"
      ]
     },
     "execution_count": 36,
     "metadata": {},
     "output_type": "execute_result"
    }
   ],
   "source": [
    "f.write(b\"uday\")"
   ]
  },
  {
   "cell_type": "code",
   "execution_count": 37,
   "id": "f3da713f",
   "metadata": {},
   "outputs": [],
   "source": [
    "f.close()"
   ]
  },
  {
   "cell_type": "code",
   "execution_count": 38,
   "id": "4927adba",
   "metadata": {},
   "outputs": [],
   "source": [
    "f= open(\"test1.txt\",\"r\")"
   ]
  },
  {
   "cell_type": "code",
   "execution_count": 39,
   "id": "615e729a",
   "metadata": {},
   "outputs": [
    {
     "data": {
      "text/plain": [
       "'uday'"
      ]
     },
     "execution_count": 39,
     "metadata": {},
     "output_type": "execute_result"
    }
   ],
   "source": [
    "f.read()"
   ]
  },
  {
   "cell_type": "code",
   "execution_count": 40,
   "id": "bd0b2d65",
   "metadata": {},
   "outputs": [
    {
     "data": {
      "text/plain": [
       "2"
      ]
     },
     "execution_count": 40,
     "metadata": {},
     "output_type": "execute_result"
    }
   ],
   "source": [
    "f.seek(2)"
   ]
  },
  {
   "cell_type": "code",
   "execution_count": 41,
   "id": "09b57832",
   "metadata": {},
   "outputs": [
    {
     "data": {
      "text/plain": [
       "'ay'"
      ]
     },
     "execution_count": 41,
     "metadata": {},
     "output_type": "execute_result"
    }
   ],
   "source": [
    "f.read()"
   ]
  },
  {
   "cell_type": "code",
   "execution_count": 44,
   "id": "a17d0d29",
   "metadata": {},
   "outputs": [
    {
     "data": {
      "text/plain": [
       "0"
      ]
     },
     "execution_count": 44,
     "metadata": {},
     "output_type": "execute_result"
    }
   ],
   "source": [
    "f.seek(0)"
   ]
  },
  {
   "cell_type": "code",
   "execution_count": 45,
   "id": "600a8381",
   "metadata": {},
   "outputs": [
    {
     "data": {
      "text/plain": [
       "'uda'"
      ]
     },
     "execution_count": 45,
     "metadata": {},
     "output_type": "execute_result"
    }
   ],
   "source": [
    "f.read(3)"
   ]
  },
  {
   "cell_type": "code",
   "execution_count": 46,
   "id": "da875fe1",
   "metadata": {},
   "outputs": [
    {
     "data": {
      "text/plain": [
       "0"
      ]
     },
     "execution_count": 46,
     "metadata": {},
     "output_type": "execute_result"
    }
   ],
   "source": [
    "f.seek(0)"
   ]
  },
  {
   "cell_type": "code",
   "execution_count": 51,
   "id": "e6871132",
   "metadata": {},
   "outputs": [
    {
     "data": {
      "text/plain": [
       "'uday kiran rao uday kiran rao uday kiran rao '"
      ]
     },
     "execution_count": 51,
     "metadata": {},
     "output_type": "execute_result"
    }
   ],
   "source": [
    "f.read()"
   ]
  },
  {
   "cell_type": "code",
   "execution_count": 54,
   "id": "8f03774b",
   "metadata": {},
   "outputs": [],
   "source": [
    "f.close()"
   ]
  },
  {
   "cell_type": "code",
   "execution_count": 55,
   "id": "b4d573e0",
   "metadata": {},
   "outputs": [],
   "source": [
    "f= open(\"test2.txt\",\"w\")"
   ]
  },
  {
   "cell_type": "code",
   "execution_count": 56,
   "id": "40583ae2",
   "metadata": {},
   "outputs": [
    {
     "data": {
      "text/plain": [
       "44"
      ]
     },
     "execution_count": 56,
     "metadata": {},
     "output_type": "execute_result"
    }
   ],
   "source": [
    "f.write(\"uday kiran rao uday kiran rao uday kiran rao\")"
   ]
  },
  {
   "cell_type": "code",
   "execution_count": 57,
   "id": "3851cf26",
   "metadata": {},
   "outputs": [],
   "source": [
    "f.close()"
   ]
  },
  {
   "cell_type": "code",
   "execution_count": 74,
   "id": "c1875db9",
   "metadata": {},
   "outputs": [
    {
     "data": {
      "text/plain": [
       "<_io.TextIOWrapper name='test2.txt' mode='r' encoding='cp1252'>"
      ]
     },
     "execution_count": 74,
     "metadata": {},
     "output_type": "execute_result"
    }
   ],
   "source": [
    "f= open(\"test2.txt\",\"r\")\n",
    "f"
   ]
  },
  {
   "cell_type": "code",
   "execution_count": 59,
   "id": "2e58b91c",
   "metadata": {},
   "outputs": [
    {
     "data": {
      "text/plain": [
       "'uday kiran rao uday kiran rao uday kiran rao'"
      ]
     },
     "execution_count": 59,
     "metadata": {},
     "output_type": "execute_result"
    }
   ],
   "source": [
    "f.read()"
   ]
  },
  {
   "cell_type": "code",
   "execution_count": 61,
   "id": "1d43010f",
   "metadata": {},
   "outputs": [
    {
     "data": {
      "text/plain": [
       "''"
      ]
     },
     "execution_count": 61,
     "metadata": {},
     "output_type": "execute_result"
    }
   ],
   "source": [
    "f.read()"
   ]
  },
  {
   "cell_type": "code",
   "execution_count": 62,
   "id": "7dba0f67",
   "metadata": {},
   "outputs": [
    {
     "data": {
      "text/plain": [
       "0"
      ]
     },
     "execution_count": 62,
     "metadata": {},
     "output_type": "execute_result"
    }
   ],
   "source": [
    "f.seek(0)"
   ]
  },
  {
   "cell_type": "code",
   "execution_count": 63,
   "id": "c1409c7d",
   "metadata": {},
   "outputs": [
    {
     "data": {
      "text/plain": [
       "'uday kiran rao uday kiran rao uday kiran rao\\nuday kiran rao\\nuday kiran rao\\nuday kiran rao'"
      ]
     },
     "execution_count": 63,
     "metadata": {},
     "output_type": "execute_result"
    }
   ],
   "source": [
    "f.read()"
   ]
  },
  {
   "cell_type": "code",
   "execution_count": 65,
   "id": "a8377812",
   "metadata": {},
   "outputs": [
    {
     "data": {
      "text/plain": [
       "''"
      ]
     },
     "execution_count": 65,
     "metadata": {},
     "output_type": "execute_result"
    }
   ],
   "source": [
    "f.readline()"
   ]
  },
  {
   "cell_type": "code",
   "execution_count": 70,
   "id": "b7f2e1f9",
   "metadata": {},
   "outputs": [
    {
     "data": {
      "text/plain": [
       "0"
      ]
     },
     "execution_count": 70,
     "metadata": {},
     "output_type": "execute_result"
    }
   ],
   "source": [
    "f.seek(0)"
   ]
  },
  {
   "cell_type": "code",
   "execution_count": 67,
   "id": "651cf4bf",
   "metadata": {},
   "outputs": [
    {
     "data": {
      "text/plain": [
       "'uday kiran rao uday kiran rao uday kiran rao\\n'"
      ]
     },
     "execution_count": 67,
     "metadata": {},
     "output_type": "execute_result"
    }
   ],
   "source": [
    "f.readline()"
   ]
  },
  {
   "cell_type": "code",
   "execution_count": 68,
   "id": "7163f9ee",
   "metadata": {},
   "outputs": [
    {
     "data": {
      "text/plain": [
       "'uda'"
      ]
     },
     "execution_count": 68,
     "metadata": {},
     "output_type": "execute_result"
    }
   ],
   "source": [
    "f.readline(3)"
   ]
  },
  {
   "cell_type": "code",
   "execution_count": 71,
   "id": "7c1e87ba",
   "metadata": {},
   "outputs": [
    {
     "data": {
      "text/plain": [
       "['uday kiran rao uday kiran rao uday kiran rao\\n',\n",
       " 'uday kiran rao\\n',\n",
       " 'uday kiran rao\\n',\n",
       " 'uday kiran rao']"
      ]
     },
     "execution_count": 71,
     "metadata": {},
     "output_type": "execute_result"
    }
   ],
   "source": [
    "f.readlines()"
   ]
  },
  {
   "cell_type": "code",
   "execution_count": 75,
   "id": "16f01dfe",
   "metadata": {},
   "outputs": [],
   "source": [
    "f.close()"
   ]
  },
  {
   "cell_type": "code",
   "execution_count": 76,
   "id": "b27f036f",
   "metadata": {},
   "outputs": [],
   "source": [
    "f = open(\"test2.txt\",\"r\")"
   ]
  },
  {
   "cell_type": "code",
   "execution_count": 77,
   "id": "4bdd0165",
   "metadata": {},
   "outputs": [
    {
     "data": {
      "text/plain": [
       "['uday kiran rao uday kiran rao uday kiran rao\\n',\n",
       " 'uday kiran rao\\n',\n",
       " 'uday kiran rao\\n',\n",
       " 'uday kiran rao']"
      ]
     },
     "execution_count": 77,
     "metadata": {},
     "output_type": "execute_result"
    }
   ],
   "source": [
    "list(f)"
   ]
  },
  {
   "cell_type": "code",
   "execution_count": 78,
   "id": "20183d26",
   "metadata": {},
   "outputs": [],
   "source": [
    "f.close()"
   ]
  },
  {
   "cell_type": "code",
   "execution_count": 79,
   "id": "f726fe98",
   "metadata": {},
   "outputs": [],
   "source": [
    "f = open(\"test2.txt\",\"r+\")"
   ]
  },
  {
   "cell_type": "code",
   "execution_count": 80,
   "id": "82bb6678",
   "metadata": {},
   "outputs": [
    {
     "data": {
      "text/plain": [
       "20"
      ]
     },
     "execution_count": 80,
     "metadata": {},
     "output_type": "execute_result"
    }
   ],
   "source": [
    "f.write(\"\\nI can able to write\")"
   ]
  },
  {
   "cell_type": "code",
   "execution_count": 81,
   "id": "7277b557",
   "metadata": {},
   "outputs": [
    {
     "data": {
      "text/plain": [
       "'iran rao uday kiran rao\\nuday kiran rao\\nuday kiran rao\\nuday kiran rao'"
      ]
     },
     "execution_count": 81,
     "metadata": {},
     "output_type": "execute_result"
    }
   ],
   "source": [
    "f.read()"
   ]
  },
  {
   "cell_type": "code",
   "execution_count": 87,
   "id": "58c9e764",
   "metadata": {},
   "outputs": [],
   "source": [
    "f.writelines(\"Following steps are followed to construct a line segment PQ such that the length of PQ is twice that of AB\")"
   ]
  },
  {
   "cell_type": "code",
   "execution_count": 84,
   "id": "47c37f66",
   "metadata": {},
   "outputs": [
    {
     "data": {
      "text/plain": [
       "0"
      ]
     },
     "execution_count": 84,
     "metadata": {},
     "output_type": "execute_result"
    }
   ],
   "source": [
    "f.seek(0)"
   ]
  },
  {
   "cell_type": "code",
   "execution_count": 85,
   "id": "109de0a0",
   "metadata": {},
   "outputs": [
    {
     "data": {
      "text/plain": [
       "'\\nI can able to writeiran rao uday kiran rao\\nuday kiran rao\\nuday kiran rao\\nuday kiran raoFollowing steps are followed to construct a line segment PQ such that the length of PQ is twice that of AB'"
      ]
     },
     "execution_count": 85,
     "metadata": {},
     "output_type": "execute_result"
    }
   ],
   "source": [
    "f.read()"
   ]
  },
  {
   "cell_type": "code",
   "execution_count": 86,
   "id": "c9045637",
   "metadata": {},
   "outputs": [
    {
     "data": {
      "text/plain": [
       "600"
      ]
     },
     "execution_count": 86,
     "metadata": {},
     "output_type": "execute_result"
    }
   ],
   "source": [
    "f.seek(600)"
   ]
  },
  {
   "cell_type": "code",
   "execution_count": 88,
   "id": "f4927e8e",
   "metadata": {},
   "outputs": [
    {
     "data": {
      "text/plain": [
       "''"
      ]
     },
     "execution_count": 88,
     "metadata": {},
     "output_type": "execute_result"
    }
   ],
   "source": [
    "f.read()"
   ]
  },
  {
   "cell_type": "code",
   "execution_count": 89,
   "id": "27842c0f",
   "metadata": {},
   "outputs": [
    {
     "data": {
      "text/plain": [
       "0"
      ]
     },
     "execution_count": 89,
     "metadata": {},
     "output_type": "execute_result"
    }
   ],
   "source": [
    "f.seek(0)"
   ]
  },
  {
   "cell_type": "code",
   "execution_count": 90,
   "id": "baf2dfa7",
   "metadata": {},
   "outputs": [
    {
     "data": {
      "text/plain": [
       "5"
      ]
     },
     "execution_count": 90,
     "metadata": {},
     "output_type": "execute_result"
    }
   ],
   "source": [
    "f.fileno()"
   ]
  },
  {
   "cell_type": "code",
   "execution_count": 92,
   "id": "4f3aa4ec",
   "metadata": {},
   "outputs": [
    {
     "name": "stdout",
     "output_type": "stream",
     "text": [
      "Overwriting test.txt\n"
     ]
    }
   ],
   "source": [
    "%%writefile test.txt\n",
    "My name is Uday"
   ]
  },
  {
   "cell_type": "code",
   "execution_count": 93,
   "id": "6b512149",
   "metadata": {},
   "outputs": [],
   "source": [
    "import os"
   ]
  },
  {
   "cell_type": "code",
   "execution_count": 94,
   "id": "1c99b903",
   "metadata": {},
   "outputs": [
    {
     "data": {
      "text/plain": [
       "\"C:\\\\Users\\\\udayk\\\\Uday's Practice\\\\Sample\""
      ]
     },
     "execution_count": 94,
     "metadata": {},
     "output_type": "execute_result"
    }
   ],
   "source": [
    "pwd"
   ]
  },
  {
   "cell_type": "code",
   "execution_count": 95,
   "id": "7222470f",
   "metadata": {},
   "outputs": [
    {
     "data": {
      "text/plain": [
       "\"C:\\\\Users\\\\udayk\\\\Uday's Practice\\\\Sample\""
      ]
     },
     "execution_count": 95,
     "metadata": {},
     "output_type": "execute_result"
    }
   ],
   "source": [
    "os.getcwd()"
   ]
  },
  {
   "cell_type": "code",
   "execution_count": 96,
   "id": "8f14ff05",
   "metadata": {},
   "outputs": [
    {
     "data": {
      "text/plain": [
       "['.ipynb_checkpoints',\n",
       " 'test.txt',\n",
       " 'test1.txt',\n",
       " 'test2.txt',\n",
       " 'text.txt',\n",
       " 'Untitled.ipynb']"
      ]
     },
     "execution_count": 96,
     "metadata": {},
     "output_type": "execute_result"
    }
   ],
   "source": [
    "os.listdir()"
   ]
  },
  {
   "cell_type": "code",
   "execution_count": 97,
   "id": "90911e2a",
   "metadata": {},
   "outputs": [
    {
     "data": {
      "text/plain": [
       "['.ipynb_checkpoints',\n",
       " 'Day1_Python_datatypes.ipynb',\n",
       " 'Day2_Python_Strings.ipynb',\n",
       " 'Day3_Python_Lists.ipynb',\n",
       " 'Day4_Python_tuple,set,dictionaries.ipynb',\n",
       " 'Day5_Python_Functions.ipynb',\n",
       " 'Sample',\n",
       " 'Untitled Folder',\n",
       " 'Untitled.ipynb']"
      ]
     },
     "execution_count": 97,
     "metadata": {},
     "output_type": "execute_result"
    }
   ],
   "source": [
    "os.listdir(\"C:\\\\Users\\\\udayk\\\\Uday's Practice\\\\\")"
   ]
  },
  {
   "cell_type": "code",
   "execution_count": 98,
   "id": "647037c2",
   "metadata": {},
   "outputs": [
    {
     "data": {
      "text/plain": [
       "\"C:\\\\Users\\\\udayk\\\\Uday's Practice\\\\Sample\""
      ]
     },
     "execution_count": 98,
     "metadata": {},
     "output_type": "execute_result"
    }
   ],
   "source": [
    "pwd()"
   ]
  },
  {
   "cell_type": "code",
   "execution_count": 99,
   "id": "25888461",
   "metadata": {},
   "outputs": [],
   "source": [
    "os.chdir(\"C:\\\\Users\\\\udayk\\\\Uday's Practice\\\\\")"
   ]
  },
  {
   "cell_type": "code",
   "execution_count": 100,
   "id": "ec42b6af",
   "metadata": {},
   "outputs": [
    {
     "data": {
      "text/plain": [
       "\"C:\\\\Users\\\\udayk\\\\Uday's Practice\""
      ]
     },
     "execution_count": 100,
     "metadata": {},
     "output_type": "execute_result"
    }
   ],
   "source": [
    "pwd()"
   ]
  },
  {
   "cell_type": "code",
   "execution_count": 101,
   "id": "fab4bc52",
   "metadata": {},
   "outputs": [
    {
     "data": {
      "text/plain": [
       "['.ipynb_checkpoints',\n",
       " 'Day1_Python_datatypes.ipynb',\n",
       " 'Day2_Python_Strings.ipynb',\n",
       " 'Day3_Python_Lists.ipynb',\n",
       " 'Day4_Python_tuple,set,dictionaries.ipynb',\n",
       " 'Day5_Python_Functions.ipynb',\n",
       " 'Sample',\n",
       " 'Untitled Folder',\n",
       " 'Untitled.ipynb']"
      ]
     },
     "execution_count": 101,
     "metadata": {},
     "output_type": "execute_result"
    }
   ],
   "source": [
    "os.listdir()"
   ]
  },
  {
   "cell_type": "code",
   "execution_count": 102,
   "id": "10352d61",
   "metadata": {},
   "outputs": [],
   "source": [
    "os.chdir(\"C:\\\\Users\\\\udayk\\\\Uday's Practice\\\\Sample\")"
   ]
  },
  {
   "cell_type": "code",
   "execution_count": 103,
   "id": "a791bc94",
   "metadata": {},
   "outputs": [
    {
     "data": {
      "text/plain": [
       "\"C:\\\\Users\\\\udayk\\\\Uday's Practice\\\\Sample\""
      ]
     },
     "execution_count": 103,
     "metadata": {},
     "output_type": "execute_result"
    }
   ],
   "source": [
    "pwd"
   ]
  },
  {
   "cell_type": "code",
   "execution_count": 104,
   "id": "9596c07b",
   "metadata": {},
   "outputs": [],
   "source": [
    "os.mkdir(\"uk\")"
   ]
  },
  {
   "cell_type": "code",
   "execution_count": 105,
   "id": "20af23b1",
   "metadata": {},
   "outputs": [
    {
     "data": {
      "text/plain": [
       "['.ipynb_checkpoints',\n",
       " 'test.txt',\n",
       " 'test1.txt',\n",
       " 'test2.txt',\n",
       " 'text.txt',\n",
       " 'uk',\n",
       " 'Untitled.ipynb']"
      ]
     },
     "execution_count": 105,
     "metadata": {},
     "output_type": "execute_result"
    }
   ],
   "source": [
    "os.listdir()"
   ]
  },
  {
   "cell_type": "code",
   "execution_count": 111,
   "id": "fb7da0b1",
   "metadata": {},
   "outputs": [
    {
     "name": "stdout",
     "output_type": "stream",
     "text": [
      "the file is present\n",
      "My name is Uday\n",
      "\n",
      " I have written\n",
      " I have written\n",
      " I have written\n",
      "My name is Uday\n",
      "\n",
      " I have written\n",
      " I have written\n",
      " I have written\n",
      " I have written\n"
     ]
    }
   ],
   "source": [
    "if \"test.txt\" in os.listdir():\n",
    "    print(\"the file is present\")\n",
    "    f = open(\"test.txt\",\"r+\")\n",
    "    print(f.read())\n",
    "    f.write(\"\\n I have written\")\n",
    "    f.close()\n",
    "    f = open(\"test.txt\",\"r+\")\n",
    "    print(f.read())\n",
    "else:\n",
    "    print(\"the file is not present\")"
   ]
  },
  {
   "cell_type": "code",
   "execution_count": 112,
   "id": "d3ec9383",
   "metadata": {},
   "outputs": [
    {
     "data": {
      "text/plain": [
       "\"C:\\\\Users\\\\udayk\\\\Uday's Practice\\\\Sample\""
      ]
     },
     "execution_count": 112,
     "metadata": {},
     "output_type": "execute_result"
    }
   ],
   "source": [
    "os.getcwd()"
   ]
  },
  {
   "cell_type": "code",
   "execution_count": 113,
   "id": "2e805e2e",
   "metadata": {},
   "outputs": [
    {
     "ename": "FileExistsError",
     "evalue": "[WinError 183] Cannot create a file when that file already exists: 'uk'",
     "output_type": "error",
     "traceback": [
      "\u001b[1;31m---------------------------------------------------------------------------\u001b[0m",
      "\u001b[1;31mFileExistsError\u001b[0m                           Traceback (most recent call last)",
      "\u001b[1;32m~\\AppData\\Local\\Temp/ipykernel_14028/1201732488.py\u001b[0m in \u001b[0;36m<module>\u001b[1;34m\u001b[0m\n\u001b[1;32m----> 1\u001b[1;33m \u001b[0mos\u001b[0m\u001b[1;33m.\u001b[0m\u001b[0mmkdir\u001b[0m\u001b[1;33m(\u001b[0m\u001b[1;34m\"uk\"\u001b[0m\u001b[1;33m)\u001b[0m\u001b[1;33m\u001b[0m\u001b[1;33m\u001b[0m\u001b[0m\n\u001b[0m",
      "\u001b[1;31mFileExistsError\u001b[0m: [WinError 183] Cannot create a file when that file already exists: 'uk'"
     ]
    }
   ],
   "source": [
    "os.mkdir(\"uk\")"
   ]
  },
  {
   "cell_type": "code",
   "execution_count": 115,
   "id": "7243e0b4",
   "metadata": {},
   "outputs": [
    {
     "name": "stdout",
     "output_type": "stream",
     "text": [
      "Created Suceessfully\n"
     ]
    }
   ],
   "source": [
    "if not os.path.isdir(\"uk1\"):\n",
    "    os.mkdir(\"uk1\")\n",
    "    print(\"Created Suceessfully\")\n",
    "else:\n",
    "    print(\"folder is already present\")"
   ]
  },
  {
   "cell_type": "code",
   "execution_count": 116,
   "id": "532894e0",
   "metadata": {},
   "outputs": [
    {
     "data": {
      "text/plain": [
       "['.ipynb_checkpoints',\n",
       " 'test.txt',\n",
       " 'test1.txt',\n",
       " 'test2.txt',\n",
       " 'text.txt',\n",
       " 'uk',\n",
       " 'uk1',\n",
       " 'Untitled.ipynb']"
      ]
     },
     "execution_count": 116,
     "metadata": {},
     "output_type": "execute_result"
    }
   ],
   "source": [
    "os.listdir()"
   ]
  },
  {
   "cell_type": "code",
   "execution_count": 118,
   "id": "34225913",
   "metadata": {},
   "outputs": [],
   "source": [
    "f = open(\"test.txt\",\"r\")"
   ]
  },
  {
   "cell_type": "code",
   "execution_count": 119,
   "id": "ac74f222",
   "metadata": {},
   "outputs": [],
   "source": [
    "f.close()"
   ]
  },
  {
   "cell_type": "code",
   "execution_count": 120,
   "id": "bba377d4",
   "metadata": {},
   "outputs": [
    {
     "ename": "PermissionError",
     "evalue": "[WinError 32] The process cannot access the file because it is being used by another process: 'test.txt' -> 'xyz.txt'",
     "output_type": "error",
     "traceback": [
      "\u001b[1;31m---------------------------------------------------------------------------\u001b[0m",
      "\u001b[1;31mPermissionError\u001b[0m                           Traceback (most recent call last)",
      "\u001b[1;32m~\\AppData\\Local\\Temp/ipykernel_14028/3584645743.py\u001b[0m in \u001b[0;36m<module>\u001b[1;34m\u001b[0m\n\u001b[1;32m----> 1\u001b[1;33m \u001b[0mos\u001b[0m\u001b[1;33m.\u001b[0m\u001b[0mrename\u001b[0m\u001b[1;33m(\u001b[0m\u001b[1;34m\"test.txt\"\u001b[0m\u001b[1;33m,\u001b[0m\u001b[1;34m\"xyz.txt\"\u001b[0m\u001b[1;33m)\u001b[0m\u001b[1;33m\u001b[0m\u001b[1;33m\u001b[0m\u001b[0m\n\u001b[0m",
      "\u001b[1;31mPermissionError\u001b[0m: [WinError 32] The process cannot access the file because it is being used by another process: 'test.txt' -> 'xyz.txt'"
     ]
    }
   ],
   "source": [
    "os.rename(\"test.txt\",\"xyz.txt\")"
   ]
  },
  {
   "cell_type": "code",
   "execution_count": 121,
   "id": "e6ffdf13",
   "metadata": {},
   "outputs": [],
   "source": [
    "os.rmdir(\"uk1\")"
   ]
  },
  {
   "cell_type": "code",
   "execution_count": 124,
   "id": "d8885101",
   "metadata": {},
   "outputs": [],
   "source": [
    "os.chdir(\"C:\\\\Users\\\\udayk\\\\Uday's Practice\\\\Sample\\\\uk\")"
   ]
  },
  {
   "cell_type": "code",
   "execution_count": 123,
   "id": "3cf6f015",
   "metadata": {},
   "outputs": [
    {
     "ename": "Error",
     "evalue": "Cannot move a directory 'C:\\Users\\udayk\\Uday's Practice' into itself 'C:\\Users\\udayk\\Uday's Practice\\Sample'.",
     "output_type": "error",
     "traceback": [
      "\u001b[1;31m---------------------------------------------------------------------------\u001b[0m",
      "\u001b[1;31mPermissionError\u001b[0m                           Traceback (most recent call last)",
      "\u001b[1;32m~\\anaconda3\\lib\\shutil.py\u001b[0m in \u001b[0;36mmove\u001b[1;34m(src, dst, copy_function)\u001b[0m\n\u001b[0;32m    813\u001b[0m     \u001b[1;32mtry\u001b[0m\u001b[1;33m:\u001b[0m\u001b[1;33m\u001b[0m\u001b[1;33m\u001b[0m\u001b[0m\n\u001b[1;32m--> 814\u001b[1;33m         \u001b[0mos\u001b[0m\u001b[1;33m.\u001b[0m\u001b[0mrename\u001b[0m\u001b[1;33m(\u001b[0m\u001b[0msrc\u001b[0m\u001b[1;33m,\u001b[0m \u001b[0mreal_dst\u001b[0m\u001b[1;33m)\u001b[0m\u001b[1;33m\u001b[0m\u001b[1;33m\u001b[0m\u001b[0m\n\u001b[0m\u001b[0;32m    815\u001b[0m     \u001b[1;32mexcept\u001b[0m \u001b[0mOSError\u001b[0m\u001b[1;33m:\u001b[0m\u001b[1;33m\u001b[0m\u001b[1;33m\u001b[0m\u001b[0m\n",
      "\u001b[1;31mPermissionError\u001b[0m: [WinError 32] The process cannot access the file because it is being used by another process: \"C:\\\\Users\\\\udayk\\\\Uday's Practice\" -> \"C:\\\\Users\\\\udayk\\\\Uday's Practice\\\\Sample\\\\Uday's Practice\"",
      "\nDuring handling of the above exception, another exception occurred:\n",
      "\u001b[1;31mError\u001b[0m                                     Traceback (most recent call last)",
      "\u001b[1;32m~\\AppData\\Local\\Temp/ipykernel_14028/1722182794.py\u001b[0m in \u001b[0;36m<module>\u001b[1;34m\u001b[0m\n\u001b[0;32m      1\u001b[0m \u001b[1;32mimport\u001b[0m \u001b[0mshutil\u001b[0m\u001b[1;33m\u001b[0m\u001b[1;33m\u001b[0m\u001b[0m\n\u001b[0;32m      2\u001b[0m \u001b[1;33m\u001b[0m\u001b[0m\n\u001b[1;32m----> 3\u001b[1;33m \u001b[0mshutil\u001b[0m\u001b[1;33m.\u001b[0m\u001b[0mmove\u001b[0m\u001b[1;33m(\u001b[0m\u001b[1;34m\"C:\\\\Users\\\\udayk\\\\Uday's Practice\"\u001b[0m\u001b[1;33m,\u001b[0m\u001b[1;34m\"C:\\\\Users\\\\udayk\\\\Uday's Practice\\\\Sample\"\u001b[0m\u001b[1;33m)\u001b[0m\u001b[1;33m\u001b[0m\u001b[1;33m\u001b[0m\u001b[0m\n\u001b[0m",
      "\u001b[1;32m~\\anaconda3\\lib\\shutil.py\u001b[0m in \u001b[0;36mmove\u001b[1;34m(src, dst, copy_function)\u001b[0m\n\u001b[0;32m    820\u001b[0m         \u001b[1;32melif\u001b[0m \u001b[0mos\u001b[0m\u001b[1;33m.\u001b[0m\u001b[0mpath\u001b[0m\u001b[1;33m.\u001b[0m\u001b[0misdir\u001b[0m\u001b[1;33m(\u001b[0m\u001b[0msrc\u001b[0m\u001b[1;33m)\u001b[0m\u001b[1;33m:\u001b[0m\u001b[1;33m\u001b[0m\u001b[1;33m\u001b[0m\u001b[0m\n\u001b[0;32m    821\u001b[0m             \u001b[1;32mif\u001b[0m \u001b[0m_destinsrc\u001b[0m\u001b[1;33m(\u001b[0m\u001b[0msrc\u001b[0m\u001b[1;33m,\u001b[0m \u001b[0mdst\u001b[0m\u001b[1;33m)\u001b[0m\u001b[1;33m:\u001b[0m\u001b[1;33m\u001b[0m\u001b[1;33m\u001b[0m\u001b[0m\n\u001b[1;32m--> 822\u001b[1;33m                 raise Error(\"Cannot move a directory '%s' into itself\"\n\u001b[0m\u001b[0;32m    823\u001b[0m                             \" '%s'.\" % (src, dst))\n\u001b[0;32m    824\u001b[0m             if (_is_immutable(src)\n",
      "\u001b[1;31mError\u001b[0m: Cannot move a directory 'C:\\Users\\udayk\\Uday's Practice' into itself 'C:\\Users\\udayk\\Uday's Practice\\Sample'."
     ]
    }
   ],
   "source": [
    "import shutil\n",
    "\n",
    "shutil.move(\"C:\\\\Users\\\\udayk\\\\Uday's Practice\",\"C:\\\\Users\\\\udayk\\\\Uday's Practice\\\\Sample\")\n"
   ]
  },
  {
   "cell_type": "code",
   "execution_count": 125,
   "id": "7398fd10",
   "metadata": {},
   "outputs": [
    {
     "data": {
      "text/plain": [
       "\"C:\\\\Users\\\\udayk\\\\Uday's Practice\\\\Sample\\\\uk\""
      ]
     },
     "execution_count": 125,
     "metadata": {},
     "output_type": "execute_result"
    }
   ],
   "source": [
    "pwd"
   ]
  },
  {
   "cell_type": "code",
   "execution_count": 133,
   "id": "5de23888",
   "metadata": {},
   "outputs": [
    {
     "ename": "TypeError",
     "evalue": "can only concatenate str (not \"int\") to str",
     "output_type": "error",
     "traceback": [
      "\u001b[1;31m---------------------------------------------------------------------------\u001b[0m",
      "\u001b[1;31mTypeError\u001b[0m                                 Traceback (most recent call last)",
      "\u001b[1;32m~\\AppData\\Local\\Temp/ipykernel_14028/539444331.py\u001b[0m in \u001b[0;36m<module>\u001b[1;34m\u001b[0m\n\u001b[0;32m      1\u001b[0m \u001b[1;32mfor\u001b[0m \u001b[0mi\u001b[0m \u001b[1;32min\u001b[0m \u001b[0mrange\u001b[0m\u001b[1;33m(\u001b[0m\u001b[1;36m1\u001b[0m\u001b[1;33m,\u001b[0m\u001b[1;36m11\u001b[0m\u001b[1;33m)\u001b[0m\u001b[1;33m:\u001b[0m\u001b[1;33m\u001b[0m\u001b[1;33m\u001b[0m\u001b[0m\n\u001b[1;32m----> 2\u001b[1;33m     \u001b[0mf\u001b[0m\u001b[1;33m=\u001b[0m \u001b[0mopen\u001b[0m\u001b[1;33m(\u001b[0m\u001b[1;34m\"test\"\u001b[0m\u001b[1;33m+\u001b[0m\u001b[0mi\u001b[0m\u001b[1;33m,\u001b[0m\u001b[1;34m\"w+\"\u001b[0m\u001b[1;33m)\u001b[0m\u001b[1;33m\u001b[0m\u001b[1;33m\u001b[0m\u001b[0m\n\u001b[0m\u001b[0;32m      3\u001b[0m     \u001b[0mf\u001b[0m\u001b[1;33m.\u001b[0m\u001b[0mwrite\u001b[0m\u001b[1;33m(\u001b[0m\u001b[1;34m\"abcdefgh\"\u001b[0m\u001b[1;33m)\u001b[0m\u001b[1;33m\u001b[0m\u001b[1;33m\u001b[0m\u001b[0m\n\u001b[0;32m      4\u001b[0m     \u001b[0mf\u001b[0m\u001b[1;33m.\u001b[0m\u001b[0mclose\u001b[0m\u001b[1;33m(\u001b[0m\u001b[1;33m)\u001b[0m\u001b[1;33m\u001b[0m\u001b[1;33m\u001b[0m\u001b[0m\n\u001b[0;32m      5\u001b[0m \u001b[0ml\u001b[0m\u001b[1;33m=\u001b[0m\u001b[1;33m[\u001b[0m\u001b[1;33m]\u001b[0m\u001b[1;33m\u001b[0m\u001b[1;33m\u001b[0m\u001b[0m\n",
      "\u001b[1;31mTypeError\u001b[0m: can only concatenate str (not \"int\") to str"
     ]
    }
   ],
   "source": [
    "for i in range(1,11):\n",
    "    f= open(\"test\"+i,\"w+\")\n",
    "    f.write(\"abcdefgh\")\n",
    "    f.close()\n",
    "l=[]\n",
    "for i in os.listdir():\n",
    "    a= open(i,\"r\")\n",
    "    b=f.read()\n",
    "    l.append(b)\n",
    "    f.close()\n",
    "print(l)"
   ]
  },
  {
   "cell_type": "code",
   "execution_count": 127,
   "id": "48e39de9",
   "metadata": {},
   "outputs": [
    {
     "data": {
      "text/plain": [
       "[]"
      ]
     },
     "execution_count": 127,
     "metadata": {},
     "output_type": "execute_result"
    }
   ],
   "source": [
    "os.listdir()"
   ]
  },
  {
   "cell_type": "code",
   "execution_count": 141,
   "id": "e19330e0",
   "metadata": {},
   "outputs": [],
   "source": [
    "for i in range(1,11):\n",
    "    f= open(\"test\"+str(i)+\".txt\",\"w+\")\n",
    "    f.write(\"abcdefgh\")\n",
    "    f.close()"
   ]
  },
  {
   "cell_type": "code",
   "execution_count": 142,
   "id": "3a4605a2",
   "metadata": {},
   "outputs": [
    {
     "data": {
      "text/plain": [
       "['combo.txt',\n",
       " 'test1',\n",
       " 'test1.txt',\n",
       " 'test10',\n",
       " 'test10.txt',\n",
       " 'test2',\n",
       " 'test2.txt',\n",
       " 'test3',\n",
       " 'test3.txt',\n",
       " 'test4',\n",
       " 'test4.txt',\n",
       " 'test5',\n",
       " 'test5.txt',\n",
       " 'test6',\n",
       " 'test6.txt',\n",
       " 'test7',\n",
       " 'test7.txt',\n",
       " 'test8',\n",
       " 'test8.txt',\n",
       " 'test9',\n",
       " 'test9.txt']"
      ]
     },
     "execution_count": 142,
     "metadata": {},
     "output_type": "execute_result"
    }
   ],
   "source": [
    "os.listdir()"
   ]
  },
  {
   "cell_type": "code",
   "execution_count": 131,
   "id": "3d959c01",
   "metadata": {},
   "outputs": [],
   "source": [
    "f= open(\"test1\",\"r\")"
   ]
  },
  {
   "cell_type": "code",
   "execution_count": 132,
   "id": "e557a54b",
   "metadata": {},
   "outputs": [
    {
     "data": {
      "text/plain": [
       "'abcdefgh'"
      ]
     },
     "execution_count": 132,
     "metadata": {},
     "output_type": "execute_result"
    }
   ],
   "source": [
    "f.read()"
   ]
  },
  {
   "cell_type": "code",
   "execution_count": 138,
   "id": "20d5134a",
   "metadata": {},
   "outputs": [
    {
     "name": "stdout",
     "output_type": "stream",
     "text": [
      "['', 'abcdefgh', 'abcdefgh', 'abcdefgh', 'abcdefgh', 'abcdefgh', 'abcdefgh', 'abcdefgh', 'abcdefgh', 'abcdefgh', 'abcdefgh']\n"
     ]
    }
   ],
   "source": [
    "l=[]\n",
    "for i in os.listdir():\n",
    "    a= open(i,\"r\")\n",
    "    b=a.read()\n",
    "    l.append(b)\n",
    "    a.close()\n",
    "print(l)\n",
    "\n",
    "f = open(\"combo.txt\",\"r+\")\n",
    "for i in l:\n",
    "    f.write(i)\n",
    "f.read()\n",
    "f.close()\n",
    "\n"
   ]
  },
  {
   "cell_type": "code",
   "execution_count": 139,
   "id": "df70e564",
   "metadata": {},
   "outputs": [],
   "source": [
    "f = open(\"combo.txt\",\"r+\")\n",
    "\n"
   ]
  },
  {
   "cell_type": "code",
   "execution_count": 140,
   "id": "2d728520",
   "metadata": {},
   "outputs": [
    {
     "data": {
      "text/plain": [
       "'abcdefghabcdefghabcdefghabcdefghabcdefghabcdefghabcdefghabcdefghabcdefghabcdefgh'"
      ]
     },
     "execution_count": 140,
     "metadata": {},
     "output_type": "execute_result"
    }
   ],
   "source": [
    "f.read()"
   ]
  },
  {
   "cell_type": "code",
   "execution_count": 143,
   "id": "9e2892a8",
   "metadata": {},
   "outputs": [
    {
     "data": {
      "text/plain": [
       "\"C:\\\\Users\\\\udayk\\\\Uday's Practice\\\\Sample\\\\uk\""
      ]
     },
     "execution_count": 143,
     "metadata": {},
     "output_type": "execute_result"
    }
   ],
   "source": [
    "pwd()"
   ]
  },
  {
   "cell_type": "code",
   "execution_count": 144,
   "id": "c4353e0a",
   "metadata": {},
   "outputs": [
    {
     "data": {
      "text/plain": [
       "\"C:\\\\Users\\\\udayk\\\\Uday's Practice\\\\Sample\\\\uk\""
      ]
     },
     "execution_count": 144,
     "metadata": {},
     "output_type": "execute_result"
    }
   ],
   "source": [
    "pwd()"
   ]
  },
  {
   "cell_type": "code",
   "execution_count": null,
   "id": "ae6e78ec",
   "metadata": {},
   "outputs": [],
   "source": []
  }
 ],
 "metadata": {
  "kernelspec": {
   "display_name": "Python 3 (ipykernel)",
   "language": "python",
   "name": "python3"
  },
  "language_info": {
   "codemirror_mode": {
    "name": "ipython",
    "version": 3
   },
   "file_extension": ".py",
   "mimetype": "text/x-python",
   "name": "python",
   "nbconvert_exporter": "python",
   "pygments_lexer": "ipython3",
   "version": "3.9.7"
  }
 },
 "nbformat": 4,
 "nbformat_minor": 5
}
