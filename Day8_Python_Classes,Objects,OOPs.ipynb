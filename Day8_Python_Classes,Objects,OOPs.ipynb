{
 "cells": [
  {
   "cell_type": "markdown",
   "id": "f10b4866",
   "metadata": {},
   "source": [
    "# Day8_Python_Class,Object,OOPS"
   ]
  },
  {
   "cell_type": "code",
   "execution_count": 3,
   "id": "63b473cc",
   "metadata": {},
   "outputs": [],
   "source": [
    "class car:\n",
    "   pass "
   ]
  },
  {
   "cell_type": "code",
   "execution_count": 4,
   "id": "8216b689",
   "metadata": {},
   "outputs": [],
   "source": [
    "audiq7 = car()"
   ]
  },
  {
   "cell_type": "code",
   "execution_count": 5,
   "id": "c91d9c62",
   "metadata": {},
   "outputs": [
    {
     "data": {
      "text/plain": [
       "<__main__.car at 0x24d27bb5d90>"
      ]
     },
     "execution_count": 5,
     "metadata": {},
     "output_type": "execute_result"
    }
   ],
   "source": [
    "audiq7"
   ]
  },
  {
   "cell_type": "code",
   "execution_count": 6,
   "id": "16f2fb84",
   "metadata": {},
   "outputs": [],
   "source": [
    "audiq7.mileage=10\n",
    "audiq7.year=2020\n",
    "audiq7.make=345\n",
    "audiq7.model=\"Q7\""
   ]
  },
  {
   "cell_type": "code",
   "execution_count": 7,
   "id": "07b4e711",
   "metadata": {},
   "outputs": [
    {
     "data": {
      "text/plain": [
       "10"
      ]
     },
     "execution_count": 7,
     "metadata": {},
     "output_type": "execute_result"
    }
   ],
   "source": [
    "audiq7.mileage"
   ]
  },
  {
   "cell_type": "code",
   "execution_count": 8,
   "id": "0e0f2109",
   "metadata": {},
   "outputs": [
    {
     "ename": "NameError",
     "evalue": "name 'nano' is not defined",
     "output_type": "error",
     "traceback": [
      "\u001b[1;31m---------------------------------------------------------------------------\u001b[0m",
      "\u001b[1;31mNameError\u001b[0m                                 Traceback (most recent call last)",
      "\u001b[1;32m~\\AppData\\Local\\Temp/ipykernel_6592/2841612790.py\u001b[0m in \u001b[0;36m<module>\u001b[1;34m\u001b[0m\n\u001b[1;32m----> 1\u001b[1;33m \u001b[0mnano\u001b[0m\u001b[1;33m.\u001b[0m\u001b[0mmileage\u001b[0m\u001b[1;33m=\u001b[0m\u001b[1;36m20\u001b[0m\u001b[1;33m\u001b[0m\u001b[1;33m\u001b[0m\u001b[0m\n\u001b[0m",
      "\u001b[1;31mNameError\u001b[0m: name 'nano' is not defined"
     ]
    }
   ],
   "source": [
    "nano.mileage=20"
   ]
  },
  {
   "cell_type": "code",
   "execution_count": 9,
   "id": "4fd9dcfd",
   "metadata": {},
   "outputs": [],
   "source": [
    "nano = car()"
   ]
  },
  {
   "cell_type": "code",
   "execution_count": 10,
   "id": "db9c0072",
   "metadata": {},
   "outputs": [],
   "source": [
    "nano.mileage=20"
   ]
  },
  {
   "cell_type": "code",
   "execution_count": 11,
   "id": "b05efff6",
   "metadata": {},
   "outputs": [
    {
     "data": {
      "text/plain": [
       "20"
      ]
     },
     "execution_count": 11,
     "metadata": {},
     "output_type": "execute_result"
    }
   ],
   "source": [
    "nano.mileage"
   ]
  },
  {
   "cell_type": "code",
   "execution_count": 12,
   "id": "0496be43",
   "metadata": {},
   "outputs": [],
   "source": [
    "nano.engineno=345478645678"
   ]
  },
  {
   "cell_type": "code",
   "execution_count": 15,
   "id": "838172ee",
   "metadata": {},
   "outputs": [
    {
     "ename": "AttributeError",
     "evalue": "'car' object has no attribute 'engineno'",
     "output_type": "error",
     "traceback": [
      "\u001b[1;31m---------------------------------------------------------------------------\u001b[0m",
      "\u001b[1;31mAttributeError\u001b[0m                            Traceback (most recent call last)",
      "\u001b[1;32m~\\AppData\\Local\\Temp/ipykernel_6592/1036327699.py\u001b[0m in \u001b[0;36m<module>\u001b[1;34m\u001b[0m\n\u001b[1;32m----> 1\u001b[1;33m \u001b[0maudiq7\u001b[0m\u001b[1;33m.\u001b[0m\u001b[0mengineno\u001b[0m\u001b[1;33m\u001b[0m\u001b[1;33m\u001b[0m\u001b[0m\n\u001b[0m",
      "\u001b[1;31mAttributeError\u001b[0m: 'car' object has no attribute 'engineno'"
     ]
    }
   ],
   "source": [
    "audiq7.engineno"
   ]
  },
  {
   "cell_type": "code",
   "execution_count": 16,
   "id": "60396d89",
   "metadata": {},
   "outputs": [
    {
     "data": {
      "text/plain": [
       "345478645678"
      ]
     },
     "execution_count": 16,
     "metadata": {},
     "output_type": "execute_result"
    }
   ],
   "source": [
    "nano.engineno"
   ]
  },
  {
   "cell_type": "code",
   "execution_count": 32,
   "id": "167df675",
   "metadata": {},
   "outputs": [],
   "source": [
    "class car:\n",
    "    def __init__(self,mileage,year,make,model):\n",
    "        self.mileage=mileage\n",
    "        self.year=year\n",
    "        self.make=make\n",
    "        self.model=model\n",
    "    def age(self,current_year):\n",
    "        return current_year-self.year\n",
    "    def mileage1(self):\n",
    "        print(\"this is mileage of the car : \",self.mileage)"
   ]
  },
  {
   "cell_type": "code",
   "execution_count": 18,
   "id": "1934b430",
   "metadata": {},
   "outputs": [
    {
     "ename": "TypeError",
     "evalue": "__init__() missing 4 required positional arguments: 'mileage', 'year', 'make', and 'model'",
     "output_type": "error",
     "traceback": [
      "\u001b[1;31m---------------------------------------------------------------------------\u001b[0m",
      "\u001b[1;31mTypeError\u001b[0m                                 Traceback (most recent call last)",
      "\u001b[1;32m~\\AppData\\Local\\Temp/ipykernel_6592/120009907.py\u001b[0m in \u001b[0;36m<module>\u001b[1;34m\u001b[0m\n\u001b[1;32m----> 1\u001b[1;33m \u001b[0mnano1\u001b[0m\u001b[1;33m=\u001b[0m\u001b[0mcar\u001b[0m\u001b[1;33m(\u001b[0m\u001b[1;33m)\u001b[0m\u001b[1;33m\u001b[0m\u001b[1;33m\u001b[0m\u001b[0m\n\u001b[0m",
      "\u001b[1;31mTypeError\u001b[0m: __init__() missing 4 required positional arguments: 'mileage', 'year', 'make', and 'model'"
     ]
    }
   ],
   "source": [
    "nano1=car()"
   ]
  },
  {
   "cell_type": "code",
   "execution_count": 27,
   "id": "0233afab",
   "metadata": {},
   "outputs": [],
   "source": [
    "nano1=car(20,2020,353546543,\"hsghjdgfajh\")"
   ]
  },
  {
   "cell_type": "code",
   "execution_count": 20,
   "id": "e31a0727",
   "metadata": {},
   "outputs": [],
   "source": [
    "audiq7=car(10,2021,9876543,\"zxcvbnm\")"
   ]
  },
  {
   "cell_type": "code",
   "execution_count": 25,
   "id": "b7f0b1cd",
   "metadata": {},
   "outputs": [
    {
     "data": {
      "text/plain": [
       "'zxcvbnm'"
      ]
     },
     "execution_count": 25,
     "metadata": {},
     "output_type": "execute_result"
    }
   ],
   "source": [
    "audiq7.make\n",
    "audiq7.model"
   ]
  },
  {
   "cell_type": "code",
   "execution_count": 28,
   "id": "178f7ad2",
   "metadata": {},
   "outputs": [
    {
     "data": {
      "text/plain": [
       "<bound method car.age of <__main__.car object at 0x0000024D29932C70>>"
      ]
     },
     "execution_count": 28,
     "metadata": {},
     "output_type": "execute_result"
    }
   ],
   "source": [
    "nano1.age"
   ]
  },
  {
   "cell_type": "code",
   "execution_count": 29,
   "id": "997d5ca2",
   "metadata": {},
   "outputs": [
    {
     "data": {
      "text/plain": [
       "2"
      ]
     },
     "execution_count": 29,
     "metadata": {},
     "output_type": "execute_result"
    }
   ],
   "source": [
    "nano1.age(2022)"
   ]
  },
  {
   "cell_type": "code",
   "execution_count": 33,
   "id": "f64e9432",
   "metadata": {},
   "outputs": [
    {
     "ename": "AttributeError",
     "evalue": "'car' object has no attribute 'mileage1'",
     "output_type": "error",
     "traceback": [
      "\u001b[1;31m---------------------------------------------------------------------------\u001b[0m",
      "\u001b[1;31mAttributeError\u001b[0m                            Traceback (most recent call last)",
      "\u001b[1;32m~\\AppData\\Local\\Temp/ipykernel_6592/1539446334.py\u001b[0m in \u001b[0;36m<module>\u001b[1;34m\u001b[0m\n\u001b[1;32m----> 1\u001b[1;33m \u001b[0mnano1\u001b[0m\u001b[1;33m.\u001b[0m\u001b[0mmileage1\u001b[0m\u001b[1;33m(\u001b[0m\u001b[1;33m)\u001b[0m\u001b[1;33m\u001b[0m\u001b[1;33m\u001b[0m\u001b[0m\n\u001b[0m",
      "\u001b[1;31mAttributeError\u001b[0m: 'car' object has no attribute 'mileage1'"
     ]
    }
   ],
   "source": [
    "nano1.mileage1()"
   ]
  },
  {
   "cell_type": "code",
   "execution_count": 38,
   "id": "4e193498",
   "metadata": {},
   "outputs": [],
   "source": [
    "class car:\n",
    "    def __init__(self,mileage,year,make,model):\n",
    "        self.mileage=mileage\n",
    "        self.year=year\n",
    "        self.make=make\n",
    "        self.model=model\n",
    "    def age(self,current_year):\n",
    "        return current_year-self.year\n",
    "    def getmileage(self):\n",
    "        print(\"this is mileage of the car : \",self.mileage)\n",
    "    def __str__(c):\n",
    "        return \"This is my Car Class\""
   ]
  },
  {
   "cell_type": "code",
   "execution_count": 39,
   "id": "611663c6",
   "metadata": {},
   "outputs": [],
   "source": [
    "audiq7=car(10,2021,9876543,\"zxcvbnm\")"
   ]
  },
  {
   "cell_type": "code",
   "execution_count": 36,
   "id": "c01eaf4f",
   "metadata": {},
   "outputs": [
    {
     "name": "stdout",
     "output_type": "stream",
     "text": [
      "this is mileage of the car :  10\n"
     ]
    }
   ],
   "source": [
    "audiq7.getmileage()"
   ]
  },
  {
   "cell_type": "code",
   "execution_count": 37,
   "id": "85710e7f",
   "metadata": {},
   "outputs": [
    {
     "data": {
      "text/plain": [
       "<__main__.car at 0x24d28d5a370>"
      ]
     },
     "execution_count": 37,
     "metadata": {},
     "output_type": "execute_result"
    }
   ],
   "source": [
    "audiq7"
   ]
  },
  {
   "cell_type": "code",
   "execution_count": 40,
   "id": "9ae7ae82",
   "metadata": {},
   "outputs": [
    {
     "data": {
      "text/plain": [
       "<__main__.car at 0x24d28e9e8e0>"
      ]
     },
     "execution_count": 40,
     "metadata": {},
     "output_type": "execute_result"
    }
   ],
   "source": [
    "audiq7"
   ]
  },
  {
   "cell_type": "code",
   "execution_count": 41,
   "id": "283340ab",
   "metadata": {},
   "outputs": [
    {
     "name": "stdout",
     "output_type": "stream",
     "text": [
      "This is my Car Class\n"
     ]
    }
   ],
   "source": [
    "print(audiq7)"
   ]
  },
  {
   "cell_type": "code",
   "execution_count": 42,
   "id": "1a65d587",
   "metadata": {},
   "outputs": [
    {
     "data": {
      "text/plain": [
       "'This is my Car Class'"
      ]
     },
     "execution_count": 42,
     "metadata": {},
     "output_type": "execute_result"
    }
   ],
   "source": [
    "audiq7.__str__()"
   ]
  },
  {
   "cell_type": "code",
   "execution_count": 65,
   "id": "3969430a",
   "metadata": {},
   "outputs": [],
   "source": [
    "class student:\n",
    "    def __init__(self,name,rollno,joining_date,current_topic):\n",
    "        self.name=name\n",
    "        self.rollno=rollno\n",
    "        self.joining_date=joining_date\n",
    "        self.current_topic=current_topic\n",
    "    def crt_topic(self):\n",
    "        print(\"Current topic discussed in my class is \",self.current_topic)\n",
    "    def duration(self,current_date):\n",
    "        print(\"Duration : \",current_date-self.joining_date)\n",
    "    def getrollno(self):\n",
    "        try:\n",
    "            if type(self.rollno) == str:\n",
    "                print(\"Do nothing\")\n",
    "                #throw\n",
    "            else:\n",
    "                return self.rollno\n",
    "        except Exception as e:\n",
    "            print(\"this is my error msg\",e)\n",
    "    def name_Parsing(self):\n",
    "        if type(self.name) == list:\n",
    "            for i in self.name:\n",
    "                print(\"name of the student is \",i)\n",
    "        else:\n",
    "            print(\"provided name is not in the form of list\")\n",
    "        \n",
    "    def __str__(c):\n",
    "        return \"This is my student class\""
   ]
  },
  {
   "cell_type": "code",
   "execution_count": 55,
   "id": "ce46165e",
   "metadata": {},
   "outputs": [],
   "source": [
    "uday =student(\"Uday\",1234,2020,\"OOPs\")"
   ]
  },
  {
   "cell_type": "code",
   "execution_count": 45,
   "id": "c8483cf7",
   "metadata": {},
   "outputs": [
    {
     "name": "stdout",
     "output_type": "stream",
     "text": [
      "Current topic discussed in my class is  OOPs\n"
     ]
    }
   ],
   "source": [
    "uday.crt_topic()"
   ]
  },
  {
   "cell_type": "code",
   "execution_count": 50,
   "id": "8de9efb8",
   "metadata": {},
   "outputs": [
    {
     "name": "stdout",
     "output_type": "stream",
     "text": [
      "Duration :  2\n"
     ]
    }
   ],
   "source": [
    "uday.duration(2022)"
   ]
  },
  {
   "cell_type": "code",
   "execution_count": 51,
   "id": "8648c8b2",
   "metadata": {},
   "outputs": [
    {
     "data": {
      "text/plain": [
       "<__main__.student at 0x24d2902b040>"
      ]
     },
     "execution_count": 51,
     "metadata": {},
     "output_type": "execute_result"
    }
   ],
   "source": [
    "uday"
   ]
  },
  {
   "cell_type": "code",
   "execution_count": 52,
   "id": "c5848630",
   "metadata": {},
   "outputs": [
    {
     "name": "stdout",
     "output_type": "stream",
     "text": [
      "This is my student class\n"
     ]
    }
   ],
   "source": [
    "print(uday)"
   ]
  },
  {
   "cell_type": "code",
   "execution_count": 56,
   "id": "4dac5e76",
   "metadata": {},
   "outputs": [
    {
     "data": {
      "text/plain": [
       "1234"
      ]
     },
     "execution_count": 56,
     "metadata": {},
     "output_type": "execute_result"
    }
   ],
   "source": [
    "uday.getrollno()"
   ]
  },
  {
   "cell_type": "code",
   "execution_count": 63,
   "id": "ede06669",
   "metadata": {},
   "outputs": [],
   "source": [
    "kiran =student(\"Kiran\",\"1234\",2020,\"OOPs\")"
   ]
  },
  {
   "cell_type": "code",
   "execution_count": 64,
   "id": "ee3ee3eb",
   "metadata": {},
   "outputs": [
    {
     "name": "stdout",
     "output_type": "stream",
     "text": [
      "Do nothing\n"
     ]
    }
   ],
   "source": [
    "kiran.getrollno()"
   ]
  },
  {
   "cell_type": "code",
   "execution_count": 66,
   "id": "4c2f2780",
   "metadata": {},
   "outputs": [],
   "source": [
    "uk=student([\"uday\",\"kiran\",\"Rao\"],123,2034,\"Name parsing\")"
   ]
  },
  {
   "cell_type": "code",
   "execution_count": 67,
   "id": "03b677e8",
   "metadata": {},
   "outputs": [
    {
     "data": {
      "text/plain": [
       "['uday', 'kiran', 'Rao']"
      ]
     },
     "execution_count": 67,
     "metadata": {},
     "output_type": "execute_result"
    }
   ],
   "source": [
    "uk.name"
   ]
  },
  {
   "cell_type": "code",
   "execution_count": 68,
   "id": "89812cf5",
   "metadata": {},
   "outputs": [
    {
     "name": "stdout",
     "output_type": "stream",
     "text": [
      "name of the student is  uday\n",
      "name of the student is  kiran\n",
      "name of the student is  Rao\n"
     ]
    }
   ],
   "source": [
    "uk.name_Parsing()"
   ]
  },
  {
   "cell_type": "code",
   "execution_count": 55,
   "id": "64905e76",
   "metadata": {},
   "outputs": [],
   "source": [
    "import logging as lg\n",
    "lg.basicConfig(filename=\"datafilelog\",level=lg.INFO,format='%(asctime)s %(message)s')\n",
    "\n",
    "class data:\n",
    "    def __init__(self,filename,filetype,date,size):\n",
    "        self.filename=filename\n",
    "        self.filetype=filetype\n",
    "        self.date=date\n",
    "        self.size=size\n",
    "    def __str__(c):\n",
    "        return \"This is the data class\"\n",
    "    def mylog(self,log):\n",
    "        try:\n",
    "            lg.info(log)\n",
    "        except Exception as e:\n",
    "            print(\"Error in writing logs \",e)\n",
    "    def file_open(self):\n",
    "        try:\n",
    "            if type(self.filename)==list:\n",
    "                for i in self.filename:\n",
    "                    f=open(i,\"w\")\n",
    "                    f.write(\"This is my filename\"+str(i))\n",
    "                    f.close()\n",
    "            else:\n",
    "                f=open(self.filename,\"w\")\n",
    "                f.write(\"This is my filename\"+str(self.filename))\n",
    "                f.close()\n",
    "        except Exception as e:\n",
    "            print(\"Error message \",e)\n",
    "            try:\n",
    "                self.mylog(str(e))\n",
    "            except Exception as e:\n",
    "                print(\"nested exception msg \",e)\n",
    "                       \n",
    "    def file_read(self):\n",
    "        try:\n",
    "            if type(self.filename)==list:\n",
    "                for i in self.filename:\n",
    "                    f=open(i,\"r\")\n",
    "                    f.read()\n",
    "                    f.close()\n",
    "            else:\n",
    "                f=open(self.filename,\"r\")\n",
    "                f.read()\n",
    "                f.close()\n",
    "        except Exception as e:\n",
    "            print(\"Error message \",e)\n",
    "            try:\n",
    "                self.mylog(str(e))\n",
    "            except Exception as e:\n",
    "                print(\"nested exception msg \",e)\n",
    "                       \n",
    "    def file_append(self):\n",
    "        try:\n",
    "            if type(self.filename)==list:\n",
    "                for i in self.filename:\n",
    "                    f=open(i,\"a\")\n",
    "                    f.write(\"I am appending.\")\n",
    "                    f.close()\n",
    "            else:\n",
    "                f=open(self.filename,\"a\")\n",
    "                f.write(\"I am appending.\")\n",
    "                f.close()\n",
    "        except Exception as e:\n",
    "            print(\"Error message \",e)\n",
    "            try:\n",
    "                self.mylog(str(e))\n",
    "            except Exception as e:\n",
    "                print(\"nested exception msg \",e)\n"
   ]
  },
  {
   "cell_type": "code",
   "execution_count": 6,
   "id": "0e0f1eb3",
   "metadata": {},
   "outputs": [],
   "source": [
    "file1= data(\"file1\",\"text\",2021,200)"
   ]
  },
  {
   "cell_type": "code",
   "execution_count": 7,
   "id": "3caf3600",
   "metadata": {},
   "outputs": [],
   "source": [
    "file1.file_open()"
   ]
  },
  {
   "cell_type": "code",
   "execution_count": 8,
   "id": "1fb6676b",
   "metadata": {},
   "outputs": [],
   "source": [
    "file1.file_read()"
   ]
  },
  {
   "cell_type": "code",
   "execution_count": 9,
   "id": "d5d42ca6",
   "metadata": {},
   "outputs": [],
   "source": [
    "file1.file_append()"
   ]
  },
  {
   "cell_type": "code",
   "execution_count": 42,
   "id": "3efa4d62",
   "metadata": {},
   "outputs": [],
   "source": [
    "uday= data((\"x\",\"y\",\"z\"),\"text\",2021,200)"
   ]
  },
  {
   "cell_type": "code",
   "execution_count": 56,
   "id": "c3681927",
   "metadata": {},
   "outputs": [],
   "source": [
    "uday2= data((\"x\",\"y\",\"z\"),\"text\",2021,200)"
   ]
  },
  {
   "cell_type": "code",
   "execution_count": 57,
   "id": "a3f4999f",
   "metadata": {},
   "outputs": [
    {
     "name": "stdout",
     "output_type": "stream",
     "text": [
      "Error message  expected str, bytes or os.PathLike object, not tuple\n"
     ]
    }
   ],
   "source": [
    "uday2.file_open()"
   ]
  },
  {
   "cell_type": "code",
   "execution_count": 60,
   "id": "b8e4eaaa",
   "metadata": {},
   "outputs": [
    {
     "name": "stdout",
     "output_type": "stream",
     "text": [
      "Error message  expected str, bytes or os.PathLike object, not tuple\n"
     ]
    }
   ],
   "source": [
    "uday2.file_read()"
   ]
  },
  {
   "cell_type": "code",
   "execution_count": null,
   "id": "b6a3f651",
   "metadata": {},
   "outputs": [],
   "source": []
  }
 ],
 "metadata": {
  "kernelspec": {
   "display_name": "Python 3 (ipykernel)",
   "language": "python",
   "name": "python3"
  },
  "language_info": {
   "codemirror_mode": {
    "name": "ipython",
    "version": 3
   },
   "file_extension": ".py",
   "mimetype": "text/x-python",
   "name": "python",
   "nbconvert_exporter": "python",
   "pygments_lexer": "ipython3",
   "version": "3.9.7"
  }
 },
 "nbformat": 4,
 "nbformat_minor": 5
}
